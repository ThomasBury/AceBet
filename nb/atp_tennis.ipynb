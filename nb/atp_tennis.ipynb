{
 "cells": [
  {
   "attachments": {},
   "cell_type": "markdown",
   "metadata": {},
   "source": [
    "<h1 align=\"center\">🎾 - Tennis Betting 👨‍💻🔬</h1>\n",
    "\n",
    "<h2 align=\"center\">EDA</h2>\n",
    "<p style=\"text-align:center\">\n",
    "   Thomas Bury & Vilius Jaseliunas<br>\n",
    "   Allianz<br>\n",
    "</p>\n",
    "\n",
    "# Database"
   ]
  },
  {
   "cell_type": "code",
   "execution_count": 1,
   "metadata": {},
   "outputs": [
    {
     "name": "stderr",
     "output_type": "stream",
     "text": [
      "/home/bsatom/mambaforge-pypy3/envs/acebet/lib/python3.11/site-packages/shap/utils/_clustering.py:34: NumbaDeprecationWarning: \u001b[1mThe 'nopython' keyword argument was not supplied to the 'numba.jit' decorator. The implicit default value for this argument is currently False, but it will be changed to True in Numba 0.59.0. See https://numba.readthedocs.io/en/stable/reference/deprecation.html#deprecation-of-object-mode-fall-back-behaviour-when-using-jit for details.\u001b[0m\n",
      "  @jit\n",
      "/home/bsatom/mambaforge-pypy3/envs/acebet/lib/python3.11/site-packages/shap/utils/_clustering.py:53: NumbaDeprecationWarning: \u001b[1mThe 'nopython' keyword argument was not supplied to the 'numba.jit' decorator. The implicit default value for this argument is currently False, but it will be changed to True in Numba 0.59.0. See https://numba.readthedocs.io/en/stable/reference/deprecation.html#deprecation-of-object-mode-fall-back-behaviour-when-using-jit for details.\u001b[0m\n",
      "  @jit\n",
      "/home/bsatom/mambaforge-pypy3/envs/acebet/lib/python3.11/site-packages/shap/utils/_clustering.py:62: NumbaDeprecationWarning: \u001b[1mThe 'nopython' keyword argument was not supplied to the 'numba.jit' decorator. The implicit default value for this argument is currently False, but it will be changed to True in Numba 0.59.0. See https://numba.readthedocs.io/en/stable/reference/deprecation.html#deprecation-of-object-mode-fall-back-behaviour-when-using-jit for details.\u001b[0m\n",
      "  @jit\n",
      "/home/bsatom/mambaforge-pypy3/envs/acebet/lib/python3.11/site-packages/shap/utils/_clustering.py:68: NumbaDeprecationWarning: \u001b[1mThe 'nopython' keyword argument was not supplied to the 'numba.jit' decorator. The implicit default value for this argument is currently False, but it will be changed to True in Numba 0.59.0. See https://numba.readthedocs.io/en/stable/reference/deprecation.html#deprecation-of-object-mode-fall-back-behaviour-when-using-jit for details.\u001b[0m\n",
      "  @jit\n",
      "/home/bsatom/mambaforge-pypy3/envs/acebet/lib/python3.11/site-packages/shap/utils/_clustering.py:76: NumbaDeprecationWarning: \u001b[1mThe 'nopython' keyword argument was not supplied to the 'numba.jit' decorator. The implicit default value for this argument is currently False, but it will be changed to True in Numba 0.59.0. See https://numba.readthedocs.io/en/stable/reference/deprecation.html#deprecation-of-object-mode-fall-back-behaviour-when-using-jit for details.\u001b[0m\n",
      "  @jit\n",
      "/home/bsatom/mambaforge-pypy3/envs/acebet/lib/python3.11/site-packages/shap/links.py:4: NumbaDeprecationWarning: \u001b[1mThe 'nopython' keyword argument was not supplied to the 'numba.jit' decorator. The implicit default value for this argument is currently False, but it will be changed to True in Numba 0.59.0. See https://numba.readthedocs.io/en/stable/reference/deprecation.html#deprecation-of-object-mode-fall-back-behaviour-when-using-jit for details.\u001b[0m\n",
      "  @numba.jit\n",
      "/home/bsatom/mambaforge-pypy3/envs/acebet/lib/python3.11/site-packages/shap/links.py:9: NumbaDeprecationWarning: \u001b[1mThe 'nopython' keyword argument was not supplied to the 'numba.jit' decorator. The implicit default value for this argument is currently False, but it will be changed to True in Numba 0.59.0. See https://numba.readthedocs.io/en/stable/reference/deprecation.html#deprecation-of-object-mode-fall-back-behaviour-when-using-jit for details.\u001b[0m\n",
      "  @numba.jit\n",
      "/home/bsatom/mambaforge-pypy3/envs/acebet/lib/python3.11/site-packages/shap/links.py:14: NumbaDeprecationWarning: \u001b[1mThe 'nopython' keyword argument was not supplied to the 'numba.jit' decorator. The implicit default value for this argument is currently False, but it will be changed to True in Numba 0.59.0. See https://numba.readthedocs.io/en/stable/reference/deprecation.html#deprecation-of-object-mode-fall-back-behaviour-when-using-jit for details.\u001b[0m\n",
      "  @numba.jit\n",
      "/home/bsatom/mambaforge-pypy3/envs/acebet/lib/python3.11/site-packages/shap/links.py:19: NumbaDeprecationWarning: \u001b[1mThe 'nopython' keyword argument was not supplied to the 'numba.jit' decorator. The implicit default value for this argument is currently False, but it will be changed to True in Numba 0.59.0. See https://numba.readthedocs.io/en/stable/reference/deprecation.html#deprecation-of-object-mode-fall-back-behaviour-when-using-jit for details.\u001b[0m\n",
      "  @numba.jit\n",
      "/home/bsatom/mambaforge-pypy3/envs/acebet/lib/python3.11/site-packages/shap/utils/_masked_model.py:362: NumbaDeprecationWarning: \u001b[1mThe 'nopython' keyword argument was not supplied to the 'numba.jit' decorator. The implicit default value for this argument is currently False, but it will be changed to True in Numba 0.59.0. See https://numba.readthedocs.io/en/stable/reference/deprecation.html#deprecation-of-object-mode-fall-back-behaviour-when-using-jit for details.\u001b[0m\n",
      "  @jit # we can't use this when using a custom link function...\n",
      "/home/bsatom/mambaforge-pypy3/envs/acebet/lib/python3.11/site-packages/shap/utils/_masked_model.py:384: NumbaDeprecationWarning: \u001b[1mThe 'nopython' keyword argument was not supplied to the 'numba.jit' decorator. The implicit default value for this argument is currently False, but it will be changed to True in Numba 0.59.0. See https://numba.readthedocs.io/en/stable/reference/deprecation.html#deprecation-of-object-mode-fall-back-behaviour-when-using-jit for details.\u001b[0m\n",
      "  @jit\n",
      "/home/bsatom/mambaforge-pypy3/envs/acebet/lib/python3.11/site-packages/shap/utils/_masked_model.py:427: NumbaDeprecationWarning: \u001b[1mThe 'nopython' keyword argument was not supplied to the 'numba.jit' decorator. The implicit default value for this argument is currently False, but it will be changed to True in Numba 0.59.0. See https://numba.readthedocs.io/en/stable/reference/deprecation.html#deprecation-of-object-mode-fall-back-behaviour-when-using-jit for details.\u001b[0m\n",
      "  @jit\n",
      "/home/bsatom/mambaforge-pypy3/envs/acebet/lib/python3.11/site-packages/shap/utils/_masked_model.py:438: NumbaDeprecationWarning: \u001b[1mThe 'nopython' keyword argument was not supplied to the 'numba.jit' decorator. The implicit default value for this argument is currently False, but it will be changed to True in Numba 0.59.0. See https://numba.readthedocs.io/en/stable/reference/deprecation.html#deprecation-of-object-mode-fall-back-behaviour-when-using-jit for details.\u001b[0m\n",
      "  @jit\n",
      "/home/bsatom/mambaforge-pypy3/envs/acebet/lib/python3.11/site-packages/shap/maskers/_tabular.py:185: NumbaDeprecationWarning: \u001b[1mThe 'nopython' keyword argument was not supplied to the 'numba.jit' decorator. The implicit default value for this argument is currently False, but it will be changed to True in Numba 0.59.0. See https://numba.readthedocs.io/en/stable/reference/deprecation.html#deprecation-of-object-mode-fall-back-behaviour-when-using-jit for details.\u001b[0m\n",
      "  @jit\n",
      "/home/bsatom/mambaforge-pypy3/envs/acebet/lib/python3.11/site-packages/shap/maskers/_tabular.py:196: NumbaDeprecationWarning: \u001b[1mThe 'nopython' keyword argument was not supplied to the 'numba.jit' decorator. The implicit default value for this argument is currently False, but it will be changed to True in Numba 0.59.0. See https://numba.readthedocs.io/en/stable/reference/deprecation.html#deprecation-of-object-mode-fall-back-behaviour-when-using-jit for details.\u001b[0m\n",
      "  @jit\n",
      "/home/bsatom/mambaforge-pypy3/envs/acebet/lib/python3.11/site-packages/shap/maskers/_image.py:174: NumbaDeprecationWarning: \u001b[1mThe 'nopython' keyword argument was not supplied to the 'numba.jit' decorator. The implicit default value for this argument is currently False, but it will be changed to True in Numba 0.59.0. See https://numba.readthedocs.io/en/stable/reference/deprecation.html#deprecation-of-object-mode-fall-back-behaviour-when-using-jit for details.\u001b[0m\n",
      "  @jit\n",
      "/home/bsatom/mambaforge-pypy3/envs/acebet/lib/python3.11/site-packages/shap/explainers/_partition.py:675: NumbaDeprecationWarning: \u001b[1mThe 'nopython' keyword argument was not supplied to the 'numba.jit' decorator. The implicit default value for this argument is currently False, but it will be changed to True in Numba 0.59.0. See https://numba.readthedocs.io/en/stable/reference/deprecation.html#deprecation-of-object-mode-fall-back-behaviour-when-using-jit for details.\u001b[0m\n",
      "  @jit\n",
      "\u001b[1mThe 'nopython' keyword argument was not supplied to the 'numba.jit' decorator. The implicit default value for this argument is currently False, but it will be changed to True in Numba 0.59.0. See https://numba.readthedocs.io/en/stable/reference/deprecation.html#deprecation-of-object-mode-fall-back-behaviour-when-using-jit for details.\u001b[0m\n",
      "\u001b[1mThe 'nopython' keyword argument was not supplied to the 'numba.jit' decorator. The implicit default value for this argument is currently False, but it will be changed to True in Numba 0.59.0. See https://numba.readthedocs.io/en/stable/reference/deprecation.html#deprecation-of-object-mode-fall-back-behaviour-when-using-jit for details.\u001b[0m\n"
     ]
    },
    {
     "data": {
      "text/html": [
       "<div>\n",
       "<style scoped>\n",
       "    .dataframe tbody tr th:only-of-type {\n",
       "        vertical-align: middle;\n",
       "    }\n",
       "\n",
       "    .dataframe tbody tr th {\n",
       "        vertical-align: top;\n",
       "    }\n",
       "\n",
       "    .dataframe thead th {\n",
       "        text-align: right;\n",
       "    }\n",
       "</style>\n",
       "<table border=\"1\" class=\"dataframe\">\n",
       "  <thead>\n",
       "    <tr style=\"text-align: right;\">\n",
       "      <th></th>\n",
       "      <th>ATP</th>\n",
       "      <th>Location</th>\n",
       "      <th>Tournament</th>\n",
       "      <th>Date</th>\n",
       "      <th>Series</th>\n",
       "      <th>Court</th>\n",
       "      <th>Surface</th>\n",
       "      <th>Round</th>\n",
       "      <th>Best of</th>\n",
       "      <th>Winner</th>\n",
       "      <th>...</th>\n",
       "      <th>Wsets</th>\n",
       "      <th>Lsets</th>\n",
       "      <th>Comment</th>\n",
       "      <th>PSW</th>\n",
       "      <th>PSL</th>\n",
       "      <th>B365W</th>\n",
       "      <th>B365L</th>\n",
       "      <th>elo_winner</th>\n",
       "      <th>elo_loser</th>\n",
       "      <th>proba_elo</th>\n",
       "    </tr>\n",
       "  </thead>\n",
       "  <tbody>\n",
       "    <tr>\n",
       "      <th>0</th>\n",
       "      <td>1</td>\n",
       "      <td>Adelaide</td>\n",
       "      <td>Australian Hardcourt Championships</td>\n",
       "      <td>2000-01-03</td>\n",
       "      <td>International</td>\n",
       "      <td>Outdoor</td>\n",
       "      <td>Hard</td>\n",
       "      <td>1st Round</td>\n",
       "      <td>3</td>\n",
       "      <td>Dosedel S.</td>\n",
       "      <td>...</td>\n",
       "      <td>2.0</td>\n",
       "      <td>0.0</td>\n",
       "      <td>Completed</td>\n",
       "      <td>NaN</td>\n",
       "      <td>NaN</td>\n",
       "      <td>NaN</td>\n",
       "      <td>NaN</td>\n",
       "      <td>1500.0</td>\n",
       "      <td>1500.0</td>\n",
       "      <td>0.5</td>\n",
       "    </tr>\n",
       "    <tr>\n",
       "      <th>1</th>\n",
       "      <td>3</td>\n",
       "      <td>Doha</td>\n",
       "      <td>Qatar Open</td>\n",
       "      <td>2000-01-03</td>\n",
       "      <td>International</td>\n",
       "      <td>Outdoor</td>\n",
       "      <td>Hard</td>\n",
       "      <td>1st Round</td>\n",
       "      <td>3</td>\n",
       "      <td>Kiefer N.</td>\n",
       "      <td>...</td>\n",
       "      <td>2.0</td>\n",
       "      <td>0.0</td>\n",
       "      <td>Completed</td>\n",
       "      <td>NaN</td>\n",
       "      <td>NaN</td>\n",
       "      <td>NaN</td>\n",
       "      <td>NaN</td>\n",
       "      <td>1500.0</td>\n",
       "      <td>1500.0</td>\n",
       "      <td>0.5</td>\n",
       "    </tr>\n",
       "    <tr>\n",
       "      <th>2</th>\n",
       "      <td>3</td>\n",
       "      <td>Doha</td>\n",
       "      <td>Qatar Open</td>\n",
       "      <td>2000-01-03</td>\n",
       "      <td>International</td>\n",
       "      <td>Outdoor</td>\n",
       "      <td>Hard</td>\n",
       "      <td>1st Round</td>\n",
       "      <td>3</td>\n",
       "      <td>Gaudio G.</td>\n",
       "      <td>...</td>\n",
       "      <td>2.0</td>\n",
       "      <td>1.0</td>\n",
       "      <td>Completed</td>\n",
       "      <td>NaN</td>\n",
       "      <td>NaN</td>\n",
       "      <td>NaN</td>\n",
       "      <td>NaN</td>\n",
       "      <td>1500.0</td>\n",
       "      <td>1500.0</td>\n",
       "      <td>0.5</td>\n",
       "    </tr>\n",
       "    <tr>\n",
       "      <th>3</th>\n",
       "      <td>3</td>\n",
       "      <td>Doha</td>\n",
       "      <td>Qatar Open</td>\n",
       "      <td>2000-01-03</td>\n",
       "      <td>International</td>\n",
       "      <td>Outdoor</td>\n",
       "      <td>Hard</td>\n",
       "      <td>1st Round</td>\n",
       "      <td>3</td>\n",
       "      <td>El Aynaoui Y.</td>\n",
       "      <td>...</td>\n",
       "      <td>2.0</td>\n",
       "      <td>1.0</td>\n",
       "      <td>Completed</td>\n",
       "      <td>NaN</td>\n",
       "      <td>NaN</td>\n",
       "      <td>NaN</td>\n",
       "      <td>NaN</td>\n",
       "      <td>1500.0</td>\n",
       "      <td>1500.0</td>\n",
       "      <td>0.5</td>\n",
       "    </tr>\n",
       "    <tr>\n",
       "      <th>4</th>\n",
       "      <td>3</td>\n",
       "      <td>Doha</td>\n",
       "      <td>Qatar Open</td>\n",
       "      <td>2000-01-03</td>\n",
       "      <td>International</td>\n",
       "      <td>Outdoor</td>\n",
       "      <td>Hard</td>\n",
       "      <td>1st Round</td>\n",
       "      <td>3</td>\n",
       "      <td>Cherkasov A.</td>\n",
       "      <td>...</td>\n",
       "      <td>2.0</td>\n",
       "      <td>0.0</td>\n",
       "      <td>Completed</td>\n",
       "      <td>NaN</td>\n",
       "      <td>NaN</td>\n",
       "      <td>NaN</td>\n",
       "      <td>NaN</td>\n",
       "      <td>1500.0</td>\n",
       "      <td>1500.0</td>\n",
       "      <td>0.5</td>\n",
       "    </tr>\n",
       "  </tbody>\n",
       "</table>\n",
       "<p>5 rows × 23 columns</p>\n",
       "</div>"
      ],
      "text/plain": [
       "   ATP  Location                          Tournament       Date  \\\n",
       "0    1  Adelaide  Australian Hardcourt Championships 2000-01-03   \n",
       "1    3      Doha                          Qatar Open 2000-01-03   \n",
       "2    3      Doha                          Qatar Open 2000-01-03   \n",
       "3    3      Doha                          Qatar Open 2000-01-03   \n",
       "4    3      Doha                          Qatar Open 2000-01-03   \n",
       "\n",
       "          Series    Court Surface      Round  Best of         Winner  ...  \\\n",
       "0  International  Outdoor    Hard  1st Round        3     Dosedel S.  ...   \n",
       "1  International  Outdoor    Hard  1st Round        3      Kiefer N.  ...   \n",
       "2  International  Outdoor    Hard  1st Round        3      Gaudio G.  ...   \n",
       "3  International  Outdoor    Hard  1st Round        3  El Aynaoui Y.  ...   \n",
       "4  International  Outdoor    Hard  1st Round        3   Cherkasov A.  ...   \n",
       "\n",
       "  Wsets  Lsets    Comment  PSW  PSL B365W  B365L  elo_winner  elo_loser  \\\n",
       "0   2.0    0.0  Completed  NaN  NaN   NaN    NaN      1500.0     1500.0   \n",
       "1   2.0    0.0  Completed  NaN  NaN   NaN    NaN      1500.0     1500.0   \n",
       "2   2.0    1.0  Completed  NaN  NaN   NaN    NaN      1500.0     1500.0   \n",
       "3   2.0    1.0  Completed  NaN  NaN   NaN    NaN      1500.0     1500.0   \n",
       "4   2.0    0.0  Completed  NaN  NaN   NaN    NaN      1500.0     1500.0   \n",
       "\n",
       "   proba_elo  \n",
       "0        0.5  \n",
       "1        0.5  \n",
       "2        0.5  \n",
       "3        0.5  \n",
       "4        0.5  \n",
       "\n",
       "[5 rows x 23 columns]"
      ]
     },
     "execution_count": 1,
     "metadata": {},
     "output_type": "execute_result"
    }
   ],
   "source": [
    "import pandas as pd\n",
    "from lightgbm import LGBMClassifier\n",
    "from xgboost import XGBClassifier\n",
    "from catboost import CatBoostClassifier\n",
    "from sklearn.pipeline import Pipeline\n",
    "from sklearn.impute import SimpleImputer\n",
    "from sklearn.ensemble import RandomForestClassifier, HistGradientBoostingClassifier\n",
    "from sklearn.model_selection import TimeSeriesSplit\n",
    "from sklearn.metrics import classification_report, accuracy_score, roc_auc_score\n",
    "from arfs.preprocessing import OrdinalEncoderPandas\n",
    "from arfs.feature_selection import (\n",
    "    Leshy,\n",
    "    MissingValueThreshold,\n",
    "    UniqueValuesThreshold,\n",
    "    CollinearityThreshold,\n",
    "    VariableImportance,\n",
    "    make_fs_summary\n",
    ")\n",
    "\n",
    "data = pd.read_csv(\"../data/atp_data.csv\", low_memory=False)\n",
    "data['Date'] = pd.to_datetime(data['Date'])\n",
    "data.sort_values('Date')\n",
    "data.head()\n"
   ]
  },
  {
   "cell_type": "code",
   "execution_count": 2,
   "metadata": {},
   "outputs": [
    {
     "data": {
      "text/plain": [
       "Index(['ATP', 'Location', 'Tournament', 'Date', 'Series', 'Court', 'Surface',\n",
       "       'Round', 'Best of', 'Winner', 'Loser', 'WRank', 'LRank', 'Wsets',\n",
       "       'Lsets', 'Comment', 'PSW', 'PSL', 'B365W', 'B365L', 'elo_winner',\n",
       "       'elo_loser', 'proba_elo'],\n",
       "      dtype='object')"
      ]
     },
     "execution_count": 2,
     "metadata": {},
     "output_type": "execute_result"
    }
   ],
   "source": [
    "data.columns"
   ]
  },
  {
   "cell_type": "code",
   "execution_count": 3,
   "metadata": {},
   "outputs": [
    {
     "name": "stdout",
     "output_type": "stream",
     "text": [
      "<class 'pandas.core.frame.DataFrame'>\n",
      "RangeIndex: 44708 entries, 0 to 44707\n",
      "Data columns (total 23 columns):\n",
      " #   Column      Non-Null Count  Dtype         \n",
      "---  ------      --------------  -----         \n",
      " 0   ATP         44708 non-null  int64         \n",
      " 1   Location    44708 non-null  object        \n",
      " 2   Tournament  44708 non-null  object        \n",
      " 3   Date        44708 non-null  datetime64[ns]\n",
      " 4   Series      44708 non-null  object        \n",
      " 5   Court       44708 non-null  object        \n",
      " 6   Surface     44708 non-null  object        \n",
      " 7   Round       44708 non-null  object        \n",
      " 8   Best of     44708 non-null  int64         \n",
      " 9   Winner      44708 non-null  object        \n",
      " 10  Loser       44708 non-null  object        \n",
      " 11  WRank       44708 non-null  int64         \n",
      " 12  LRank       44708 non-null  int64         \n",
      " 13  Wsets       44521 non-null  float64       \n",
      " 14  Lsets       44521 non-null  float64       \n",
      " 15  Comment     44708 non-null  object        \n",
      " 16  PSW         32743 non-null  float64       \n",
      " 17  PSL         32743 non-null  float64       \n",
      " 18  B365W       39037 non-null  float64       \n",
      " 19  B365L       39057 non-null  float64       \n",
      " 20  elo_winner  44708 non-null  float64       \n",
      " 21  elo_loser   44708 non-null  float64       \n",
      " 22  proba_elo   44708 non-null  float64       \n",
      "dtypes: datetime64[ns](1), float64(9), int64(4), object(9)\n",
      "memory usage: 7.8+ MB\n"
     ]
    }
   ],
   "source": [
    "data.info()"
   ]
  },
  {
   "attachments": {},
   "cell_type": "markdown",
   "metadata": {},
   "source": [
    "Is the best ranked player the winner?"
   ]
  },
  {
   "cell_type": "code",
   "execution_count": 4,
   "metadata": {},
   "outputs": [
    {
     "data": {
      "text/plain": [
       "65.60570815066654"
      ]
     },
     "execution_count": 4,
     "metadata": {},
     "output_type": "execute_result"
    }
   ],
   "source": [
    "100 * (data[\"WRank\"] < data[\"LRank\"]).sum() / len(data)"
   ]
  },
  {
   "attachments": {},
   "cell_type": "markdown",
   "metadata": {},
   "source": [
    "we need to drop the number of sets won since it identifies almost 100% of the winner."
   ]
  },
  {
   "cell_type": "code",
   "execution_count": 5,
   "metadata": {},
   "outputs": [
    {
     "data": {
      "text/plain": [
       "98.21284781247203"
      ]
     },
     "execution_count": 5,
     "metadata": {},
     "output_type": "execute_result"
    }
   ],
   "source": [
    "100 * (data[\"Wsets\"] > data[\"Lsets\"]).sum() / len(data)"
   ]
  },
  {
   "attachments": {},
   "cell_type": "markdown",
   "metadata": {},
   "source": [
    "# Renaming columns\n",
    "\n",
    "To avoid obvious data leakage, rename the columns by replacing the W by P1 and L by P2. Then permute P1 and P2 1 every two rows (preventing the winner to be always P1).\n",
    "\n",
    "**REM:** \n",
    "\n",
    " - need to drop the number of sets won\n",
    " - need to compute the complementary elo probability since there is a single elo probability column, corresponding to the winning probability of the player who effectively won the game."
   ]
  },
  {
   "cell_type": "code",
   "execution_count": 6,
   "metadata": {},
   "outputs": [
    {
     "name": "stdout",
     "output_type": "stream",
     "text": [
      "Index(['atp', 'location', 'tournament', 'date', 'series', 'court', 'surface',\n",
      "       'round', 'best of', 'p1', 'p2', 'rank_p1', 'rank_p2', 'sets_p1',\n",
      "       'sets_p2', 'comment', 'ps_p1', 'ps_p2', 'b365_p1', 'b365_p2', 'elo_p1',\n",
      "       'elo_p2', 'proba_elo'],\n",
      "      dtype='object')\n"
     ]
    }
   ],
   "source": [
    "df = data.copy()\n",
    "df.columns = df.columns.str.lower()\n",
    "df.rename(columns={'wrank': 'rank_p1', \n",
    "                   'lrank': 'rank_p2',\n",
    "                   'wsets': 'sets_p1',\n",
    "                   'lsets': 'sets_p2',\n",
    "                   'psw': 'ps_p1',\n",
    "                   'psl': 'ps_p2', \n",
    "                   'b365w': 'b365_p1',\n",
    "                   'b365l': 'b365_p2'},\n",
    "          inplace=True)\n",
    "df.columns = df.columns.str.lower()\n",
    "df.rename(columns=lambda x: x.replace('winner', 'p1').replace('loser', 'p2'), inplace=True)\n",
    "# Print the modified column names\n",
    "print(df.columns)\n"
   ]
  },
  {
   "cell_type": "code",
   "execution_count": 7,
   "metadata": {},
   "outputs": [
    {
     "data": {
      "text/html": [
       "<div>\n",
       "<style scoped>\n",
       "    .dataframe tbody tr th:only-of-type {\n",
       "        vertical-align: middle;\n",
       "    }\n",
       "\n",
       "    .dataframe tbody tr th {\n",
       "        vertical-align: top;\n",
       "    }\n",
       "\n",
       "    .dataframe thead th {\n",
       "        text-align: right;\n",
       "    }\n",
       "</style>\n",
       "<table border=\"1\" class=\"dataframe\">\n",
       "  <thead>\n",
       "    <tr style=\"text-align: right;\">\n",
       "      <th></th>\n",
       "      <th>p1</th>\n",
       "      <th>p2</th>\n",
       "    </tr>\n",
       "  </thead>\n",
       "  <tbody>\n",
       "    <tr>\n",
       "      <th>0</th>\n",
       "      <td>Dosedel S.</td>\n",
       "      <td>Ljubicic I.</td>\n",
       "    </tr>\n",
       "    <tr>\n",
       "      <th>1</th>\n",
       "      <td>Kiefer N.</td>\n",
       "      <td>Tarango J.</td>\n",
       "    </tr>\n",
       "    <tr>\n",
       "      <th>2</th>\n",
       "      <td>Gaudio G.</td>\n",
       "      <td>Luxa P.</td>\n",
       "    </tr>\n",
       "    <tr>\n",
       "      <th>3</th>\n",
       "      <td>El Aynaoui Y.</td>\n",
       "      <td>Dupuis A.</td>\n",
       "    </tr>\n",
       "    <tr>\n",
       "      <th>4</th>\n",
       "      <td>Cherkasov A.</td>\n",
       "      <td>Arazi H.</td>\n",
       "    </tr>\n",
       "    <tr>\n",
       "      <th>...</th>\n",
       "      <td>...</td>\n",
       "      <td>...</td>\n",
       "    </tr>\n",
       "    <tr>\n",
       "      <th>44703</th>\n",
       "      <td>Bautista Agut R.</td>\n",
       "      <td>Pouille L.</td>\n",
       "    </tr>\n",
       "    <tr>\n",
       "      <th>44704</th>\n",
       "      <td>Anderson K.</td>\n",
       "      <td>Donaldson J.</td>\n",
       "    </tr>\n",
       "    <tr>\n",
       "      <th>44705</th>\n",
       "      <td>Jarry N.</td>\n",
       "      <td>Zeballos H.</td>\n",
       "    </tr>\n",
       "    <tr>\n",
       "      <th>44706</th>\n",
       "      <td>Del Potro J.M.</td>\n",
       "      <td>Anderson K.</td>\n",
       "    </tr>\n",
       "    <tr>\n",
       "      <th>44707</th>\n",
       "      <td>Fognini F.</td>\n",
       "      <td>Jarry N.</td>\n",
       "    </tr>\n",
       "  </tbody>\n",
       "</table>\n",
       "<p>44708 rows × 2 columns</p>\n",
       "</div>"
      ],
      "text/plain": [
       "                     p1            p2\n",
       "0            Dosedel S.   Ljubicic I.\n",
       "1             Kiefer N.    Tarango J.\n",
       "2             Gaudio G.       Luxa P.\n",
       "3         El Aynaoui Y.     Dupuis A.\n",
       "4          Cherkasov A.      Arazi H.\n",
       "...                 ...           ...\n",
       "44703  Bautista Agut R.    Pouille L.\n",
       "44704       Anderson K.  Donaldson J.\n",
       "44705          Jarry N.   Zeballos H.\n",
       "44706    Del Potro J.M.   Anderson K.\n",
       "44707        Fognini F.      Jarry N.\n",
       "\n",
       "[44708 rows x 2 columns]"
      ]
     },
     "execution_count": 7,
     "metadata": {},
     "output_type": "execute_result"
    }
   ],
   "source": [
    "df[['p1', 'p2']]"
   ]
  },
  {
   "cell_type": "code",
   "execution_count": 8,
   "metadata": {},
   "outputs": [
    {
     "name": "stdout",
     "output_type": "stream",
     "text": [
      "Columns containing P1:\n",
      "Index(['p1', 'rank_p1', 'sets_p1', 'ps_p1', 'b365_p1', 'elo_p1'], dtype='object')\n",
      "Columns containing P2:\n",
      "Index(['p2', 'rank_p2', 'sets_p2', 'ps_p2', 'b365_p2', 'elo_p2'], dtype='object')\n"
     ]
    }
   ],
   "source": [
    "p1_columns = df.filter(like='p1').columns\n",
    "p2_columns = df.filter(like='p2').columns\n",
    "\n",
    "print(\"Columns containing P1:\")\n",
    "print(p1_columns)\n",
    "\n",
    "print(\"Columns containing P2:\")\n",
    "print(p2_columns)"
   ]
  },
  {
   "attachments": {},
   "cell_type": "markdown",
   "metadata": {},
   "source": [
    "# Shuffling players info"
   ]
  },
  {
   "cell_type": "code",
   "execution_count": 9,
   "metadata": {},
   "outputs": [
    {
     "data": {
      "text/html": [
       "<div>\n",
       "<style scoped>\n",
       "    .dataframe tbody tr th:only-of-type {\n",
       "        vertical-align: middle;\n",
       "    }\n",
       "\n",
       "    .dataframe tbody tr th {\n",
       "        vertical-align: top;\n",
       "    }\n",
       "\n",
       "    .dataframe thead th {\n",
       "        text-align: right;\n",
       "    }\n",
       "</style>\n",
       "<table border=\"1\" class=\"dataframe\">\n",
       "  <thead>\n",
       "    <tr style=\"text-align: right;\">\n",
       "      <th></th>\n",
       "      <th>atp</th>\n",
       "      <th>location</th>\n",
       "      <th>tournament</th>\n",
       "      <th>date</th>\n",
       "      <th>series</th>\n",
       "      <th>court</th>\n",
       "      <th>surface</th>\n",
       "      <th>round</th>\n",
       "      <th>best of</th>\n",
       "      <th>p1</th>\n",
       "      <th>...</th>\n",
       "      <th>sets_p2</th>\n",
       "      <th>comment</th>\n",
       "      <th>ps_p1</th>\n",
       "      <th>ps_p2</th>\n",
       "      <th>b365_p1</th>\n",
       "      <th>b365_p2</th>\n",
       "      <th>elo_p1</th>\n",
       "      <th>elo_p2</th>\n",
       "      <th>proba_elo</th>\n",
       "      <th>target</th>\n",
       "    </tr>\n",
       "  </thead>\n",
       "  <tbody>\n",
       "    <tr>\n",
       "      <th>0</th>\n",
       "      <td>1</td>\n",
       "      <td>Adelaide</td>\n",
       "      <td>Australian Hardcourt Championships</td>\n",
       "      <td>2000-01-03</td>\n",
       "      <td>International</td>\n",
       "      <td>Outdoor</td>\n",
       "      <td>Hard</td>\n",
       "      <td>1st Round</td>\n",
       "      <td>3</td>\n",
       "      <td>Dosedel S.</td>\n",
       "      <td>...</td>\n",
       "      <td>0.0</td>\n",
       "      <td>Completed</td>\n",
       "      <td>NaN</td>\n",
       "      <td>NaN</td>\n",
       "      <td>NaN</td>\n",
       "      <td>NaN</td>\n",
       "      <td>1500.0</td>\n",
       "      <td>1500.0</td>\n",
       "      <td>0.5</td>\n",
       "      <td>p1</td>\n",
       "    </tr>\n",
       "    <tr>\n",
       "      <th>1</th>\n",
       "      <td>3</td>\n",
       "      <td>Doha</td>\n",
       "      <td>Qatar Open</td>\n",
       "      <td>2000-01-03</td>\n",
       "      <td>International</td>\n",
       "      <td>Outdoor</td>\n",
       "      <td>Hard</td>\n",
       "      <td>1st Round</td>\n",
       "      <td>3</td>\n",
       "      <td>Tarango J.</td>\n",
       "      <td>...</td>\n",
       "      <td>2.0</td>\n",
       "      <td>Completed</td>\n",
       "      <td>NaN</td>\n",
       "      <td>NaN</td>\n",
       "      <td>NaN</td>\n",
       "      <td>NaN</td>\n",
       "      <td>1500.0</td>\n",
       "      <td>1500.0</td>\n",
       "      <td>0.5</td>\n",
       "      <td>p2</td>\n",
       "    </tr>\n",
       "    <tr>\n",
       "      <th>2</th>\n",
       "      <td>3</td>\n",
       "      <td>Doha</td>\n",
       "      <td>Qatar Open</td>\n",
       "      <td>2000-01-03</td>\n",
       "      <td>International</td>\n",
       "      <td>Outdoor</td>\n",
       "      <td>Hard</td>\n",
       "      <td>1st Round</td>\n",
       "      <td>3</td>\n",
       "      <td>Gaudio G.</td>\n",
       "      <td>...</td>\n",
       "      <td>1.0</td>\n",
       "      <td>Completed</td>\n",
       "      <td>NaN</td>\n",
       "      <td>NaN</td>\n",
       "      <td>NaN</td>\n",
       "      <td>NaN</td>\n",
       "      <td>1500.0</td>\n",
       "      <td>1500.0</td>\n",
       "      <td>0.5</td>\n",
       "      <td>p1</td>\n",
       "    </tr>\n",
       "    <tr>\n",
       "      <th>3</th>\n",
       "      <td>3</td>\n",
       "      <td>Doha</td>\n",
       "      <td>Qatar Open</td>\n",
       "      <td>2000-01-03</td>\n",
       "      <td>International</td>\n",
       "      <td>Outdoor</td>\n",
       "      <td>Hard</td>\n",
       "      <td>1st Round</td>\n",
       "      <td>3</td>\n",
       "      <td>Dupuis A.</td>\n",
       "      <td>...</td>\n",
       "      <td>2.0</td>\n",
       "      <td>Completed</td>\n",
       "      <td>NaN</td>\n",
       "      <td>NaN</td>\n",
       "      <td>NaN</td>\n",
       "      <td>NaN</td>\n",
       "      <td>1500.0</td>\n",
       "      <td>1500.0</td>\n",
       "      <td>0.5</td>\n",
       "      <td>p2</td>\n",
       "    </tr>\n",
       "    <tr>\n",
       "      <th>4</th>\n",
       "      <td>3</td>\n",
       "      <td>Doha</td>\n",
       "      <td>Qatar Open</td>\n",
       "      <td>2000-01-03</td>\n",
       "      <td>International</td>\n",
       "      <td>Outdoor</td>\n",
       "      <td>Hard</td>\n",
       "      <td>1st Round</td>\n",
       "      <td>3</td>\n",
       "      <td>Cherkasov A.</td>\n",
       "      <td>...</td>\n",
       "      <td>0.0</td>\n",
       "      <td>Completed</td>\n",
       "      <td>NaN</td>\n",
       "      <td>NaN</td>\n",
       "      <td>NaN</td>\n",
       "      <td>NaN</td>\n",
       "      <td>1500.0</td>\n",
       "      <td>1500.0</td>\n",
       "      <td>0.5</td>\n",
       "      <td>p1</td>\n",
       "    </tr>\n",
       "  </tbody>\n",
       "</table>\n",
       "<p>5 rows × 24 columns</p>\n",
       "</div>"
      ],
      "text/plain": [
       "   atp  location                          tournament       date  \\\n",
       "0    1  Adelaide  Australian Hardcourt Championships 2000-01-03   \n",
       "1    3      Doha                          Qatar Open 2000-01-03   \n",
       "2    3      Doha                          Qatar Open 2000-01-03   \n",
       "3    3      Doha                          Qatar Open 2000-01-03   \n",
       "4    3      Doha                          Qatar Open 2000-01-03   \n",
       "\n",
       "          series    court surface      round  best of            p1  ...  \\\n",
       "0  International  Outdoor    Hard  1st Round        3    Dosedel S.  ...   \n",
       "1  International  Outdoor    Hard  1st Round        3    Tarango J.  ...   \n",
       "2  International  Outdoor    Hard  1st Round        3     Gaudio G.  ...   \n",
       "3  International  Outdoor    Hard  1st Round        3     Dupuis A.  ...   \n",
       "4  International  Outdoor    Hard  1st Round        3  Cherkasov A.  ...   \n",
       "\n",
       "  sets_p2    comment  ps_p1  ps_p2  b365_p1 b365_p2  elo_p1  elo_p2  \\\n",
       "0     0.0  Completed    NaN    NaN      NaN     NaN  1500.0  1500.0   \n",
       "1     2.0  Completed    NaN    NaN      NaN     NaN  1500.0  1500.0   \n",
       "2     1.0  Completed    NaN    NaN      NaN     NaN  1500.0  1500.0   \n",
       "3     2.0  Completed    NaN    NaN      NaN     NaN  1500.0  1500.0   \n",
       "4     0.0  Completed    NaN    NaN      NaN     NaN  1500.0  1500.0   \n",
       "\n",
       "   proba_elo  target  \n",
       "0        0.5      p1  \n",
       "1        0.5      p2  \n",
       "2        0.5      p1  \n",
       "3        0.5      p2  \n",
       "4        0.5      p1  \n",
       "\n",
       "[5 rows x 24 columns]"
      ]
     },
     "execution_count": 9,
     "metadata": {},
     "output_type": "execute_result"
    }
   ],
   "source": [
    "df_permuted = df.copy()\n",
    "# swap the values P1 <-> P2 every two rows\n",
    "mask = df.index % 2 == 1\n",
    "df_permuted.loc[mask, p1_columns], df_permuted.loc[mask, p2_columns] = df.loc[mask, p2_columns].values, df.loc[mask, p1_columns].values\n",
    "\n",
    "# the complementary prob for the swapped rows\n",
    "# ELO proba (e.g. definition: https://ideas.repec.org/p/nbs/wpaper/2019-03.html#:~:text=The%20Elo%20rating%20system%20is,accuracy%2C%20calibration%20and%20model%20discrimination.)\n",
    "df_permuted.loc[mask, \"proba_elo\"] = 1 - df_permuted.loc[mask, \"proba_elo\"].values\n",
    "\n",
    "# does player 1 win?\n",
    "df_permuted['target'] = \"p1\"\n",
    "df_permuted.loc[mask,'target'] = \"p2\"\n",
    "df_permuted.head()"
   ]
  },
  {
   "cell_type": "code",
   "execution_count": 10,
   "metadata": {},
   "outputs": [
    {
     "data": {
      "text/html": [
       "<div>\n",
       "<style scoped>\n",
       "    .dataframe tbody tr th:only-of-type {\n",
       "        vertical-align: middle;\n",
       "    }\n",
       "\n",
       "    .dataframe tbody tr th {\n",
       "        vertical-align: top;\n",
       "    }\n",
       "\n",
       "    .dataframe thead th {\n",
       "        text-align: right;\n",
       "    }\n",
       "</style>\n",
       "<table border=\"1\" class=\"dataframe\">\n",
       "  <thead>\n",
       "    <tr style=\"text-align: right;\">\n",
       "      <th></th>\n",
       "      <th>atp</th>\n",
       "      <th>location</th>\n",
       "      <th>tournament</th>\n",
       "      <th>date</th>\n",
       "      <th>series</th>\n",
       "      <th>court</th>\n",
       "      <th>surface</th>\n",
       "      <th>round</th>\n",
       "      <th>best of</th>\n",
       "      <th>p1</th>\n",
       "      <th>p2</th>\n",
       "      <th>rank_p1</th>\n",
       "      <th>rank_p2</th>\n",
       "      <th>sets_p1</th>\n",
       "      <th>sets_p2</th>\n",
       "    </tr>\n",
       "  </thead>\n",
       "  <tbody>\n",
       "    <tr>\n",
       "      <th>0</th>\n",
       "      <td>1</td>\n",
       "      <td>Adelaide</td>\n",
       "      <td>Australian Hardcourt Championships</td>\n",
       "      <td>2000-01-03</td>\n",
       "      <td>International</td>\n",
       "      <td>Outdoor</td>\n",
       "      <td>Hard</td>\n",
       "      <td>1st Round</td>\n",
       "      <td>3</td>\n",
       "      <td>Dosedel S.</td>\n",
       "      <td>Ljubicic I.</td>\n",
       "      <td>63</td>\n",
       "      <td>77</td>\n",
       "      <td>2.0</td>\n",
       "      <td>0.0</td>\n",
       "    </tr>\n",
       "    <tr>\n",
       "      <th>1</th>\n",
       "      <td>3</td>\n",
       "      <td>Doha</td>\n",
       "      <td>Qatar Open</td>\n",
       "      <td>2000-01-03</td>\n",
       "      <td>International</td>\n",
       "      <td>Outdoor</td>\n",
       "      <td>Hard</td>\n",
       "      <td>1st Round</td>\n",
       "      <td>3</td>\n",
       "      <td>Tarango J.</td>\n",
       "      <td>Kiefer N.</td>\n",
       "      <td>59</td>\n",
       "      <td>6</td>\n",
       "      <td>0.0</td>\n",
       "      <td>2.0</td>\n",
       "    </tr>\n",
       "    <tr>\n",
       "      <th>2</th>\n",
       "      <td>3</td>\n",
       "      <td>Doha</td>\n",
       "      <td>Qatar Open</td>\n",
       "      <td>2000-01-03</td>\n",
       "      <td>International</td>\n",
       "      <td>Outdoor</td>\n",
       "      <td>Hard</td>\n",
       "      <td>1st Round</td>\n",
       "      <td>3</td>\n",
       "      <td>Gaudio G.</td>\n",
       "      <td>Luxa P.</td>\n",
       "      <td>73</td>\n",
       "      <td>174</td>\n",
       "      <td>2.0</td>\n",
       "      <td>1.0</td>\n",
       "    </tr>\n",
       "    <tr>\n",
       "      <th>3</th>\n",
       "      <td>3</td>\n",
       "      <td>Doha</td>\n",
       "      <td>Qatar Open</td>\n",
       "      <td>2000-01-03</td>\n",
       "      <td>International</td>\n",
       "      <td>Outdoor</td>\n",
       "      <td>Hard</td>\n",
       "      <td>1st Round</td>\n",
       "      <td>3</td>\n",
       "      <td>Dupuis A.</td>\n",
       "      <td>El Aynaoui Y.</td>\n",
       "      <td>78</td>\n",
       "      <td>33</td>\n",
       "      <td>1.0</td>\n",
       "      <td>2.0</td>\n",
       "    </tr>\n",
       "    <tr>\n",
       "      <th>4</th>\n",
       "      <td>3</td>\n",
       "      <td>Doha</td>\n",
       "      <td>Qatar Open</td>\n",
       "      <td>2000-01-03</td>\n",
       "      <td>International</td>\n",
       "      <td>Outdoor</td>\n",
       "      <td>Hard</td>\n",
       "      <td>1st Round</td>\n",
       "      <td>3</td>\n",
       "      <td>Cherkasov A.</td>\n",
       "      <td>Arazi H.</td>\n",
       "      <td>206</td>\n",
       "      <td>35</td>\n",
       "      <td>2.0</td>\n",
       "      <td>0.0</td>\n",
       "    </tr>\n",
       "  </tbody>\n",
       "</table>\n",
       "</div>"
      ],
      "text/plain": [
       "   atp  location                          tournament       date  \\\n",
       "0    1  Adelaide  Australian Hardcourt Championships 2000-01-03   \n",
       "1    3      Doha                          Qatar Open 2000-01-03   \n",
       "2    3      Doha                          Qatar Open 2000-01-03   \n",
       "3    3      Doha                          Qatar Open 2000-01-03   \n",
       "4    3      Doha                          Qatar Open 2000-01-03   \n",
       "\n",
       "          series    court surface      round  best of            p1  \\\n",
       "0  International  Outdoor    Hard  1st Round        3    Dosedel S.   \n",
       "1  International  Outdoor    Hard  1st Round        3    Tarango J.   \n",
       "2  International  Outdoor    Hard  1st Round        3     Gaudio G.   \n",
       "3  International  Outdoor    Hard  1st Round        3     Dupuis A.   \n",
       "4  International  Outdoor    Hard  1st Round        3  Cherkasov A.   \n",
       "\n",
       "              p2  rank_p1  rank_p2  sets_p1  sets_p2  \n",
       "0    Ljubicic I.       63       77      2.0      0.0  \n",
       "1      Kiefer N.       59        6      0.0      2.0  \n",
       "2        Luxa P.       73      174      2.0      1.0  \n",
       "3  El Aynaoui Y.       78       33      1.0      2.0  \n",
       "4       Arazi H.      206       35      2.0      0.0  "
      ]
     },
     "execution_count": 10,
     "metadata": {},
     "output_type": "execute_result"
    }
   ],
   "source": [
    "df_permuted.iloc[:, :15].head()"
   ]
  },
  {
   "cell_type": "code",
   "execution_count": 11,
   "metadata": {},
   "outputs": [
    {
     "data": {
      "text/html": [
       "<div>\n",
       "<style scoped>\n",
       "    .dataframe tbody tr th:only-of-type {\n",
       "        vertical-align: middle;\n",
       "    }\n",
       "\n",
       "    .dataframe tbody tr th {\n",
       "        vertical-align: top;\n",
       "    }\n",
       "\n",
       "    .dataframe thead th {\n",
       "        text-align: right;\n",
       "    }\n",
       "</style>\n",
       "<table border=\"1\" class=\"dataframe\">\n",
       "  <thead>\n",
       "    <tr style=\"text-align: right;\">\n",
       "      <th></th>\n",
       "      <th>ATP</th>\n",
       "      <th>Location</th>\n",
       "      <th>Tournament</th>\n",
       "      <th>Date</th>\n",
       "      <th>Series</th>\n",
       "      <th>Court</th>\n",
       "      <th>Surface</th>\n",
       "      <th>Round</th>\n",
       "      <th>Best of</th>\n",
       "      <th>Winner</th>\n",
       "      <th>Loser</th>\n",
       "      <th>WRank</th>\n",
       "      <th>LRank</th>\n",
       "      <th>Wsets</th>\n",
       "      <th>Lsets</th>\n",
       "    </tr>\n",
       "  </thead>\n",
       "  <tbody>\n",
       "    <tr>\n",
       "      <th>0</th>\n",
       "      <td>1</td>\n",
       "      <td>Adelaide</td>\n",
       "      <td>Australian Hardcourt Championships</td>\n",
       "      <td>2000-01-03</td>\n",
       "      <td>International</td>\n",
       "      <td>Outdoor</td>\n",
       "      <td>Hard</td>\n",
       "      <td>1st Round</td>\n",
       "      <td>3</td>\n",
       "      <td>Dosedel S.</td>\n",
       "      <td>Ljubicic I.</td>\n",
       "      <td>63</td>\n",
       "      <td>77</td>\n",
       "      <td>2.0</td>\n",
       "      <td>0.0</td>\n",
       "    </tr>\n",
       "    <tr>\n",
       "      <th>1</th>\n",
       "      <td>3</td>\n",
       "      <td>Doha</td>\n",
       "      <td>Qatar Open</td>\n",
       "      <td>2000-01-03</td>\n",
       "      <td>International</td>\n",
       "      <td>Outdoor</td>\n",
       "      <td>Hard</td>\n",
       "      <td>1st Round</td>\n",
       "      <td>3</td>\n",
       "      <td>Kiefer N.</td>\n",
       "      <td>Tarango J.</td>\n",
       "      <td>6</td>\n",
       "      <td>59</td>\n",
       "      <td>2.0</td>\n",
       "      <td>0.0</td>\n",
       "    </tr>\n",
       "    <tr>\n",
       "      <th>2</th>\n",
       "      <td>3</td>\n",
       "      <td>Doha</td>\n",
       "      <td>Qatar Open</td>\n",
       "      <td>2000-01-03</td>\n",
       "      <td>International</td>\n",
       "      <td>Outdoor</td>\n",
       "      <td>Hard</td>\n",
       "      <td>1st Round</td>\n",
       "      <td>3</td>\n",
       "      <td>Gaudio G.</td>\n",
       "      <td>Luxa P.</td>\n",
       "      <td>73</td>\n",
       "      <td>174</td>\n",
       "      <td>2.0</td>\n",
       "      <td>1.0</td>\n",
       "    </tr>\n",
       "    <tr>\n",
       "      <th>3</th>\n",
       "      <td>3</td>\n",
       "      <td>Doha</td>\n",
       "      <td>Qatar Open</td>\n",
       "      <td>2000-01-03</td>\n",
       "      <td>International</td>\n",
       "      <td>Outdoor</td>\n",
       "      <td>Hard</td>\n",
       "      <td>1st Round</td>\n",
       "      <td>3</td>\n",
       "      <td>El Aynaoui Y.</td>\n",
       "      <td>Dupuis A.</td>\n",
       "      <td>33</td>\n",
       "      <td>78</td>\n",
       "      <td>2.0</td>\n",
       "      <td>1.0</td>\n",
       "    </tr>\n",
       "    <tr>\n",
       "      <th>4</th>\n",
       "      <td>3</td>\n",
       "      <td>Doha</td>\n",
       "      <td>Qatar Open</td>\n",
       "      <td>2000-01-03</td>\n",
       "      <td>International</td>\n",
       "      <td>Outdoor</td>\n",
       "      <td>Hard</td>\n",
       "      <td>1st Round</td>\n",
       "      <td>3</td>\n",
       "      <td>Cherkasov A.</td>\n",
       "      <td>Arazi H.</td>\n",
       "      <td>206</td>\n",
       "      <td>35</td>\n",
       "      <td>2.0</td>\n",
       "      <td>0.0</td>\n",
       "    </tr>\n",
       "  </tbody>\n",
       "</table>\n",
       "</div>"
      ],
      "text/plain": [
       "   ATP  Location                          Tournament       Date  \\\n",
       "0    1  Adelaide  Australian Hardcourt Championships 2000-01-03   \n",
       "1    3      Doha                          Qatar Open 2000-01-03   \n",
       "2    3      Doha                          Qatar Open 2000-01-03   \n",
       "3    3      Doha                          Qatar Open 2000-01-03   \n",
       "4    3      Doha                          Qatar Open 2000-01-03   \n",
       "\n",
       "          Series    Court Surface      Round  Best of         Winner  \\\n",
       "0  International  Outdoor    Hard  1st Round        3     Dosedel S.   \n",
       "1  International  Outdoor    Hard  1st Round        3      Kiefer N.   \n",
       "2  International  Outdoor    Hard  1st Round        3      Gaudio G.   \n",
       "3  International  Outdoor    Hard  1st Round        3  El Aynaoui Y.   \n",
       "4  International  Outdoor    Hard  1st Round        3   Cherkasov A.   \n",
       "\n",
       "         Loser  WRank  LRank  Wsets  Lsets  \n",
       "0  Ljubicic I.     63     77    2.0    0.0  \n",
       "1   Tarango J.      6     59    2.0    0.0  \n",
       "2      Luxa P.     73    174    2.0    1.0  \n",
       "3    Dupuis A.     33     78    2.0    1.0  \n",
       "4     Arazi H.    206     35    2.0    0.0  "
      ]
     },
     "execution_count": 11,
     "metadata": {},
     "output_type": "execute_result"
    }
   ],
   "source": [
    "data.iloc[:, :15].head()"
   ]
  },
  {
   "cell_type": "code",
   "execution_count": 12,
   "metadata": {},
   "outputs": [
    {
     "data": {
      "text/plain": [
       "Index(['p2', 'rank_p2', 'sets_p2', 'ps_p2', 'b365_p2', 'elo_p2'], dtype='object')"
      ]
     },
     "execution_count": 12,
     "metadata": {},
     "output_type": "execute_result"
    }
   ],
   "source": [
    "p2_columns"
   ]
  },
  {
   "cell_type": "code",
   "execution_count": 13,
   "metadata": {},
   "outputs": [
    {
     "data": {
      "text/html": [
       "<div>\n",
       "<style scoped>\n",
       "    .dataframe tbody tr th:only-of-type {\n",
       "        vertical-align: middle;\n",
       "    }\n",
       "\n",
       "    .dataframe tbody tr th {\n",
       "        vertical-align: top;\n",
       "    }\n",
       "\n",
       "    .dataframe thead th {\n",
       "        text-align: right;\n",
       "    }\n",
       "</style>\n",
       "<table border=\"1\" class=\"dataframe\">\n",
       "  <thead>\n",
       "    <tr style=\"text-align: right;\">\n",
       "      <th></th>\n",
       "      <th>b365_p1</th>\n",
       "      <th>b365_p2</th>\n",
       "      <th>elo_p1</th>\n",
       "      <th>elo_p2</th>\n",
       "      <th>p1</th>\n",
       "      <th>p2</th>\n",
       "      <th>ps_p1</th>\n",
       "      <th>ps_p2</th>\n",
       "      <th>rank_p1</th>\n",
       "      <th>rank_p2</th>\n",
       "      <th>sets_p1</th>\n",
       "      <th>sets_p2</th>\n",
       "    </tr>\n",
       "  </thead>\n",
       "  <tbody>\n",
       "    <tr>\n",
       "      <th>0</th>\n",
       "      <td>NaN</td>\n",
       "      <td>NaN</td>\n",
       "      <td>1500.0</td>\n",
       "      <td>1500.0</td>\n",
       "      <td>Dosedel S.</td>\n",
       "      <td>Ljubicic I.</td>\n",
       "      <td>NaN</td>\n",
       "      <td>NaN</td>\n",
       "      <td>63</td>\n",
       "      <td>77</td>\n",
       "      <td>2.0</td>\n",
       "      <td>0.0</td>\n",
       "    </tr>\n",
       "    <tr>\n",
       "      <th>1</th>\n",
       "      <td>NaN</td>\n",
       "      <td>NaN</td>\n",
       "      <td>1500.0</td>\n",
       "      <td>1500.0</td>\n",
       "      <td>Kiefer N.</td>\n",
       "      <td>Tarango J.</td>\n",
       "      <td>NaN</td>\n",
       "      <td>NaN</td>\n",
       "      <td>6</td>\n",
       "      <td>59</td>\n",
       "      <td>2.0</td>\n",
       "      <td>0.0</td>\n",
       "    </tr>\n",
       "    <tr>\n",
       "      <th>2</th>\n",
       "      <td>NaN</td>\n",
       "      <td>NaN</td>\n",
       "      <td>1500.0</td>\n",
       "      <td>1500.0</td>\n",
       "      <td>Gaudio G.</td>\n",
       "      <td>Luxa P.</td>\n",
       "      <td>NaN</td>\n",
       "      <td>NaN</td>\n",
       "      <td>73</td>\n",
       "      <td>174</td>\n",
       "      <td>2.0</td>\n",
       "      <td>1.0</td>\n",
       "    </tr>\n",
       "    <tr>\n",
       "      <th>3</th>\n",
       "      <td>NaN</td>\n",
       "      <td>NaN</td>\n",
       "      <td>1500.0</td>\n",
       "      <td>1500.0</td>\n",
       "      <td>El Aynaoui Y.</td>\n",
       "      <td>Dupuis A.</td>\n",
       "      <td>NaN</td>\n",
       "      <td>NaN</td>\n",
       "      <td>33</td>\n",
       "      <td>78</td>\n",
       "      <td>2.0</td>\n",
       "      <td>1.0</td>\n",
       "    </tr>\n",
       "    <tr>\n",
       "      <th>4</th>\n",
       "      <td>NaN</td>\n",
       "      <td>NaN</td>\n",
       "      <td>1500.0</td>\n",
       "      <td>1500.0</td>\n",
       "      <td>Cherkasov A.</td>\n",
       "      <td>Arazi H.</td>\n",
       "      <td>NaN</td>\n",
       "      <td>NaN</td>\n",
       "      <td>206</td>\n",
       "      <td>35</td>\n",
       "      <td>2.0</td>\n",
       "      <td>0.0</td>\n",
       "    </tr>\n",
       "  </tbody>\n",
       "</table>\n",
       "</div>"
      ],
      "text/plain": [
       "   b365_p1  b365_p2  elo_p1  elo_p2             p1           p2  ps_p1  ps_p2  \\\n",
       "0      NaN      NaN  1500.0  1500.0     Dosedel S.  Ljubicic I.    NaN    NaN   \n",
       "1      NaN      NaN  1500.0  1500.0      Kiefer N.   Tarango J.    NaN    NaN   \n",
       "2      NaN      NaN  1500.0  1500.0      Gaudio G.      Luxa P.    NaN    NaN   \n",
       "3      NaN      NaN  1500.0  1500.0  El Aynaoui Y.    Dupuis A.    NaN    NaN   \n",
       "4      NaN      NaN  1500.0  1500.0   Cherkasov A.     Arazi H.    NaN    NaN   \n",
       "\n",
       "   rank_p1  rank_p2  sets_p1  sets_p2  \n",
       "0       63       77      2.0      0.0  \n",
       "1        6       59      2.0      0.0  \n",
       "2       73      174      2.0      1.0  \n",
       "3       33       78      2.0      1.0  \n",
       "4      206       35      2.0      0.0  "
      ]
     },
     "execution_count": 13,
     "metadata": {},
     "output_type": "execute_result"
    }
   ],
   "source": [
    "player_columns = sorted(list(set(p1_columns).union(set(p2_columns))))\n",
    "df[player_columns ].head()"
   ]
  },
  {
   "cell_type": "code",
   "execution_count": 14,
   "metadata": {},
   "outputs": [
    {
     "data": {
      "text/html": [
       "<div>\n",
       "<style scoped>\n",
       "    .dataframe tbody tr th:only-of-type {\n",
       "        vertical-align: middle;\n",
       "    }\n",
       "\n",
       "    .dataframe tbody tr th {\n",
       "        vertical-align: top;\n",
       "    }\n",
       "\n",
       "    .dataframe thead th {\n",
       "        text-align: right;\n",
       "    }\n",
       "</style>\n",
       "<table border=\"1\" class=\"dataframe\">\n",
       "  <thead>\n",
       "    <tr style=\"text-align: right;\">\n",
       "      <th></th>\n",
       "      <th>b365_p1</th>\n",
       "      <th>b365_p2</th>\n",
       "      <th>elo_p1</th>\n",
       "      <th>elo_p2</th>\n",
       "      <th>p1</th>\n",
       "      <th>p2</th>\n",
       "      <th>ps_p1</th>\n",
       "      <th>ps_p2</th>\n",
       "      <th>rank_p1</th>\n",
       "      <th>rank_p2</th>\n",
       "      <th>sets_p1</th>\n",
       "      <th>sets_p2</th>\n",
       "    </tr>\n",
       "  </thead>\n",
       "  <tbody>\n",
       "    <tr>\n",
       "      <th>0</th>\n",
       "      <td>NaN</td>\n",
       "      <td>NaN</td>\n",
       "      <td>1500.0</td>\n",
       "      <td>1500.0</td>\n",
       "      <td>Dosedel S.</td>\n",
       "      <td>Ljubicic I.</td>\n",
       "      <td>NaN</td>\n",
       "      <td>NaN</td>\n",
       "      <td>63</td>\n",
       "      <td>77</td>\n",
       "      <td>2.0</td>\n",
       "      <td>0.0</td>\n",
       "    </tr>\n",
       "    <tr>\n",
       "      <th>1</th>\n",
       "      <td>NaN</td>\n",
       "      <td>NaN</td>\n",
       "      <td>1500.0</td>\n",
       "      <td>1500.0</td>\n",
       "      <td>Tarango J.</td>\n",
       "      <td>Kiefer N.</td>\n",
       "      <td>NaN</td>\n",
       "      <td>NaN</td>\n",
       "      <td>59</td>\n",
       "      <td>6</td>\n",
       "      <td>0.0</td>\n",
       "      <td>2.0</td>\n",
       "    </tr>\n",
       "    <tr>\n",
       "      <th>2</th>\n",
       "      <td>NaN</td>\n",
       "      <td>NaN</td>\n",
       "      <td>1500.0</td>\n",
       "      <td>1500.0</td>\n",
       "      <td>Gaudio G.</td>\n",
       "      <td>Luxa P.</td>\n",
       "      <td>NaN</td>\n",
       "      <td>NaN</td>\n",
       "      <td>73</td>\n",
       "      <td>174</td>\n",
       "      <td>2.0</td>\n",
       "      <td>1.0</td>\n",
       "    </tr>\n",
       "    <tr>\n",
       "      <th>3</th>\n",
       "      <td>NaN</td>\n",
       "      <td>NaN</td>\n",
       "      <td>1500.0</td>\n",
       "      <td>1500.0</td>\n",
       "      <td>Dupuis A.</td>\n",
       "      <td>El Aynaoui Y.</td>\n",
       "      <td>NaN</td>\n",
       "      <td>NaN</td>\n",
       "      <td>78</td>\n",
       "      <td>33</td>\n",
       "      <td>1.0</td>\n",
       "      <td>2.0</td>\n",
       "    </tr>\n",
       "    <tr>\n",
       "      <th>4</th>\n",
       "      <td>NaN</td>\n",
       "      <td>NaN</td>\n",
       "      <td>1500.0</td>\n",
       "      <td>1500.0</td>\n",
       "      <td>Cherkasov A.</td>\n",
       "      <td>Arazi H.</td>\n",
       "      <td>NaN</td>\n",
       "      <td>NaN</td>\n",
       "      <td>206</td>\n",
       "      <td>35</td>\n",
       "      <td>2.0</td>\n",
       "      <td>0.0</td>\n",
       "    </tr>\n",
       "  </tbody>\n",
       "</table>\n",
       "</div>"
      ],
      "text/plain": [
       "   b365_p1  b365_p2  elo_p1  elo_p2            p1             p2  ps_p1  \\\n",
       "0      NaN      NaN  1500.0  1500.0    Dosedel S.    Ljubicic I.    NaN   \n",
       "1      NaN      NaN  1500.0  1500.0    Tarango J.      Kiefer N.    NaN   \n",
       "2      NaN      NaN  1500.0  1500.0     Gaudio G.        Luxa P.    NaN   \n",
       "3      NaN      NaN  1500.0  1500.0     Dupuis A.  El Aynaoui Y.    NaN   \n",
       "4      NaN      NaN  1500.0  1500.0  Cherkasov A.       Arazi H.    NaN   \n",
       "\n",
       "   ps_p2  rank_p1  rank_p2  sets_p1  sets_p2  \n",
       "0    NaN       63       77      2.0      0.0  \n",
       "1    NaN       59        6      0.0      2.0  \n",
       "2    NaN       73      174      2.0      1.0  \n",
       "3    NaN       78       33      1.0      2.0  \n",
       "4    NaN      206       35      2.0      0.0  "
      ]
     },
     "execution_count": 14,
     "metadata": {},
     "output_type": "execute_result"
    }
   ],
   "source": [
    "df_permuted[player_columns ].head()"
   ]
  },
  {
   "attachments": {},
   "cell_type": "markdown",
   "metadata": {},
   "source": [
    "sanity check, is the permutation working as expected?"
   ]
  },
  {
   "cell_type": "code",
   "execution_count": 15,
   "metadata": {},
   "outputs": [
    {
     "data": {
      "text/plain": [
       "49.257403596671736"
      ]
     },
     "execution_count": 15,
     "metadata": {},
     "output_type": "execute_result"
    }
   ],
   "source": [
    "100 * (df_permuted[\"sets_p1\"] > df_permuted[\"sets_p2\"]).sum() / len(data)"
   ]
  },
  {
   "cell_type": "code",
   "execution_count": 16,
   "metadata": {},
   "outputs": [
    {
     "data": {
      "text/plain": [
       "50.15209805851302"
      ]
     },
     "execution_count": 16,
     "metadata": {},
     "output_type": "execute_result"
    }
   ],
   "source": [
    "100 * (df_permuted[\"rank_p1\"] < df_permuted[\"rank_p2\"]).sum() / len(data)"
   ]
  },
  {
   "attachments": {},
   "cell_type": "markdown",
   "metadata": {},
   "source": [
    "# Define the target\n",
    "The target is the mask, whether or not the P1 and P2 have been swapped."
   ]
  },
  {
   "cell_type": "code",
   "execution_count": 17,
   "metadata": {},
   "outputs": [
    {
     "data": {
      "text/html": [
       "<div>\n",
       "<style scoped>\n",
       "    .dataframe tbody tr th:only-of-type {\n",
       "        vertical-align: middle;\n",
       "    }\n",
       "\n",
       "    .dataframe tbody tr th {\n",
       "        vertical-align: top;\n",
       "    }\n",
       "\n",
       "    .dataframe thead th {\n",
       "        text-align: right;\n",
       "    }\n",
       "</style>\n",
       "<table border=\"1\" class=\"dataframe\">\n",
       "  <thead>\n",
       "    <tr style=\"text-align: right;\">\n",
       "      <th></th>\n",
       "      <th>atp</th>\n",
       "      <th>location</th>\n",
       "      <th>tournament</th>\n",
       "      <th>date</th>\n",
       "      <th>series</th>\n",
       "      <th>court</th>\n",
       "      <th>surface</th>\n",
       "      <th>round</th>\n",
       "      <th>best of</th>\n",
       "      <th>p1</th>\n",
       "      <th>...</th>\n",
       "      <th>sets_p2</th>\n",
       "      <th>comment</th>\n",
       "      <th>ps_p1</th>\n",
       "      <th>ps_p2</th>\n",
       "      <th>b365_p1</th>\n",
       "      <th>b365_p2</th>\n",
       "      <th>elo_p1</th>\n",
       "      <th>elo_p2</th>\n",
       "      <th>proba_elo</th>\n",
       "      <th>target</th>\n",
       "    </tr>\n",
       "  </thead>\n",
       "  <tbody>\n",
       "    <tr>\n",
       "      <th>0</th>\n",
       "      <td>1</td>\n",
       "      <td>Adelaide</td>\n",
       "      <td>Australian Hardcourt Championships</td>\n",
       "      <td>2000-01-03</td>\n",
       "      <td>International</td>\n",
       "      <td>Outdoor</td>\n",
       "      <td>Hard</td>\n",
       "      <td>1st Round</td>\n",
       "      <td>3</td>\n",
       "      <td>Dosedel S.</td>\n",
       "      <td>...</td>\n",
       "      <td>0.0</td>\n",
       "      <td>Completed</td>\n",
       "      <td>NaN</td>\n",
       "      <td>NaN</td>\n",
       "      <td>NaN</td>\n",
       "      <td>NaN</td>\n",
       "      <td>1500.0</td>\n",
       "      <td>1500.0</td>\n",
       "      <td>0.5</td>\n",
       "      <td>True</td>\n",
       "    </tr>\n",
       "    <tr>\n",
       "      <th>1</th>\n",
       "      <td>3</td>\n",
       "      <td>Doha</td>\n",
       "      <td>Qatar Open</td>\n",
       "      <td>2000-01-03</td>\n",
       "      <td>International</td>\n",
       "      <td>Outdoor</td>\n",
       "      <td>Hard</td>\n",
       "      <td>1st Round</td>\n",
       "      <td>3</td>\n",
       "      <td>Tarango J.</td>\n",
       "      <td>...</td>\n",
       "      <td>2.0</td>\n",
       "      <td>Completed</td>\n",
       "      <td>NaN</td>\n",
       "      <td>NaN</td>\n",
       "      <td>NaN</td>\n",
       "      <td>NaN</td>\n",
       "      <td>1500.0</td>\n",
       "      <td>1500.0</td>\n",
       "      <td>0.5</td>\n",
       "      <td>False</td>\n",
       "    </tr>\n",
       "    <tr>\n",
       "      <th>2</th>\n",
       "      <td>3</td>\n",
       "      <td>Doha</td>\n",
       "      <td>Qatar Open</td>\n",
       "      <td>2000-01-03</td>\n",
       "      <td>International</td>\n",
       "      <td>Outdoor</td>\n",
       "      <td>Hard</td>\n",
       "      <td>1st Round</td>\n",
       "      <td>3</td>\n",
       "      <td>Gaudio G.</td>\n",
       "      <td>...</td>\n",
       "      <td>1.0</td>\n",
       "      <td>Completed</td>\n",
       "      <td>NaN</td>\n",
       "      <td>NaN</td>\n",
       "      <td>NaN</td>\n",
       "      <td>NaN</td>\n",
       "      <td>1500.0</td>\n",
       "      <td>1500.0</td>\n",
       "      <td>0.5</td>\n",
       "      <td>True</td>\n",
       "    </tr>\n",
       "    <tr>\n",
       "      <th>3</th>\n",
       "      <td>3</td>\n",
       "      <td>Doha</td>\n",
       "      <td>Qatar Open</td>\n",
       "      <td>2000-01-03</td>\n",
       "      <td>International</td>\n",
       "      <td>Outdoor</td>\n",
       "      <td>Hard</td>\n",
       "      <td>1st Round</td>\n",
       "      <td>3</td>\n",
       "      <td>Dupuis A.</td>\n",
       "      <td>...</td>\n",
       "      <td>2.0</td>\n",
       "      <td>Completed</td>\n",
       "      <td>NaN</td>\n",
       "      <td>NaN</td>\n",
       "      <td>NaN</td>\n",
       "      <td>NaN</td>\n",
       "      <td>1500.0</td>\n",
       "      <td>1500.0</td>\n",
       "      <td>0.5</td>\n",
       "      <td>False</td>\n",
       "    </tr>\n",
       "    <tr>\n",
       "      <th>4</th>\n",
       "      <td>3</td>\n",
       "      <td>Doha</td>\n",
       "      <td>Qatar Open</td>\n",
       "      <td>2000-01-03</td>\n",
       "      <td>International</td>\n",
       "      <td>Outdoor</td>\n",
       "      <td>Hard</td>\n",
       "      <td>1st Round</td>\n",
       "      <td>3</td>\n",
       "      <td>Cherkasov A.</td>\n",
       "      <td>...</td>\n",
       "      <td>0.0</td>\n",
       "      <td>Completed</td>\n",
       "      <td>NaN</td>\n",
       "      <td>NaN</td>\n",
       "      <td>NaN</td>\n",
       "      <td>NaN</td>\n",
       "      <td>1500.0</td>\n",
       "      <td>1500.0</td>\n",
       "      <td>0.5</td>\n",
       "      <td>True</td>\n",
       "    </tr>\n",
       "  </tbody>\n",
       "</table>\n",
       "<p>5 rows × 24 columns</p>\n",
       "</div>"
      ],
      "text/plain": [
       "   atp  location                          tournament       date  \\\n",
       "0    1  Adelaide  Australian Hardcourt Championships 2000-01-03   \n",
       "1    3      Doha                          Qatar Open 2000-01-03   \n",
       "2    3      Doha                          Qatar Open 2000-01-03   \n",
       "3    3      Doha                          Qatar Open 2000-01-03   \n",
       "4    3      Doha                          Qatar Open 2000-01-03   \n",
       "\n",
       "          series    court surface      round  best of            p1  ...  \\\n",
       "0  International  Outdoor    Hard  1st Round        3    Dosedel S.  ...   \n",
       "1  International  Outdoor    Hard  1st Round        3    Tarango J.  ...   \n",
       "2  International  Outdoor    Hard  1st Round        3     Gaudio G.  ...   \n",
       "3  International  Outdoor    Hard  1st Round        3     Dupuis A.  ...   \n",
       "4  International  Outdoor    Hard  1st Round        3  Cherkasov A.  ...   \n",
       "\n",
       "  sets_p2    comment  ps_p1  ps_p2  b365_p1 b365_p2  elo_p1  elo_p2  \\\n",
       "0     0.0  Completed    NaN    NaN      NaN     NaN  1500.0  1500.0   \n",
       "1     2.0  Completed    NaN    NaN      NaN     NaN  1500.0  1500.0   \n",
       "2     1.0  Completed    NaN    NaN      NaN     NaN  1500.0  1500.0   \n",
       "3     2.0  Completed    NaN    NaN      NaN     NaN  1500.0  1500.0   \n",
       "4     0.0  Completed    NaN    NaN      NaN     NaN  1500.0  1500.0   \n",
       "\n",
       "   proba_elo  target  \n",
       "0        0.5    True  \n",
       "1        0.5   False  \n",
       "2        0.5    True  \n",
       "3        0.5   False  \n",
       "4        0.5    True  \n",
       "\n",
       "[5 rows x 24 columns]"
      ]
     },
     "execution_count": 17,
     "metadata": {},
     "output_type": "execute_result"
    }
   ],
   "source": [
    "# does player 1 win?\n",
    "df_permuted['target'] = ~mask\n",
    "df_permuted.head()"
   ]
  },
  {
   "attachments": {},
   "cell_type": "markdown",
   "metadata": {},
   "source": [
    "drop the number of sets won by each player because it would identify 1-1 (almost) the winner."
   ]
  },
  {
   "attachments": {},
   "cell_type": "markdown",
   "metadata": {},
   "source": [
    "# Feature engineering\n",
    "To be improved"
   ]
  },
  {
   "cell_type": "code",
   "execution_count": 18,
   "metadata": {},
   "outputs": [],
   "source": [
    "\n",
    "# Extract year, month, and day into separate columns\n",
    "df_permuted['year'] = df_permuted['date'].dt.year\n",
    "df_permuted['month'] = df_permuted['date'].dt.month\n",
    "df_permuted['day'] = df_permuted['date'].dt.day\n",
    "df_permuted['rank_diff'] = df_permuted['rank_p1'] - df_permuted['rank_p2']\n",
    "df_permuted[\"p1_won_more_sets\"] = 1*(df_permuted['sets_p1'] > df_permuted['sets_p2'])\n",
    "\n",
    "# find the player with the best (lowest) ATP rank\n",
    "df_permuted['best_ranked'] = 'p1'\n",
    "df_permuted.loc[df_permuted['rank_diff'] > 0, 'best_ranked'] = 'p2'"
   ]
  },
  {
   "cell_type": "code",
   "execution_count": 19,
   "metadata": {},
   "outputs": [
    {
     "data": {
      "text/html": [
       "<div>\n",
       "<style scoped>\n",
       "    .dataframe tbody tr th:only-of-type {\n",
       "        vertical-align: middle;\n",
       "    }\n",
       "\n",
       "    .dataframe tbody tr th {\n",
       "        vertical-align: top;\n",
       "    }\n",
       "\n",
       "    .dataframe thead th {\n",
       "        text-align: right;\n",
       "    }\n",
       "</style>\n",
       "<table border=\"1\" class=\"dataframe\">\n",
       "  <thead>\n",
       "    <tr style=\"text-align: right;\">\n",
       "      <th></th>\n",
       "      <th>sets_p1</th>\n",
       "      <th>sets_p2</th>\n",
       "    </tr>\n",
       "  </thead>\n",
       "  <tbody>\n",
       "    <tr>\n",
       "      <th>0</th>\n",
       "      <td>2.0</td>\n",
       "      <td>0.0</td>\n",
       "    </tr>\n",
       "    <tr>\n",
       "      <th>1</th>\n",
       "      <td>0.0</td>\n",
       "      <td>2.0</td>\n",
       "    </tr>\n",
       "    <tr>\n",
       "      <th>2</th>\n",
       "      <td>2.0</td>\n",
       "      <td>1.0</td>\n",
       "    </tr>\n",
       "    <tr>\n",
       "      <th>3</th>\n",
       "      <td>1.0</td>\n",
       "      <td>2.0</td>\n",
       "    </tr>\n",
       "    <tr>\n",
       "      <th>4</th>\n",
       "      <td>2.0</td>\n",
       "      <td>0.0</td>\n",
       "    </tr>\n",
       "    <tr>\n",
       "      <th>...</th>\n",
       "      <td>...</td>\n",
       "      <td>...</td>\n",
       "    </tr>\n",
       "    <tr>\n",
       "      <th>44703</th>\n",
       "      <td>0.0</td>\n",
       "      <td>2.0</td>\n",
       "    </tr>\n",
       "    <tr>\n",
       "      <th>44704</th>\n",
       "      <td>2.0</td>\n",
       "      <td>1.0</td>\n",
       "    </tr>\n",
       "    <tr>\n",
       "      <th>44705</th>\n",
       "      <td>1.0</td>\n",
       "      <td>2.0</td>\n",
       "    </tr>\n",
       "    <tr>\n",
       "      <th>44706</th>\n",
       "      <td>2.0</td>\n",
       "      <td>0.0</td>\n",
       "    </tr>\n",
       "    <tr>\n",
       "      <th>44707</th>\n",
       "      <td>1.0</td>\n",
       "      <td>2.0</td>\n",
       "    </tr>\n",
       "  </tbody>\n",
       "</table>\n",
       "<p>44708 rows × 2 columns</p>\n",
       "</div>"
      ],
      "text/plain": [
       "       sets_p1  sets_p2\n",
       "0          2.0      0.0\n",
       "1          0.0      2.0\n",
       "2          2.0      1.0\n",
       "3          1.0      2.0\n",
       "4          2.0      0.0\n",
       "...        ...      ...\n",
       "44703      0.0      2.0\n",
       "44704      2.0      1.0\n",
       "44705      1.0      2.0\n",
       "44706      2.0      0.0\n",
       "44707      1.0      2.0\n",
       "\n",
       "[44708 rows x 2 columns]"
      ]
     },
     "execution_count": 19,
     "metadata": {},
     "output_type": "execute_result"
    }
   ],
   "source": [
    "df_permuted[['sets_p1', 'sets_p2']]"
   ]
  },
  {
   "attachments": {},
   "cell_type": "markdown",
   "metadata": {},
   "source": [
    "## Split the data\n",
    "\n",
    "As the time goes by, players improve or age. It's important to keep the time ordering to avoid leakage of information"
   ]
  },
  {
   "cell_type": "code",
   "execution_count": 20,
   "metadata": {},
   "outputs": [
    {
     "data": {
      "text/plain": [
       "0   2000-01-03\n",
       "1   2000-01-03\n",
       "2   2000-01-03\n",
       "3   2000-01-03\n",
       "4   2000-01-03\n",
       "Name: date, dtype: datetime64[ns]"
      ]
     },
     "execution_count": 20,
     "metadata": {},
     "output_type": "execute_result"
    }
   ],
   "source": [
    "df_permuted['date'].head()"
   ]
  },
  {
   "cell_type": "code",
   "execution_count": 21,
   "metadata": {},
   "outputs": [
    {
     "data": {
      "text/plain": [
       "44703   2018-03-03\n",
       "44704   2018-03-03\n",
       "44705   2018-03-03\n",
       "44706   2018-03-04\n",
       "44707   2018-03-04\n",
       "Name: date, dtype: datetime64[ns]"
      ]
     },
     "execution_count": 21,
     "metadata": {},
     "output_type": "execute_result"
    }
   ],
   "source": [
    "df_permuted['date'].tail()"
   ]
  },
  {
   "cell_type": "code",
   "execution_count": 22,
   "metadata": {},
   "outputs": [],
   "source": [
    "# they are only NaN\n",
    "predictors = df_permuted.columns.drop(['target', 'date', 'sets_p1', 'sets_p2', \"p1_won_more_sets\", 'b365_p1', 'b365_p2', 'ps_p1', 'ps_p2'])\n",
    "# predictors = ['rank_p1', 'rank_p2']\n",
    "X = df_permuted[predictors].copy()\n",
    "y = df_permuted['target'].copy() * 1"
   ]
  },
  {
   "cell_type": "code",
   "execution_count": 23,
   "metadata": {},
   "outputs": [
    {
     "data": {
      "text/plain": [
       "Index(['atp', 'location', 'tournament', 'series', 'court', 'surface', 'round',\n",
       "       'best of', 'p1', 'p2', 'rank_p1', 'rank_p2', 'comment', 'elo_p1',\n",
       "       'elo_p2', 'proba_elo', 'year', 'month', 'day', 'rank_diff',\n",
       "       'best_ranked'],\n",
       "      dtype='object')"
      ]
     },
     "execution_count": 23,
     "metadata": {},
     "output_type": "execute_result"
    }
   ],
   "source": [
    "predictors"
   ]
  },
  {
   "cell_type": "code",
   "execution_count": 24,
   "metadata": {},
   "outputs": [],
   "source": [
    "ts_split = TimeSeriesSplit(n_splits=2)\n",
    "all_splits = list(ts_split.split(X, y))\n",
    "train_idx, test_idx = all_splits[0]"
   ]
  },
  {
   "cell_type": "code",
   "execution_count": 25,
   "metadata": {},
   "outputs": [
    {
     "data": {
      "text/plain": [
       "array([    0,     1,     2, ..., 14901, 14902, 14903])"
      ]
     },
     "execution_count": 25,
     "metadata": {},
     "output_type": "execute_result"
    }
   ],
   "source": [
    "train_idx"
   ]
  },
  {
   "attachments": {},
   "cell_type": "markdown",
   "metadata": {},
   "source": [
    "sanity check: are the matches chronologically ordered?"
   ]
  },
  {
   "cell_type": "code",
   "execution_count": 26,
   "metadata": {},
   "outputs": [
    {
     "data": {
      "text/plain": [
       "14899   2006-02-16\n",
       "14900   2006-02-16\n",
       "14901   2006-02-16\n",
       "14902   2006-02-16\n",
       "14903   2006-02-16\n",
       "Name: date, dtype: datetime64[ns]"
      ]
     },
     "execution_count": 26,
     "metadata": {},
     "output_type": "execute_result"
    }
   ],
   "source": [
    "df_permuted['date'].iloc[train_idx].tail()"
   ]
  },
  {
   "cell_type": "code",
   "execution_count": 27,
   "metadata": {},
   "outputs": [
    {
     "data": {
      "text/plain": [
       "0   2000-01-03\n",
       "1   2000-01-03\n",
       "2   2000-01-03\n",
       "3   2000-01-03\n",
       "4   2000-01-03\n",
       "Name: date, dtype: datetime64[ns]"
      ]
     },
     "execution_count": 27,
     "metadata": {},
     "output_type": "execute_result"
    }
   ],
   "source": [
    "df_permuted['date'].iloc[train_idx].head()"
   ]
  },
  {
   "cell_type": "code",
   "execution_count": 28,
   "metadata": {},
   "outputs": [
    {
     "data": {
      "text/plain": [
       "14904   2006-02-16\n",
       "14905   2006-02-16\n",
       "14906   2006-02-16\n",
       "14907   2006-02-17\n",
       "14908   2006-02-17\n",
       "Name: date, dtype: datetime64[ns]"
      ]
     },
     "execution_count": 28,
     "metadata": {},
     "output_type": "execute_result"
    }
   ],
   "source": [
    "df_permuted['date'].iloc[test_idx].head()"
   ]
  },
  {
   "cell_type": "code",
   "execution_count": 29,
   "metadata": {},
   "outputs": [],
   "source": [
    "X_train = X.iloc[train_idx, :].copy()\n",
    "y_train = y[train_idx].copy()\n",
    "X_test= X.iloc[test_idx, :].copy()\n",
    "y_test = y[test_idx].copy()\n",
    "\n",
    "train_df = df_permuted.iloc[train_idx, :].copy()\n",
    "test_df = df_permuted.iloc[test_idx, :].copy()"
   ]
  },
  {
   "attachments": {},
   "cell_type": "markdown",
   "metadata": {},
   "source": [
    "## Train the model\n",
    "\n",
    "### Oracle \n",
    "\n",
    "The player who won more sets is the winner of the game."
   ]
  },
  {
   "cell_type": "code",
   "execution_count": 30,
   "metadata": {},
   "outputs": [
    {
     "name": "stdout",
     "output_type": "stream",
     "text": [
      "              precision    recall  f1-score   support\n",
      "\n",
      "      winner       0.98      1.00      0.99      7451\n",
      "       loser       1.00      0.98      0.99      7451\n",
      "\n",
      "    accuracy                           0.99     14902\n",
      "   macro avg       0.99      0.99      0.99     14902\n",
      "weighted avg       0.99      0.99      0.99     14902\n",
      "\n"
     ]
    }
   ],
   "source": [
    "y_pred = test_df[\"p1_won_more_sets\"]\n",
    "target_names = [\"winner\", \"loser\"]\n",
    "print(classification_report(y_test, y_pred, target_names=target_names))"
   ]
  },
  {
   "attachments": {},
   "cell_type": "markdown",
   "metadata": {},
   "source": [
    "### Business rule\n",
    "\n",
    "The lowest rank wins"
   ]
  },
  {
   "cell_type": "code",
   "execution_count": 31,
   "metadata": {},
   "outputs": [
    {
     "data": {
      "text/plain": [
       "best_ranked\n",
       "p1    7480\n",
       "p2    7422\n",
       "Name: count, dtype: int64"
      ]
     },
     "execution_count": 31,
     "metadata": {},
     "output_type": "execute_result"
    }
   ],
   "source": [
    "X_test['best_ranked'].value_counts()"
   ]
  },
  {
   "cell_type": "code",
   "execution_count": 32,
   "metadata": {},
   "outputs": [
    {
     "name": "stdout",
     "output_type": "stream",
     "text": [
      "              precision    recall  f1-score   support\n",
      "\n",
      "      winner       0.66      0.66      0.66      7451\n",
      "       loser       0.66      0.66      0.66      7451\n",
      "\n",
      "    accuracy                           0.66     14902\n",
      "   macro avg       0.66      0.66      0.66     14902\n",
      "weighted avg       0.66      0.66      0.66     14902\n",
      "\n"
     ]
    }
   ],
   "source": [
    "y_pred_br = X_test[\"rank_diff\"]<0\n",
    "\n",
    "target_names = [\"winner\", \"loser\"]\n",
    "print(classification_report(y_test, y_pred_br, target_names=target_names))"
   ]
  },
  {
   "cell_type": "code",
   "execution_count": 33,
   "metadata": {},
   "outputs": [
    {
     "data": {
      "text/html": [
       "<div>\n",
       "<style scoped>\n",
       "    .dataframe tbody tr th:only-of-type {\n",
       "        vertical-align: middle;\n",
       "    }\n",
       "\n",
       "    .dataframe tbody tr th {\n",
       "        vertical-align: top;\n",
       "    }\n",
       "\n",
       "    .dataframe thead th {\n",
       "        text-align: right;\n",
       "    }\n",
       "</style>\n",
       "<table border=\"1\" class=\"dataframe\">\n",
       "  <thead>\n",
       "    <tr style=\"text-align: right;\">\n",
       "      <th>Predicted</th>\n",
       "      <th>False</th>\n",
       "      <th>True</th>\n",
       "    </tr>\n",
       "    <tr>\n",
       "      <th>Actual</th>\n",
       "      <th></th>\n",
       "      <th></th>\n",
       "    </tr>\n",
       "  </thead>\n",
       "  <tbody>\n",
       "    <tr>\n",
       "      <th>0</th>\n",
       "      <td>4909</td>\n",
       "      <td>2542</td>\n",
       "    </tr>\n",
       "    <tr>\n",
       "      <th>1</th>\n",
       "      <td>2514</td>\n",
       "      <td>4937</td>\n",
       "    </tr>\n",
       "  </tbody>\n",
       "</table>\n",
       "</div>"
      ],
      "text/plain": [
       "Predicted  False  True \n",
       "Actual                 \n",
       "0           4909   2542\n",
       "1           2514   4937"
      ]
     },
     "execution_count": 33,
     "metadata": {},
     "output_type": "execute_result"
    }
   ],
   "source": [
    "confusion_matrix = pd.crosstab(y_test, X_test[\"rank_diff\"]<0, rownames=['Actual'], colnames=['Predicted'])\n",
    "confusion_matrix"
   ]
  },
  {
   "attachments": {},
   "cell_type": "markdown",
   "metadata": {},
   "source": [
    "### Vanilla RF\n",
    "\n",
    "RF is basically only overfitting, not extracting info"
   ]
  },
  {
   "cell_type": "code",
   "execution_count": 34,
   "metadata": {},
   "outputs": [
    {
     "data": {
      "text/html": [
       "<style>#sk-container-id-1 {color: black;background-color: white;}#sk-container-id-1 pre{padding: 0;}#sk-container-id-1 div.sk-toggleable {background-color: white;}#sk-container-id-1 label.sk-toggleable__label {cursor: pointer;display: block;width: 100%;margin-bottom: 0;padding: 0.3em;box-sizing: border-box;text-align: center;}#sk-container-id-1 label.sk-toggleable__label-arrow:before {content: \"▸\";float: left;margin-right: 0.25em;color: #696969;}#sk-container-id-1 label.sk-toggleable__label-arrow:hover:before {color: black;}#sk-container-id-1 div.sk-estimator:hover label.sk-toggleable__label-arrow:before {color: black;}#sk-container-id-1 div.sk-toggleable__content {max-height: 0;max-width: 0;overflow: hidden;text-align: left;background-color: #f0f8ff;}#sk-container-id-1 div.sk-toggleable__content pre {margin: 0.2em;color: black;border-radius: 0.25em;background-color: #f0f8ff;}#sk-container-id-1 input.sk-toggleable__control:checked~div.sk-toggleable__content {max-height: 200px;max-width: 100%;overflow: auto;}#sk-container-id-1 input.sk-toggleable__control:checked~label.sk-toggleable__label-arrow:before {content: \"▾\";}#sk-container-id-1 div.sk-estimator input.sk-toggleable__control:checked~label.sk-toggleable__label {background-color: #d4ebff;}#sk-container-id-1 div.sk-label input.sk-toggleable__control:checked~label.sk-toggleable__label {background-color: #d4ebff;}#sk-container-id-1 input.sk-hidden--visually {border: 0;clip: rect(1px 1px 1px 1px);clip: rect(1px, 1px, 1px, 1px);height: 1px;margin: -1px;overflow: hidden;padding: 0;position: absolute;width: 1px;}#sk-container-id-1 div.sk-estimator {font-family: monospace;background-color: #f0f8ff;border: 1px dotted black;border-radius: 0.25em;box-sizing: border-box;margin-bottom: 0.5em;}#sk-container-id-1 div.sk-estimator:hover {background-color: #d4ebff;}#sk-container-id-1 div.sk-parallel-item::after {content: \"\";width: 100%;border-bottom: 1px solid gray;flex-grow: 1;}#sk-container-id-1 div.sk-label:hover label.sk-toggleable__label {background-color: #d4ebff;}#sk-container-id-1 div.sk-serial::before {content: \"\";position: absolute;border-left: 1px solid gray;box-sizing: border-box;top: 0;bottom: 0;left: 50%;z-index: 0;}#sk-container-id-1 div.sk-serial {display: flex;flex-direction: column;align-items: center;background-color: white;padding-right: 0.2em;padding-left: 0.2em;position: relative;}#sk-container-id-1 div.sk-item {position: relative;z-index: 1;}#sk-container-id-1 div.sk-parallel {display: flex;align-items: stretch;justify-content: center;background-color: white;position: relative;}#sk-container-id-1 div.sk-item::before, #sk-container-id-1 div.sk-parallel-item::before {content: \"\";position: absolute;border-left: 1px solid gray;box-sizing: border-box;top: 0;bottom: 0;left: 50%;z-index: -1;}#sk-container-id-1 div.sk-parallel-item {display: flex;flex-direction: column;z-index: 1;position: relative;background-color: white;}#sk-container-id-1 div.sk-parallel-item:first-child::after {align-self: flex-end;width: 50%;}#sk-container-id-1 div.sk-parallel-item:last-child::after {align-self: flex-start;width: 50%;}#sk-container-id-1 div.sk-parallel-item:only-child::after {width: 0;}#sk-container-id-1 div.sk-dashed-wrapped {border: 1px dashed gray;margin: 0 0.4em 0.5em 0.4em;box-sizing: border-box;padding-bottom: 0.4em;background-color: white;}#sk-container-id-1 div.sk-label label {font-family: monospace;font-weight: bold;display: inline-block;line-height: 1.2em;}#sk-container-id-1 div.sk-label-container {text-align: center;}#sk-container-id-1 div.sk-container {/* jupyter's `normalize.less` sets `[hidden] { display: none; }` but bootstrap.min.css set `[hidden] { display: none !important; }` so we also need the `!important` here to be able to override the default hidden behavior on the sphinx rendered scikit-learn.org. See: https://github.com/scikit-learn/scikit-learn/issues/21755 */display: inline-block !important;position: relative;}#sk-container-id-1 div.sk-text-repr-fallback {display: none;}</style><div id=\"sk-container-id-1\" class=\"sk-top-container\"><div class=\"sk-text-repr-fallback\"><pre>Pipeline(steps=[(&#x27;encoder&#x27;, OrdinalEncoderPandas()),\n",
       "                (&#x27;imputer&#x27;, SimpleImputer(strategy=&#x27;most_frequent&#x27;)),\n",
       "                (&#x27;gbm&#x27;, RandomForestClassifier())])</pre><b>In a Jupyter environment, please rerun this cell to show the HTML representation or trust the notebook. <br />On GitHub, the HTML representation is unable to render, please try loading this page with nbviewer.org.</b></div><div class=\"sk-container\" hidden><div class=\"sk-item sk-dashed-wrapped\"><div class=\"sk-label-container\"><div class=\"sk-label sk-toggleable\"><input class=\"sk-toggleable__control sk-hidden--visually\" id=\"sk-estimator-id-1\" type=\"checkbox\" ><label for=\"sk-estimator-id-1\" class=\"sk-toggleable__label sk-toggleable__label-arrow\">Pipeline</label><div class=\"sk-toggleable__content\"><pre>Pipeline(steps=[(&#x27;encoder&#x27;, OrdinalEncoderPandas()),\n",
       "                (&#x27;imputer&#x27;, SimpleImputer(strategy=&#x27;most_frequent&#x27;)),\n",
       "                (&#x27;gbm&#x27;, RandomForestClassifier())])</pre></div></div></div><div class=\"sk-serial\"><div class=\"sk-item\"><div class=\"sk-estimator sk-toggleable\"><input class=\"sk-toggleable__control sk-hidden--visually\" id=\"sk-estimator-id-2\" type=\"checkbox\" ><label for=\"sk-estimator-id-2\" class=\"sk-toggleable__label sk-toggleable__label-arrow\">OrdinalEncoderPandas</label><div class=\"sk-toggleable__content\"><pre>OrdinalEncoderPandas()</pre></div></div></div><div class=\"sk-item\"><div class=\"sk-estimator sk-toggleable\"><input class=\"sk-toggleable__control sk-hidden--visually\" id=\"sk-estimator-id-3\" type=\"checkbox\" ><label for=\"sk-estimator-id-3\" class=\"sk-toggleable__label sk-toggleable__label-arrow\">SimpleImputer</label><div class=\"sk-toggleable__content\"><pre>SimpleImputer(strategy=&#x27;most_frequent&#x27;)</pre></div></div></div><div class=\"sk-item\"><div class=\"sk-estimator sk-toggleable\"><input class=\"sk-toggleable__control sk-hidden--visually\" id=\"sk-estimator-id-4\" type=\"checkbox\" ><label for=\"sk-estimator-id-4\" class=\"sk-toggleable__label sk-toggleable__label-arrow\">RandomForestClassifier</label><div class=\"sk-toggleable__content\"><pre>RandomForestClassifier()</pre></div></div></div></div></div></div></div>"
      ],
      "text/plain": [
       "Pipeline(steps=[('encoder', OrdinalEncoderPandas()),\n",
       "                ('imputer', SimpleImputer(strategy='most_frequent')),\n",
       "                ('gbm', RandomForestClassifier())])"
      ]
     },
     "execution_count": 34,
     "metadata": {},
     "output_type": "execute_result"
    }
   ],
   "source": [
    "model= Pipeline([ (\"encoder\", OrdinalEncoderPandas()), ('imputer', SimpleImputer(strategy='most_frequent')), (\"gbm\", RandomForestClassifier())])\n",
    "model.fit(X_train, y_train)"
   ]
  },
  {
   "cell_type": "code",
   "execution_count": 35,
   "metadata": {},
   "outputs": [
    {
     "name": "stdout",
     "output_type": "stream",
     "text": [
      "              precision    recall  f1-score   support\n",
      "\n",
      "      winner       1.00      1.00      1.00      7452\n",
      "       loser       1.00      1.00      1.00      7452\n",
      "\n",
      "    accuracy                           1.00     14904\n",
      "   macro avg       1.00      1.00      1.00     14904\n",
      "weighted avg       1.00      1.00      1.00     14904\n",
      "\n"
     ]
    }
   ],
   "source": [
    "y_pred_insample = model.predict(X_train)\n",
    "target_names = [\"winner\", \"loser\"]\n",
    "print(classification_report(y_train, y_pred_insample, target_names=target_names))"
   ]
  },
  {
   "cell_type": "code",
   "execution_count": 36,
   "metadata": {},
   "outputs": [
    {
     "name": "stdout",
     "output_type": "stream",
     "text": [
      "              precision    recall  f1-score   support\n",
      "\n",
      "      winner       0.68      0.64      0.66      7451\n",
      "       loser       0.66      0.69      0.68      7451\n",
      "\n",
      "    accuracy                           0.67     14902\n",
      "   macro avg       0.67      0.67      0.67     14902\n",
      "weighted avg       0.67      0.67      0.67     14902\n",
      "\n"
     ]
    }
   ],
   "source": [
    "y_pred = model.predict(X_test.fillna(0))\n",
    "target_names = [\"winner\", \"loser\"]\n",
    "print(classification_report(y_test, y_pred, target_names=target_names))"
   ]
  },
  {
   "cell_type": "code",
   "execution_count": 37,
   "metadata": {},
   "outputs": [
    {
     "data": {
      "text/html": [
       "<div>\n",
       "<style scoped>\n",
       "    .dataframe tbody tr th:only-of-type {\n",
       "        vertical-align: middle;\n",
       "    }\n",
       "\n",
       "    .dataframe tbody tr th {\n",
       "        vertical-align: top;\n",
       "    }\n",
       "\n",
       "    .dataframe thead th {\n",
       "        text-align: right;\n",
       "    }\n",
       "</style>\n",
       "<table border=\"1\" class=\"dataframe\">\n",
       "  <thead>\n",
       "    <tr style=\"text-align: right;\">\n",
       "      <th>Predicted</th>\n",
       "      <th>0</th>\n",
       "      <th>1</th>\n",
       "    </tr>\n",
       "    <tr>\n",
       "      <th>Actual</th>\n",
       "      <th></th>\n",
       "      <th></th>\n",
       "    </tr>\n",
       "  </thead>\n",
       "  <tbody>\n",
       "    <tr>\n",
       "      <th>0</th>\n",
       "      <td>4789</td>\n",
       "      <td>2662</td>\n",
       "    </tr>\n",
       "    <tr>\n",
       "      <th>1</th>\n",
       "      <td>2290</td>\n",
       "      <td>5161</td>\n",
       "    </tr>\n",
       "  </tbody>\n",
       "</table>\n",
       "</div>"
      ],
      "text/plain": [
       "Predicted     0     1\n",
       "Actual               \n",
       "0          4789  2662\n",
       "1          2290  5161"
      ]
     },
     "execution_count": 37,
     "metadata": {},
     "output_type": "execute_result"
    }
   ],
   "source": [
    "confusion_matrix = pd.crosstab(y_test, y_pred, rownames=['Actual'], colnames=['Predicted'])\n",
    "confusion_matrix"
   ]
  },
  {
   "cell_type": "markdown",
   "metadata": {},
   "source": [
    "The random forest severely overfits the data"
   ]
  },
  {
   "attachments": {},
   "cell_type": "markdown",
   "metadata": {},
   "source": [
    "### Vanilla GBM\n",
    "vanilla ligthGBM for now, not even early stopping. "
   ]
  },
  {
   "cell_type": "code",
   "execution_count": 38,
   "metadata": {},
   "outputs": [
    {
     "name": "stdout",
     "output_type": "stream",
     "text": [
      "              precision    recall  f1-score   support\n",
      "\n",
      "      winner       0.68      0.67      0.67      7452\n",
      "       loser       0.67      0.69      0.68      7452\n",
      "\n",
      "    accuracy                           0.68     14904\n",
      "   macro avg       0.68      0.68      0.68     14904\n",
      "weighted avg       0.68      0.68      0.68     14904\n",
      "\n"
     ]
    }
   ],
   "source": [
    "model= Pipeline([ (\"encoder\", OrdinalEncoderPandas()), (\"gbm\", LGBMClassifier(n_estimators=20))])\n",
    "model.fit(X_train, y_train)\n",
    "\n",
    "y_pred_insample = model.predict(X_train)\n",
    "target_names = [\"winner\", \"loser\"]\n",
    "print(classification_report(y_train, y_pred_insample, target_names=target_names))"
   ]
  },
  {
   "cell_type": "code",
   "execution_count": 39,
   "metadata": {},
   "outputs": [
    {
     "name": "stdout",
     "output_type": "stream",
     "text": [
      "              precision    recall  f1-score   support\n",
      "\n",
      "      winner       0.68      0.67      0.67      7451\n",
      "       loser       0.67      0.68      0.68      7451\n",
      "\n",
      "    accuracy                           0.68     14902\n",
      "   macro avg       0.68      0.68      0.68     14902\n",
      "weighted avg       0.68      0.68      0.68     14902\n",
      "\n"
     ]
    }
   ],
   "source": [
    "y_pred = model.predict(X_test)\n",
    "target_names = [\"winner\", \"loser\"]\n",
    "print(classification_report(y_test, y_pred, target_names=target_names))"
   ]
  },
  {
   "cell_type": "code",
   "execution_count": 40,
   "metadata": {},
   "outputs": [
    {
     "name": "stdout",
     "output_type": "stream",
     "text": [
      "0.6770232183599517\n"
     ]
    }
   ],
   "source": [
    "print(accuracy_score(y_test, y_pred))"
   ]
  },
  {
   "cell_type": "code",
   "execution_count": 41,
   "metadata": {},
   "outputs": [
    {
     "data": {
      "text/html": [
       "<div>\n",
       "<style scoped>\n",
       "    .dataframe tbody tr th:only-of-type {\n",
       "        vertical-align: middle;\n",
       "    }\n",
       "\n",
       "    .dataframe tbody tr th {\n",
       "        vertical-align: top;\n",
       "    }\n",
       "\n",
       "    .dataframe thead th {\n",
       "        text-align: right;\n",
       "    }\n",
       "</style>\n",
       "<table border=\"1\" class=\"dataframe\">\n",
       "  <thead>\n",
       "    <tr style=\"text-align: right;\">\n",
       "      <th>Predicted</th>\n",
       "      <th>0</th>\n",
       "      <th>1</th>\n",
       "    </tr>\n",
       "    <tr>\n",
       "      <th>Actual</th>\n",
       "      <th></th>\n",
       "      <th></th>\n",
       "    </tr>\n",
       "  </thead>\n",
       "  <tbody>\n",
       "    <tr>\n",
       "      <th>0</th>\n",
       "      <td>4993</td>\n",
       "      <td>2458</td>\n",
       "    </tr>\n",
       "    <tr>\n",
       "      <th>1</th>\n",
       "      <td>2355</td>\n",
       "      <td>5096</td>\n",
       "    </tr>\n",
       "  </tbody>\n",
       "</table>\n",
       "</div>"
      ],
      "text/plain": [
       "Predicted     0     1\n",
       "Actual               \n",
       "0          4993  2458\n",
       "1          2355  5096"
      ]
     },
     "execution_count": 41,
     "metadata": {},
     "output_type": "execute_result"
    }
   ],
   "source": [
    "confusion_matrix = pd.crosstab(y_test, y_pred, rownames=['Actual'], colnames=['Predicted'])\n",
    "confusion_matrix"
   ]
  },
  {
   "cell_type": "markdown",
   "metadata": {},
   "source": [
    "The LGBMClassifier is much more robust, no obvious overfitting"
   ]
  },
  {
   "attachments": {},
   "cell_type": "markdown",
   "metadata": {},
   "source": [
    "### Vanilla XGBoost"
   ]
  },
  {
   "cell_type": "code",
   "execution_count": 42,
   "metadata": {},
   "outputs": [
    {
     "name": "stdout",
     "output_type": "stream",
     "text": [
      "              precision    recall  f1-score   support\n",
      "\n",
      "      winner       0.72      0.70      0.71      7452\n",
      "       loser       0.71      0.73      0.72      7452\n",
      "\n",
      "    accuracy                           0.71     14904\n",
      "   macro avg       0.71      0.71      0.71     14904\n",
      "weighted avg       0.71      0.71      0.71     14904\n",
      "\n"
     ]
    }
   ],
   "source": [
    "model= Pipeline([ (\"encoder\", OrdinalEncoderPandas()), (\"gbm\", XGBClassifier(n_estimators=20))])\n",
    "model.fit(X_train, y_train)\n",
    "\n",
    "y_pred_insample = model.predict(X_train)\n",
    "target_names = [\"winner\", \"loser\"]\n",
    "print(classification_report(y_train, y_pred_insample, target_names=target_names))"
   ]
  },
  {
   "cell_type": "code",
   "execution_count": 43,
   "metadata": {},
   "outputs": [
    {
     "name": "stdout",
     "output_type": "stream",
     "text": [
      "              precision    recall  f1-score   support\n",
      "\n",
      "      winner       0.67      0.67      0.67      7451\n",
      "       loser       0.67      0.67      0.67      7451\n",
      "\n",
      "    accuracy                           0.67     14902\n",
      "   macro avg       0.67      0.67      0.67     14902\n",
      "weighted avg       0.67      0.67      0.67     14902\n",
      "\n"
     ]
    }
   ],
   "source": [
    "y_pred = model.predict(X_test)\n",
    "target_names = [\"winner\", \"loser\"]\n",
    "print(classification_report(y_test, y_pred, target_names=target_names))"
   ]
  },
  {
   "cell_type": "code",
   "execution_count": 44,
   "metadata": {},
   "outputs": [
    {
     "data": {
      "text/html": [
       "<div>\n",
       "<style scoped>\n",
       "    .dataframe tbody tr th:only-of-type {\n",
       "        vertical-align: middle;\n",
       "    }\n",
       "\n",
       "    .dataframe tbody tr th {\n",
       "        vertical-align: top;\n",
       "    }\n",
       "\n",
       "    .dataframe thead th {\n",
       "        text-align: right;\n",
       "    }\n",
       "</style>\n",
       "<table border=\"1\" class=\"dataframe\">\n",
       "  <thead>\n",
       "    <tr style=\"text-align: right;\">\n",
       "      <th>Predicted</th>\n",
       "      <th>0</th>\n",
       "      <th>1</th>\n",
       "    </tr>\n",
       "    <tr>\n",
       "      <th>Actual</th>\n",
       "      <th></th>\n",
       "      <th></th>\n",
       "    </tr>\n",
       "  </thead>\n",
       "  <tbody>\n",
       "    <tr>\n",
       "      <th>0</th>\n",
       "      <td>4955</td>\n",
       "      <td>2496</td>\n",
       "    </tr>\n",
       "    <tr>\n",
       "      <th>1</th>\n",
       "      <td>2432</td>\n",
       "      <td>5019</td>\n",
       "    </tr>\n",
       "  </tbody>\n",
       "</table>\n",
       "</div>"
      ],
      "text/plain": [
       "Predicted     0     1\n",
       "Actual               \n",
       "0          4955  2496\n",
       "1          2432  5019"
      ]
     },
     "execution_count": 44,
     "metadata": {},
     "output_type": "execute_result"
    }
   ],
   "source": [
    "confusion_matrix = pd.crosstab(y_test, y_pred, rownames=['Actual'], colnames=['Predicted'])\n",
    "confusion_matrix"
   ]
  },
  {
   "cell_type": "markdown",
   "metadata": {},
   "source": [
    "XGBoost overfits a bit the data"
   ]
  },
  {
   "attachments": {},
   "cell_type": "markdown",
   "metadata": {},
   "source": [
    "### Vanilla CatBoost"
   ]
  },
  {
   "cell_type": "code",
   "execution_count": 45,
   "metadata": {},
   "outputs": [
    {
     "name": "stdout",
     "output_type": "stream",
     "text": [
      "Learning rate set to 0.5\n",
      "0:\tlearn: 0.6475848\ttotal: 53.4ms\tremaining: 2.62s\n",
      "1:\tlearn: 0.6327338\ttotal: 61.6ms\tremaining: 1.48s\n",
      "2:\tlearn: 0.6257305\ttotal: 68.2ms\tremaining: 1.07s\n",
      "3:\tlearn: 0.6213582\ttotal: 76.4ms\tremaining: 878ms\n",
      "4:\tlearn: 0.6182345\ttotal: 83ms\tremaining: 747ms\n",
      "5:\tlearn: 0.6158049\ttotal: 89ms\tremaining: 653ms\n",
      "6:\tlearn: 0.6143899\ttotal: 97.7ms\tremaining: 600ms\n",
      "7:\tlearn: 0.6133853\ttotal: 105ms\tremaining: 549ms\n",
      "8:\tlearn: 0.6112189\ttotal: 112ms\tremaining: 511ms\n",
      "9:\tlearn: 0.6093427\ttotal: 119ms\tremaining: 478ms\n",
      "10:\tlearn: 0.6083609\ttotal: 128ms\tremaining: 454ms\n",
      "11:\tlearn: 0.6061783\ttotal: 137ms\tremaining: 434ms\n",
      "12:\tlearn: 0.6047767\ttotal: 145ms\tremaining: 414ms\n",
      "13:\tlearn: 0.6032029\ttotal: 152ms\tremaining: 392ms\n",
      "14:\tlearn: 0.6017002\ttotal: 160ms\tremaining: 374ms\n",
      "15:\tlearn: 0.5999621\ttotal: 166ms\tremaining: 353ms\n",
      "16:\tlearn: 0.5981606\ttotal: 174ms\tremaining: 338ms\n",
      "17:\tlearn: 0.5958191\ttotal: 181ms\tremaining: 322ms\n",
      "18:\tlearn: 0.5935455\ttotal: 191ms\tremaining: 311ms\n",
      "19:\tlearn: 0.5920001\ttotal: 197ms\tremaining: 295ms\n",
      "20:\tlearn: 0.5892093\ttotal: 205ms\tremaining: 283ms\n",
      "21:\tlearn: 0.5871688\ttotal: 211ms\tremaining: 269ms\n",
      "22:\tlearn: 0.5853944\ttotal: 218ms\tremaining: 255ms\n",
      "23:\tlearn: 0.5833235\ttotal: 224ms\tremaining: 243ms\n",
      "24:\tlearn: 0.5809524\ttotal: 231ms\tremaining: 231ms\n",
      "25:\tlearn: 0.5798084\ttotal: 240ms\tremaining: 221ms\n",
      "26:\tlearn: 0.5782333\ttotal: 246ms\tremaining: 209ms\n",
      "27:\tlearn: 0.5762376\ttotal: 254ms\tremaining: 199ms\n",
      "28:\tlearn: 0.5739888\ttotal: 260ms\tremaining: 188ms\n",
      "29:\tlearn: 0.5719784\ttotal: 267ms\tremaining: 178ms\n",
      "30:\tlearn: 0.5695299\ttotal: 274ms\tremaining: 168ms\n",
      "31:\tlearn: 0.5680989\ttotal: 283ms\tremaining: 159ms\n",
      "32:\tlearn: 0.5667638\ttotal: 291ms\tremaining: 150ms\n",
      "33:\tlearn: 0.5644815\ttotal: 298ms\tremaining: 140ms\n",
      "34:\tlearn: 0.5625820\ttotal: 307ms\tremaining: 131ms\n",
      "35:\tlearn: 0.5604757\ttotal: 314ms\tremaining: 122ms\n",
      "36:\tlearn: 0.5582628\ttotal: 323ms\tremaining: 113ms\n",
      "37:\tlearn: 0.5561837\ttotal: 332ms\tremaining: 105ms\n",
      "38:\tlearn: 0.5543136\ttotal: 339ms\tremaining: 95.6ms\n",
      "39:\tlearn: 0.5525329\ttotal: 352ms\tremaining: 87.9ms\n",
      "40:\tlearn: 0.5510186\ttotal: 360ms\tremaining: 79ms\n",
      "41:\tlearn: 0.5490764\ttotal: 367ms\tremaining: 69.8ms\n",
      "42:\tlearn: 0.5475727\ttotal: 374ms\tremaining: 60.9ms\n",
      "43:\tlearn: 0.5465033\ttotal: 383ms\tremaining: 52.2ms\n",
      "44:\tlearn: 0.5453409\ttotal: 394ms\tremaining: 43.8ms\n",
      "45:\tlearn: 0.5440867\ttotal: 403ms\tremaining: 35.1ms\n",
      "46:\tlearn: 0.5418344\ttotal: 410ms\tremaining: 26.2ms\n",
      "47:\tlearn: 0.5400800\ttotal: 417ms\tremaining: 17.4ms\n",
      "48:\tlearn: 0.5385107\ttotal: 424ms\tremaining: 8.65ms\n",
      "49:\tlearn: 0.5369606\ttotal: 431ms\tremaining: 0us\n",
      "              precision    recall  f1-score   support\n",
      "\n",
      "      winner       0.73      0.72      0.73      7452\n",
      "       loser       0.73      0.73      0.73      7452\n",
      "\n",
      "    accuracy                           0.73     14904\n",
      "   macro avg       0.73      0.73      0.73     14904\n",
      "weighted avg       0.73      0.73      0.73     14904\n",
      "\n"
     ]
    }
   ],
   "source": [
    "model= Pipeline([ (\"encoder\", OrdinalEncoderPandas()), (\"gbm\", CatBoostClassifier(n_estimators=50))])\n",
    "model.fit(X_train, y_train)\n",
    "\n",
    "y_pred_insample = model.predict(X_train)\n",
    "target_names = [\"winner\", \"loser\"]\n",
    "print(classification_report(y_train, y_pred_insample, target_names=target_names))"
   ]
  },
  {
   "cell_type": "code",
   "execution_count": 46,
   "metadata": {},
   "outputs": [
    {
     "name": "stdout",
     "output_type": "stream",
     "text": [
      "              precision    recall  f1-score   support\n",
      "\n",
      "      winner       0.65      0.64      0.65      7451\n",
      "       loser       0.65      0.66      0.65      7451\n",
      "\n",
      "    accuracy                           0.65     14902\n",
      "   macro avg       0.65      0.65      0.65     14902\n",
      "weighted avg       0.65      0.65      0.65     14902\n",
      "\n"
     ]
    }
   ],
   "source": [
    "y_pred = model.predict(X_test)\n",
    "target_names = [\"winner\", \"loser\"]\n",
    "print(classification_report(y_test, y_pred, target_names=target_names))"
   ]
  },
  {
   "cell_type": "code",
   "execution_count": 47,
   "metadata": {},
   "outputs": [
    {
     "data": {
      "text/html": [
       "<div>\n",
       "<style scoped>\n",
       "    .dataframe tbody tr th:only-of-type {\n",
       "        vertical-align: middle;\n",
       "    }\n",
       "\n",
       "    .dataframe tbody tr th {\n",
       "        vertical-align: top;\n",
       "    }\n",
       "\n",
       "    .dataframe thead th {\n",
       "        text-align: right;\n",
       "    }\n",
       "</style>\n",
       "<table border=\"1\" class=\"dataframe\">\n",
       "  <thead>\n",
       "    <tr style=\"text-align: right;\">\n",
       "      <th>Predicted</th>\n",
       "      <th>0</th>\n",
       "      <th>1</th>\n",
       "    </tr>\n",
       "    <tr>\n",
       "      <th>Actual</th>\n",
       "      <th></th>\n",
       "      <th></th>\n",
       "    </tr>\n",
       "  </thead>\n",
       "  <tbody>\n",
       "    <tr>\n",
       "      <th>0</th>\n",
       "      <td>4770</td>\n",
       "      <td>2681</td>\n",
       "    </tr>\n",
       "    <tr>\n",
       "      <th>1</th>\n",
       "      <td>2560</td>\n",
       "      <td>4891</td>\n",
       "    </tr>\n",
       "  </tbody>\n",
       "</table>\n",
       "</div>"
      ],
      "text/plain": [
       "Predicted     0     1\n",
       "Actual               \n",
       "0          4770  2681\n",
       "1          2560  4891"
      ]
     },
     "execution_count": 47,
     "metadata": {},
     "output_type": "execute_result"
    }
   ],
   "source": [
    "confusion_matrix = pd.crosstab(y_test, y_pred, rownames=['Actual'], colnames=['Predicted'])\n",
    "confusion_matrix"
   ]
  },
  {
   "cell_type": "markdown",
   "metadata": {},
   "source": [
    "same for Catboost, overfits the data"
   ]
  },
  {
   "attachments": {},
   "cell_type": "markdown",
   "metadata": {},
   "source": [
    "### Vanilla + FS"
   ]
  },
  {
   "cell_type": "code",
   "execution_count": 48,
   "metadata": {},
   "outputs": [
    {
     "name": "stderr",
     "output_type": "stream",
     "text": [
      "fasttreeshap is not installed. Fallback to shap.\n"
     ]
    },
    {
     "data": {
      "application/vnd.jupyter.widget-view+json": {
       "model_id": "26a9a6bc0cd644ed887906b575df533c",
       "version_major": 2,
       "version_minor": 0
      },
      "text/plain": [
       "Leshy iteration:   0%|          | 0/10 [00:00<?, ?it/s]"
      ]
     },
     "metadata": {},
     "output_type": "display_data"
    },
    {
     "name": "stdout",
     "output_type": "stream",
     "text": [
      "All relevant predictors selected in 00:00:19.24\n",
      "              precision    recall  f1-score   support\n",
      "\n",
      "      winner       0.68      0.66      0.67      7451\n",
      "       loser       0.67      0.69      0.68      7451\n",
      "\n",
      "    accuracy                           0.67     14902\n",
      "   macro avg       0.67      0.67      0.67     14902\n",
      "weighted avg       0.67      0.67      0.67     14902\n",
      "\n"
     ]
    }
   ],
   "source": [
    "arfs_model = LGBMClassifier(random_state=42, verbose=-1, objective=\"binary\", zero_as_missing=False, n_estimators=10)\n",
    "lgb_kwargs = {\"objective\": \"binary\", \"zero_as_missing\": False, \"num_iterations\": 10}\n",
    "\n",
    "fs = Pipeline([\n",
    "        (\"missing\", MissingValueThreshold(threshold=0.05)),\n",
    "        (\"unique\", UniqueValuesThreshold(threshold=1)),\n",
    "        # (\"collinearity\", CollinearityThreshold(threshold=0.95)),\n",
    "        # (\"lowimp\", VariableImportance(verbose=2, threshold=0.99, lgb_kwargs=lgb_kwargs, encode=True)),\n",
    "        (\"arfs\", Leshy(arfs_model, n_estimators=100, verbose=0, max_iter=10, random_state=42, importance=\"shap\"))\n",
    "    ])\n",
    "\n",
    "fs_model= Pipeline([ (\"encoder\", OrdinalEncoderPandas()), (\"fs\", fs), (\"gbm\", LGBMClassifier(n_estimators=20))])\n",
    "\n",
    "fs_model.fit(X_train, y_train)\n",
    "\n",
    "y_pred = fs_model.predict(X_test)\n",
    "target_names = [\"winner\", \"loser\"]\n",
    "print(classification_report(y_test, y_pred, target_names=target_names))"
   ]
  },
  {
   "cell_type": "code",
   "execution_count": 49,
   "metadata": {},
   "outputs": [
    {
     "data": {
      "text/html": [
       "<div>\n",
       "<style scoped>\n",
       "    .dataframe tbody tr th:only-of-type {\n",
       "        vertical-align: middle;\n",
       "    }\n",
       "\n",
       "    .dataframe tbody tr th {\n",
       "        vertical-align: top;\n",
       "    }\n",
       "\n",
       "    .dataframe thead th {\n",
       "        text-align: right;\n",
       "    }\n",
       "</style>\n",
       "<table border=\"1\" class=\"dataframe\">\n",
       "  <thead>\n",
       "    <tr style=\"text-align: right;\">\n",
       "      <th>Predicted</th>\n",
       "      <th>0</th>\n",
       "      <th>1</th>\n",
       "    </tr>\n",
       "    <tr>\n",
       "      <th>Actual</th>\n",
       "      <th></th>\n",
       "      <th></th>\n",
       "    </tr>\n",
       "  </thead>\n",
       "  <tbody>\n",
       "    <tr>\n",
       "      <th>0</th>\n",
       "      <td>4939</td>\n",
       "      <td>2512</td>\n",
       "    </tr>\n",
       "    <tr>\n",
       "      <th>1</th>\n",
       "      <td>2337</td>\n",
       "      <td>5114</td>\n",
       "    </tr>\n",
       "  </tbody>\n",
       "</table>\n",
       "</div>"
      ],
      "text/plain": [
       "Predicted     0     1\n",
       "Actual               \n",
       "0          4939  2512\n",
       "1          2337  5114"
      ]
     },
     "execution_count": 49,
     "metadata": {},
     "output_type": "execute_result"
    }
   ],
   "source": [
    "confusion_matrix = pd.crosstab(y_test, y_pred, rownames=['Actual'], colnames=['Predicted'])\n",
    "confusion_matrix"
   ]
  },
  {
   "cell_type": "code",
   "execution_count": 50,
   "metadata": {},
   "outputs": [
    {
     "data": {
      "text/html": [
       "<style type=\"text/css\">\n",
       "#T_9adfb_row0_col1, #T_9adfb_row0_col2, #T_9adfb_row1_col1, #T_9adfb_row1_col2, #T_9adfb_row2_col1, #T_9adfb_row2_col2, #T_9adfb_row3_col1, #T_9adfb_row3_col2, #T_9adfb_row4_col1, #T_9adfb_row4_col2, #T_9adfb_row5_col1, #T_9adfb_row5_col2, #T_9adfb_row6_col1, #T_9adfb_row6_col2, #T_9adfb_row7_col1, #T_9adfb_row7_col2, #T_9adfb_row8_col1, #T_9adfb_row8_col2, #T_9adfb_row9_col1, #T_9adfb_row9_col2, #T_9adfb_row10_col1, #T_9adfb_row10_col2, #T_9adfb_row10_col3, #T_9adfb_row11_col1, #T_9adfb_row11_col2, #T_9adfb_row11_col3, #T_9adfb_row12_col1, #T_9adfb_row12_col2, #T_9adfb_row13_col1, #T_9adfb_row13_col2, #T_9adfb_row13_col3, #T_9adfb_row14_col1, #T_9adfb_row14_col2, #T_9adfb_row14_col3, #T_9adfb_row15_col1, #T_9adfb_row15_col2, #T_9adfb_row15_col3, #T_9adfb_row16_col1, #T_9adfb_row16_col2, #T_9adfb_row17_col1, #T_9adfb_row17_col2, #T_9adfb_row18_col1, #T_9adfb_row18_col2, #T_9adfb_row19_col1, #T_9adfb_row19_col2, #T_9adfb_row19_col3, #T_9adfb_row20_col1, #T_9adfb_row20_col2 {\n",
       "  background-color: #0c8a30;\n",
       "}\n",
       "#T_9adfb_row0_col3, #T_9adfb_row1_col3, #T_9adfb_row2_col3, #T_9adfb_row3_col3, #T_9adfb_row4_col3, #T_9adfb_row5_col3, #T_9adfb_row6_col3, #T_9adfb_row7_col3, #T_9adfb_row8_col3, #T_9adfb_row9_col3, #T_9adfb_row12_col3, #T_9adfb_row16_col3, #T_9adfb_row17_col3, #T_9adfb_row18_col3, #T_9adfb_row20_col3 {\n",
       "  background-color: #ba0202;\n",
       "}\n",
       "</style>\n",
       "<table id=\"T_9adfb\">\n",
       "  <thead>\n",
       "    <tr>\n",
       "      <th class=\"blank level0\" >&nbsp;</th>\n",
       "      <th id=\"T_9adfb_level0_col0\" class=\"col_heading level0 col0\" >predictor</th>\n",
       "      <th id=\"T_9adfb_level0_col1\" class=\"col_heading level0 col1\" >missing</th>\n",
       "      <th id=\"T_9adfb_level0_col2\" class=\"col_heading level0 col2\" >unique</th>\n",
       "      <th id=\"T_9adfb_level0_col3\" class=\"col_heading level0 col3\" >arfs</th>\n",
       "    </tr>\n",
       "  </thead>\n",
       "  <tbody>\n",
       "    <tr>\n",
       "      <th id=\"T_9adfb_level0_row0\" class=\"row_heading level0 row0\" >0</th>\n",
       "      <td id=\"T_9adfb_row0_col0\" class=\"data row0 col0\" >atp</td>\n",
       "      <td id=\"T_9adfb_row0_col1\" class=\"data row0 col1\" >1</td>\n",
       "      <td id=\"T_9adfb_row0_col2\" class=\"data row0 col2\" >1</td>\n",
       "      <td id=\"T_9adfb_row0_col3\" class=\"data row0 col3\" >0</td>\n",
       "    </tr>\n",
       "    <tr>\n",
       "      <th id=\"T_9adfb_level0_row1\" class=\"row_heading level0 row1\" >1</th>\n",
       "      <td id=\"T_9adfb_row1_col0\" class=\"data row1 col0\" >location</td>\n",
       "      <td id=\"T_9adfb_row1_col1\" class=\"data row1 col1\" >1</td>\n",
       "      <td id=\"T_9adfb_row1_col2\" class=\"data row1 col2\" >1</td>\n",
       "      <td id=\"T_9adfb_row1_col3\" class=\"data row1 col3\" >0</td>\n",
       "    </tr>\n",
       "    <tr>\n",
       "      <th id=\"T_9adfb_level0_row2\" class=\"row_heading level0 row2\" >2</th>\n",
       "      <td id=\"T_9adfb_row2_col0\" class=\"data row2 col0\" >tournament</td>\n",
       "      <td id=\"T_9adfb_row2_col1\" class=\"data row2 col1\" >1</td>\n",
       "      <td id=\"T_9adfb_row2_col2\" class=\"data row2 col2\" >1</td>\n",
       "      <td id=\"T_9adfb_row2_col3\" class=\"data row2 col3\" >0</td>\n",
       "    </tr>\n",
       "    <tr>\n",
       "      <th id=\"T_9adfb_level0_row3\" class=\"row_heading level0 row3\" >3</th>\n",
       "      <td id=\"T_9adfb_row3_col0\" class=\"data row3 col0\" >series</td>\n",
       "      <td id=\"T_9adfb_row3_col1\" class=\"data row3 col1\" >1</td>\n",
       "      <td id=\"T_9adfb_row3_col2\" class=\"data row3 col2\" >1</td>\n",
       "      <td id=\"T_9adfb_row3_col3\" class=\"data row3 col3\" >0</td>\n",
       "    </tr>\n",
       "    <tr>\n",
       "      <th id=\"T_9adfb_level0_row4\" class=\"row_heading level0 row4\" >4</th>\n",
       "      <td id=\"T_9adfb_row4_col0\" class=\"data row4 col0\" >court</td>\n",
       "      <td id=\"T_9adfb_row4_col1\" class=\"data row4 col1\" >1</td>\n",
       "      <td id=\"T_9adfb_row4_col2\" class=\"data row4 col2\" >1</td>\n",
       "      <td id=\"T_9adfb_row4_col3\" class=\"data row4 col3\" >0</td>\n",
       "    </tr>\n",
       "    <tr>\n",
       "      <th id=\"T_9adfb_level0_row5\" class=\"row_heading level0 row5\" >5</th>\n",
       "      <td id=\"T_9adfb_row5_col0\" class=\"data row5 col0\" >surface</td>\n",
       "      <td id=\"T_9adfb_row5_col1\" class=\"data row5 col1\" >1</td>\n",
       "      <td id=\"T_9adfb_row5_col2\" class=\"data row5 col2\" >1</td>\n",
       "      <td id=\"T_9adfb_row5_col3\" class=\"data row5 col3\" >0</td>\n",
       "    </tr>\n",
       "    <tr>\n",
       "      <th id=\"T_9adfb_level0_row6\" class=\"row_heading level0 row6\" >6</th>\n",
       "      <td id=\"T_9adfb_row6_col0\" class=\"data row6 col0\" >round</td>\n",
       "      <td id=\"T_9adfb_row6_col1\" class=\"data row6 col1\" >1</td>\n",
       "      <td id=\"T_9adfb_row6_col2\" class=\"data row6 col2\" >1</td>\n",
       "      <td id=\"T_9adfb_row6_col3\" class=\"data row6 col3\" >0</td>\n",
       "    </tr>\n",
       "    <tr>\n",
       "      <th id=\"T_9adfb_level0_row7\" class=\"row_heading level0 row7\" >7</th>\n",
       "      <td id=\"T_9adfb_row7_col0\" class=\"data row7 col0\" >best of</td>\n",
       "      <td id=\"T_9adfb_row7_col1\" class=\"data row7 col1\" >1</td>\n",
       "      <td id=\"T_9adfb_row7_col2\" class=\"data row7 col2\" >1</td>\n",
       "      <td id=\"T_9adfb_row7_col3\" class=\"data row7 col3\" >0</td>\n",
       "    </tr>\n",
       "    <tr>\n",
       "      <th id=\"T_9adfb_level0_row8\" class=\"row_heading level0 row8\" >8</th>\n",
       "      <td id=\"T_9adfb_row8_col0\" class=\"data row8 col0\" >p1</td>\n",
       "      <td id=\"T_9adfb_row8_col1\" class=\"data row8 col1\" >1</td>\n",
       "      <td id=\"T_9adfb_row8_col2\" class=\"data row8 col2\" >1</td>\n",
       "      <td id=\"T_9adfb_row8_col3\" class=\"data row8 col3\" >0</td>\n",
       "    </tr>\n",
       "    <tr>\n",
       "      <th id=\"T_9adfb_level0_row9\" class=\"row_heading level0 row9\" >9</th>\n",
       "      <td id=\"T_9adfb_row9_col0\" class=\"data row9 col0\" >p2</td>\n",
       "      <td id=\"T_9adfb_row9_col1\" class=\"data row9 col1\" >1</td>\n",
       "      <td id=\"T_9adfb_row9_col2\" class=\"data row9 col2\" >1</td>\n",
       "      <td id=\"T_9adfb_row9_col3\" class=\"data row9 col3\" >0</td>\n",
       "    </tr>\n",
       "    <tr>\n",
       "      <th id=\"T_9adfb_level0_row10\" class=\"row_heading level0 row10\" >10</th>\n",
       "      <td id=\"T_9adfb_row10_col0\" class=\"data row10 col0\" >rank_p1</td>\n",
       "      <td id=\"T_9adfb_row10_col1\" class=\"data row10 col1\" >1</td>\n",
       "      <td id=\"T_9adfb_row10_col2\" class=\"data row10 col2\" >1</td>\n",
       "      <td id=\"T_9adfb_row10_col3\" class=\"data row10 col3\" >1</td>\n",
       "    </tr>\n",
       "    <tr>\n",
       "      <th id=\"T_9adfb_level0_row11\" class=\"row_heading level0 row11\" >11</th>\n",
       "      <td id=\"T_9adfb_row11_col0\" class=\"data row11 col0\" >rank_p2</td>\n",
       "      <td id=\"T_9adfb_row11_col1\" class=\"data row11 col1\" >1</td>\n",
       "      <td id=\"T_9adfb_row11_col2\" class=\"data row11 col2\" >1</td>\n",
       "      <td id=\"T_9adfb_row11_col3\" class=\"data row11 col3\" >1</td>\n",
       "    </tr>\n",
       "    <tr>\n",
       "      <th id=\"T_9adfb_level0_row12\" class=\"row_heading level0 row12\" >12</th>\n",
       "      <td id=\"T_9adfb_row12_col0\" class=\"data row12 col0\" >comment</td>\n",
       "      <td id=\"T_9adfb_row12_col1\" class=\"data row12 col1\" >1</td>\n",
       "      <td id=\"T_9adfb_row12_col2\" class=\"data row12 col2\" >1</td>\n",
       "      <td id=\"T_9adfb_row12_col3\" class=\"data row12 col3\" >0</td>\n",
       "    </tr>\n",
       "    <tr>\n",
       "      <th id=\"T_9adfb_level0_row13\" class=\"row_heading level0 row13\" >13</th>\n",
       "      <td id=\"T_9adfb_row13_col0\" class=\"data row13 col0\" >elo_p1</td>\n",
       "      <td id=\"T_9adfb_row13_col1\" class=\"data row13 col1\" >1</td>\n",
       "      <td id=\"T_9adfb_row13_col2\" class=\"data row13 col2\" >1</td>\n",
       "      <td id=\"T_9adfb_row13_col3\" class=\"data row13 col3\" >1</td>\n",
       "    </tr>\n",
       "    <tr>\n",
       "      <th id=\"T_9adfb_level0_row14\" class=\"row_heading level0 row14\" >14</th>\n",
       "      <td id=\"T_9adfb_row14_col0\" class=\"data row14 col0\" >elo_p2</td>\n",
       "      <td id=\"T_9adfb_row14_col1\" class=\"data row14 col1\" >1</td>\n",
       "      <td id=\"T_9adfb_row14_col2\" class=\"data row14 col2\" >1</td>\n",
       "      <td id=\"T_9adfb_row14_col3\" class=\"data row14 col3\" >1</td>\n",
       "    </tr>\n",
       "    <tr>\n",
       "      <th id=\"T_9adfb_level0_row15\" class=\"row_heading level0 row15\" >15</th>\n",
       "      <td id=\"T_9adfb_row15_col0\" class=\"data row15 col0\" >proba_elo</td>\n",
       "      <td id=\"T_9adfb_row15_col1\" class=\"data row15 col1\" >1</td>\n",
       "      <td id=\"T_9adfb_row15_col2\" class=\"data row15 col2\" >1</td>\n",
       "      <td id=\"T_9adfb_row15_col3\" class=\"data row15 col3\" >1</td>\n",
       "    </tr>\n",
       "    <tr>\n",
       "      <th id=\"T_9adfb_level0_row16\" class=\"row_heading level0 row16\" >16</th>\n",
       "      <td id=\"T_9adfb_row16_col0\" class=\"data row16 col0\" >year</td>\n",
       "      <td id=\"T_9adfb_row16_col1\" class=\"data row16 col1\" >1</td>\n",
       "      <td id=\"T_9adfb_row16_col2\" class=\"data row16 col2\" >1</td>\n",
       "      <td id=\"T_9adfb_row16_col3\" class=\"data row16 col3\" >0</td>\n",
       "    </tr>\n",
       "    <tr>\n",
       "      <th id=\"T_9adfb_level0_row17\" class=\"row_heading level0 row17\" >17</th>\n",
       "      <td id=\"T_9adfb_row17_col0\" class=\"data row17 col0\" >month</td>\n",
       "      <td id=\"T_9adfb_row17_col1\" class=\"data row17 col1\" >1</td>\n",
       "      <td id=\"T_9adfb_row17_col2\" class=\"data row17 col2\" >1</td>\n",
       "      <td id=\"T_9adfb_row17_col3\" class=\"data row17 col3\" >0</td>\n",
       "    </tr>\n",
       "    <tr>\n",
       "      <th id=\"T_9adfb_level0_row18\" class=\"row_heading level0 row18\" >18</th>\n",
       "      <td id=\"T_9adfb_row18_col0\" class=\"data row18 col0\" >day</td>\n",
       "      <td id=\"T_9adfb_row18_col1\" class=\"data row18 col1\" >1</td>\n",
       "      <td id=\"T_9adfb_row18_col2\" class=\"data row18 col2\" >1</td>\n",
       "      <td id=\"T_9adfb_row18_col3\" class=\"data row18 col3\" >0</td>\n",
       "    </tr>\n",
       "    <tr>\n",
       "      <th id=\"T_9adfb_level0_row19\" class=\"row_heading level0 row19\" >19</th>\n",
       "      <td id=\"T_9adfb_row19_col0\" class=\"data row19 col0\" >rank_diff</td>\n",
       "      <td id=\"T_9adfb_row19_col1\" class=\"data row19 col1\" >1</td>\n",
       "      <td id=\"T_9adfb_row19_col2\" class=\"data row19 col2\" >1</td>\n",
       "      <td id=\"T_9adfb_row19_col3\" class=\"data row19 col3\" >1</td>\n",
       "    </tr>\n",
       "    <tr>\n",
       "      <th id=\"T_9adfb_level0_row20\" class=\"row_heading level0 row20\" >20</th>\n",
       "      <td id=\"T_9adfb_row20_col0\" class=\"data row20 col0\" >best_ranked</td>\n",
       "      <td id=\"T_9adfb_row20_col1\" class=\"data row20 col1\" >1</td>\n",
       "      <td id=\"T_9adfb_row20_col2\" class=\"data row20 col2\" >1</td>\n",
       "      <td id=\"T_9adfb_row20_col3\" class=\"data row20 col3\" >0</td>\n",
       "    </tr>\n",
       "  </tbody>\n",
       "</table>\n"
      ],
      "text/plain": [
       "<pandas.io.formats.style.Styler at 0x7f97ea4b7a50>"
      ]
     },
     "execution_count": 50,
     "metadata": {},
     "output_type": "execute_result"
    }
   ],
   "source": [
    "make_fs_summary(fs_model.named_steps[\"fs\"])"
   ]
  },
  {
   "cell_type": "code",
   "execution_count": 51,
   "metadata": {},
   "outputs": [
    {
     "data": {
      "text/html": [
       "<style>#sk-container-id-2 {color: black;background-color: white;}#sk-container-id-2 pre{padding: 0;}#sk-container-id-2 div.sk-toggleable {background-color: white;}#sk-container-id-2 label.sk-toggleable__label {cursor: pointer;display: block;width: 100%;margin-bottom: 0;padding: 0.3em;box-sizing: border-box;text-align: center;}#sk-container-id-2 label.sk-toggleable__label-arrow:before {content: \"▸\";float: left;margin-right: 0.25em;color: #696969;}#sk-container-id-2 label.sk-toggleable__label-arrow:hover:before {color: black;}#sk-container-id-2 div.sk-estimator:hover label.sk-toggleable__label-arrow:before {color: black;}#sk-container-id-2 div.sk-toggleable__content {max-height: 0;max-width: 0;overflow: hidden;text-align: left;background-color: #f0f8ff;}#sk-container-id-2 div.sk-toggleable__content pre {margin: 0.2em;color: black;border-radius: 0.25em;background-color: #f0f8ff;}#sk-container-id-2 input.sk-toggleable__control:checked~div.sk-toggleable__content {max-height: 200px;max-width: 100%;overflow: auto;}#sk-container-id-2 input.sk-toggleable__control:checked~label.sk-toggleable__label-arrow:before {content: \"▾\";}#sk-container-id-2 div.sk-estimator input.sk-toggleable__control:checked~label.sk-toggleable__label {background-color: #d4ebff;}#sk-container-id-2 div.sk-label input.sk-toggleable__control:checked~label.sk-toggleable__label {background-color: #d4ebff;}#sk-container-id-2 input.sk-hidden--visually {border: 0;clip: rect(1px 1px 1px 1px);clip: rect(1px, 1px, 1px, 1px);height: 1px;margin: -1px;overflow: hidden;padding: 0;position: absolute;width: 1px;}#sk-container-id-2 div.sk-estimator {font-family: monospace;background-color: #f0f8ff;border: 1px dotted black;border-radius: 0.25em;box-sizing: border-box;margin-bottom: 0.5em;}#sk-container-id-2 div.sk-estimator:hover {background-color: #d4ebff;}#sk-container-id-2 div.sk-parallel-item::after {content: \"\";width: 100%;border-bottom: 1px solid gray;flex-grow: 1;}#sk-container-id-2 div.sk-label:hover label.sk-toggleable__label {background-color: #d4ebff;}#sk-container-id-2 div.sk-serial::before {content: \"\";position: absolute;border-left: 1px solid gray;box-sizing: border-box;top: 0;bottom: 0;left: 50%;z-index: 0;}#sk-container-id-2 div.sk-serial {display: flex;flex-direction: column;align-items: center;background-color: white;padding-right: 0.2em;padding-left: 0.2em;position: relative;}#sk-container-id-2 div.sk-item {position: relative;z-index: 1;}#sk-container-id-2 div.sk-parallel {display: flex;align-items: stretch;justify-content: center;background-color: white;position: relative;}#sk-container-id-2 div.sk-item::before, #sk-container-id-2 div.sk-parallel-item::before {content: \"\";position: absolute;border-left: 1px solid gray;box-sizing: border-box;top: 0;bottom: 0;left: 50%;z-index: -1;}#sk-container-id-2 div.sk-parallel-item {display: flex;flex-direction: column;z-index: 1;position: relative;background-color: white;}#sk-container-id-2 div.sk-parallel-item:first-child::after {align-self: flex-end;width: 50%;}#sk-container-id-2 div.sk-parallel-item:last-child::after {align-self: flex-start;width: 50%;}#sk-container-id-2 div.sk-parallel-item:only-child::after {width: 0;}#sk-container-id-2 div.sk-dashed-wrapped {border: 1px dashed gray;margin: 0 0.4em 0.5em 0.4em;box-sizing: border-box;padding-bottom: 0.4em;background-color: white;}#sk-container-id-2 div.sk-label label {font-family: monospace;font-weight: bold;display: inline-block;line-height: 1.2em;}#sk-container-id-2 div.sk-label-container {text-align: center;}#sk-container-id-2 div.sk-container {/* jupyter's `normalize.less` sets `[hidden] { display: none; }` but bootstrap.min.css set `[hidden] { display: none !important; }` so we also need the `!important` here to be able to override the default hidden behavior on the sphinx rendered scikit-learn.org. See: https://github.com/scikit-learn/scikit-learn/issues/21755 */display: inline-block !important;position: relative;}#sk-container-id-2 div.sk-text-repr-fallback {display: none;}</style><div id=\"sk-container-id-2\" class=\"sk-top-container\"><div class=\"sk-text-repr-fallback\"><pre>Leshy(estimator=LGBMClassifier(objective=&#x27;binary&#x27;, random_state=7938,\n",
       "                               verbose=-1, zero_as_missing=False),\n",
       "      max_iter=10, n_estimators=100,\n",
       "      random_state=RandomState(MT19937) at 0x7F97EA723240)</pre><b>In a Jupyter environment, please rerun this cell to show the HTML representation or trust the notebook. <br />On GitHub, the HTML representation is unable to render, please try loading this page with nbviewer.org.</b></div><div class=\"sk-container\" hidden><div class=\"sk-item sk-dashed-wrapped\"><div class=\"sk-label-container\"><div class=\"sk-label sk-toggleable\"><input class=\"sk-toggleable__control sk-hidden--visually\" id=\"sk-estimator-id-5\" type=\"checkbox\" ><label for=\"sk-estimator-id-5\" class=\"sk-toggleable__label sk-toggleable__label-arrow\">Leshy</label><div class=\"sk-toggleable__content\"><pre>Leshy(estimator=LGBMClassifier(objective=&#x27;binary&#x27;, random_state=7938,\n",
       "                               verbose=-1, zero_as_missing=False),\n",
       "      max_iter=10, n_estimators=100,\n",
       "      random_state=RandomState(MT19937) at 0x7F97EA723240)</pre></div></div></div><div class=\"sk-parallel\"><div class=\"sk-parallel-item\"><div class=\"sk-item\"><div class=\"sk-label-container\"><div class=\"sk-label sk-toggleable\"><input class=\"sk-toggleable__control sk-hidden--visually\" id=\"sk-estimator-id-6\" type=\"checkbox\" ><label for=\"sk-estimator-id-6\" class=\"sk-toggleable__label sk-toggleable__label-arrow\">estimator: LGBMClassifier</label><div class=\"sk-toggleable__content\"><pre>LGBMClassifier(objective=&#x27;binary&#x27;, random_state=7938, verbose=-1,\n",
       "               zero_as_missing=False)</pre></div></div></div><div class=\"sk-serial\"><div class=\"sk-item\"><div class=\"sk-estimator sk-toggleable\"><input class=\"sk-toggleable__control sk-hidden--visually\" id=\"sk-estimator-id-7\" type=\"checkbox\" ><label for=\"sk-estimator-id-7\" class=\"sk-toggleable__label sk-toggleable__label-arrow\">LGBMClassifier</label><div class=\"sk-toggleable__content\"><pre>LGBMClassifier(objective=&#x27;binary&#x27;, random_state=7938, verbose=-1,\n",
       "               zero_as_missing=False)</pre></div></div></div></div></div></div></div></div></div></div>"
      ],
      "text/plain": [
       "Leshy(estimator=LGBMClassifier(objective='binary', random_state=7938,\n",
       "                               verbose=-1, zero_as_missing=False),\n",
       "      max_iter=10, n_estimators=100,\n",
       "      random_state=RandomState(MT19937) at 0x7F97EA723240)"
      ]
     },
     "execution_count": 51,
     "metadata": {},
     "output_type": "execute_result"
    }
   ],
   "source": [
    "fs_model.named_steps[\"fs\"][\"arfs\"]"
   ]
  },
  {
   "cell_type": "code",
   "execution_count": 52,
   "metadata": {},
   "outputs": [
    {
     "data": {
      "image/png": "[encoded data removed]",
      "text/plain": [
       "<Figure size 1600x420 with 1 Axes>"
      ]
     },
     "execution_count": 52,
     "metadata": {},
     "output_type": "execute_result"
    },
    {
     "data": {
      "image/png": "[encoded data removed]",
      "text/plain": [
       "<Figure size 1600x420 with 1 Axes>"
      ]
     },
     "metadata": {},
     "output_type": "display_data"
    }
   ],
   "source": [
    "fig = fs_model.named_steps[\"fs\"][\"arfs\"].plot_importance()\n",
    "fig"
   ]
  },
  {
   "cell_type": "code",
   "execution_count": 55,
   "metadata": {},
   "outputs": [
    {
     "name": "stderr",
     "output_type": "stream",
     "text": [
      "[I 2023-08-06 15:03:51,499] A new study created in memory with name: no-name-328f2d16-d9bd-4645-ae9a-4eccc59af152\n",
      "feature_fraction, val_score: inf:   0%|          | 0/7 [00:00<?, ?it/s]"
     ]
    },
    {
     "name": "stdout",
     "output_type": "stream",
     "text": [
      "Training until validation scores don't improve for 100 rounds\n"
     ]
    },
    {
     "name": "stderr",
     "output_type": "stream",
     "text": [
      "feature_fraction, val_score: 0.599560:  14%|#4        | 1/7 [00:00<00:03,  1.93it/s][I 2023-08-06 15:03:52,033] Trial 0 finished with value: 0.5995604741734982 and parameters: {'feature_fraction': 0.4}. Best is trial 0 with value: 0.5995604741734982.\n",
      "feature_fraction, val_score: 0.599560:  14%|#4        | 1/7 [00:00<00:03,  1.93it/s]"
     ]
    },
    {
     "name": "stdout",
     "output_type": "stream",
     "text": [
      "Early stopping, best iteration is:\n",
      "[23]\tvalid_0's binary_logloss: 0.471114\tvalid_1's binary_logloss: 0.59956\n"
     ]
    },
    {
     "name": "stderr",
     "output_type": "stream",
     "text": [
      "feature_fraction, val_score: 0.599560:  29%|##8       | 2/7 [00:01<00:02,  1.76it/s][I 2023-08-06 15:03:52,638] Trial 1 finished with value: 0.5995604741734982 and parameters: {'feature_fraction': 0.8999999999999999}. Best is trial 0 with value: 0.5995604741734982.\n",
      "feature_fraction, val_score: 0.599560:  29%|##8       | 2/7 [00:01<00:02,  1.76it/s]"
     ]
    },
    {
     "name": "stdout",
     "output_type": "stream",
     "text": [
      "Early stopping, best iteration is:\n",
      "[23]\tvalid_0's binary_logloss: 0.471114\tvalid_1's binary_logloss: 0.59956\n"
     ]
    },
    {
     "name": "stderr",
     "output_type": "stream",
     "text": [
      "feature_fraction, val_score: 0.599560:  43%|####2     | 3/7 [00:01<00:01,  2.14it/s][I 2023-08-06 15:03:52,980] Trial 2 finished with value: 0.5995604741734982 and parameters: {'feature_fraction': 1.0}. Best is trial 0 with value: 0.5995604741734982.\n",
      "feature_fraction, val_score: 0.599560:  43%|####2     | 3/7 [00:01<00:01,  2.14it/s]"
     ]
    },
    {
     "name": "stdout",
     "output_type": "stream",
     "text": [
      "Early stopping, best iteration is:\n",
      "[23]\tvalid_0's binary_logloss: 0.471114\tvalid_1's binary_logloss: 0.59956\n"
     ]
    },
    {
     "name": "stderr",
     "output_type": "stream",
     "text": [
      "feature_fraction, val_score: 0.594746:  57%|#####7    | 4/7 [00:01<00:01,  2.39it/s][I 2023-08-06 15:03:53,327] Trial 3 finished with value: 0.5947455615962602 and parameters: {'feature_fraction': 0.8}. Best is trial 3 with value: 0.5947455615962602.\n",
      "feature_fraction, val_score: 0.594746:  57%|#####7    | 4/7 [00:01<00:01,  2.39it/s]"
     ]
    },
    {
     "name": "stdout",
     "output_type": "stream",
     "text": [
      "Early stopping, best iteration is:\n",
      "[19]\tvalid_0's binary_logloss: 0.466297\tvalid_1's binary_logloss: 0.594746\n"
     ]
    },
    {
     "name": "stderr",
     "output_type": "stream",
     "text": [
      "feature_fraction, val_score: 0.594746:  71%|#######1  | 5/7 [00:02<00:00,  2.04it/s][I 2023-08-06 15:03:53,940] Trial 4 finished with value: 0.5947455615962602 and parameters: {'feature_fraction': 0.5}. Best is trial 3 with value: 0.5947455615962602.\n",
      "feature_fraction, val_score: 0.594746:  71%|#######1  | 5/7 [00:02<00:00,  2.04it/s]"
     ]
    },
    {
     "name": "stdout",
     "output_type": "stream",
     "text": [
      "Early stopping, best iteration is:\n",
      "[19]\tvalid_0's binary_logloss: 0.466297\tvalid_1's binary_logloss: 0.594746\n"
     ]
    },
    {
     "name": "stderr",
     "output_type": "stream",
     "text": [
      "feature_fraction, val_score: 0.594746:  86%|########5 | 6/7 [00:02<00:00,  2.33it/s][I 2023-08-06 15:03:54,252] Trial 5 finished with value: 0.5947455615962602 and parameters: {'feature_fraction': 0.7}. Best is trial 3 with value: 0.5947455615962602.\n",
      "feature_fraction, val_score: 0.594746:  86%|########5 | 6/7 [00:02<00:00,  2.33it/s]"
     ]
    },
    {
     "name": "stdout",
     "output_type": "stream",
     "text": [
      "Early stopping, best iteration is:\n",
      "[19]\tvalid_0's binary_logloss: 0.466297\tvalid_1's binary_logloss: 0.594746\n"
     ]
    },
    {
     "name": "stderr",
     "output_type": "stream",
     "text": [
      "feature_fraction, val_score: 0.594746: 100%|##########| 7/7 [00:03<00:00,  2.56it/s][I 2023-08-06 15:03:54,566] Trial 6 finished with value: 0.5947455615962602 and parameters: {'feature_fraction': 0.6}. Best is trial 3 with value: 0.5947455615962602.\n",
      "feature_fraction, val_score: 0.594746: 100%|##########| 7/7 [00:03<00:00,  2.28it/s]\n"
     ]
    },
    {
     "name": "stdout",
     "output_type": "stream",
     "text": [
      "Early stopping, best iteration is:\n",
      "[19]\tvalid_0's binary_logloss: 0.466297\tvalid_1's binary_logloss: 0.594746\n"
     ]
    },
    {
     "name": "stderr",
     "output_type": "stream",
     "text": [
      "num_leaves, val_score: 0.594746:   5%|5         | 1/20 [00:00<00:08,  2.15it/s][I 2023-08-06 15:03:55,057] Trial 7 finished with value: 0.5947455615962602 and parameters: {'num_leaves': 66}. Best is trial 7 with value: 0.5947455615962602.\n",
      "num_leaves, val_score: 0.594746:   5%|5         | 1/20 [00:00<00:08,  2.15it/s]"
     ]
    },
    {
     "name": "stdout",
     "output_type": "stream",
     "text": [
      "Early stopping, best iteration is:\n",
      "[19]\tvalid_0's binary_logloss: 0.466297\tvalid_1's binary_logloss: 0.594746\n"
     ]
    },
    {
     "name": "stderr",
     "output_type": "stream",
     "text": [
      "num_leaves, val_score: 0.594746:  10%|#         | 2/20 [00:00<00:08,  2.11it/s][I 2023-08-06 15:03:55,532] Trial 8 finished with value: 0.5947455615962602 and parameters: {'num_leaves': 86}. Best is trial 7 with value: 0.5947455615962602.\n",
      "num_leaves, val_score: 0.594746:  10%|#         | 2/20 [00:00<00:08,  2.11it/s]"
     ]
    },
    {
     "name": "stdout",
     "output_type": "stream",
     "text": [
      "Early stopping, best iteration is:\n",
      "[19]\tvalid_0's binary_logloss: 0.466297\tvalid_1's binary_logloss: 0.594746\n"
     ]
    },
    {
     "name": "stderr",
     "output_type": "stream",
     "text": [
      "num_leaves, val_score: 0.594746:  15%|#5        | 3/20 [00:01<00:07,  2.13it/s][I 2023-08-06 15:03:55,995] Trial 9 finished with value: 0.5947455615962602 and parameters: {'num_leaves': 131}. Best is trial 7 with value: 0.5947455615962602.\n",
      "num_leaves, val_score: 0.594746:  15%|#5        | 3/20 [00:01<00:07,  2.13it/s]"
     ]
    },
    {
     "name": "stdout",
     "output_type": "stream",
     "text": [
      "Early stopping, best iteration is:\n",
      "[19]\tvalid_0's binary_logloss: 0.466297\tvalid_1's binary_logloss: 0.594746\n"
     ]
    },
    {
     "name": "stderr",
     "output_type": "stream",
     "text": [
      "num_leaves, val_score: 0.594746:  20%|##        | 4/20 [00:01<00:07,  2.07it/s][I 2023-08-06 15:03:56,503] Trial 10 finished with value: 0.5947455615962602 and parameters: {'num_leaves': 255}. Best is trial 7 with value: 0.5947455615962602.\n",
      "num_leaves, val_score: 0.594746:  20%|##        | 4/20 [00:01<00:07,  2.07it/s]"
     ]
    },
    {
     "name": "stdout",
     "output_type": "stream",
     "text": [
      "Early stopping, best iteration is:\n",
      "[19]\tvalid_0's binary_logloss: 0.466297\tvalid_1's binary_logloss: 0.594746\n"
     ]
    },
    {
     "name": "stderr",
     "output_type": "stream",
     "text": [
      "num_leaves, val_score: 0.594746:  25%|##5       | 5/20 [00:02<00:07,  2.08it/s][I 2023-08-06 15:03:56,975] Trial 11 finished with value: 0.5947455615962602 and parameters: {'num_leaves': 245}. Best is trial 7 with value: 0.5947455615962602.\n",
      "num_leaves, val_score: 0.594746:  25%|##5       | 5/20 [00:02<00:07,  2.08it/s]"
     ]
    },
    {
     "name": "stdout",
     "output_type": "stream",
     "text": [
      "Early stopping, best iteration is:\n",
      "[19]\tvalid_0's binary_logloss: 0.466297\tvalid_1's binary_logloss: 0.594746\n"
     ]
    },
    {
     "name": "stderr",
     "output_type": "stream",
     "text": [
      "num_leaves, val_score: 0.594746:  30%|###       | 6/20 [00:02<00:07,  1.95it/s][I 2023-08-06 15:03:57,555] Trial 12 finished with value: 0.5947455615962602 and parameters: {'num_leaves': 168}. Best is trial 7 with value: 0.5947455615962602.\n",
      "num_leaves, val_score: 0.586189:  35%|###5      | 7/20 [00:03<00:05,  2.51it/s][I 2023-08-06 15:03:57,711] Trial 13 finished with value: 0.5861892820074612 and parameters: {'num_leaves': 5}. Best is trial 13 with value: 0.5861892820074612.\n",
      "num_leaves, val_score: 0.586189:  35%|###5      | 7/20 [00:03<00:05,  2.51it/s]"
     ]
    },
    {
     "name": "stdout",
     "output_type": "stream",
     "text": [
      "Early stopping, best iteration is:\n",
      "[19]\tvalid_0's binary_logloss: 0.466297\tvalid_1's binary_logloss: 0.594746\n",
      "Early stopping, best iteration is:\n",
      "[57]\tvalid_0's binary_logloss: 0.542365\tvalid_1's binary_logloss: 0.586189\n"
     ]
    },
    {
     "name": "stderr",
     "output_type": "stream",
     "text": [
      "num_leaves, val_score: 0.585274:  40%|####      | 8/20 [00:03<00:03,  3.03it/s][I 2023-08-06 15:03:57,895] Trial 14 finished with value: 0.5852738069983345 and parameters: {'num_leaves': 4}. Best is trial 14 with value: 0.5852738069983345.\n",
      "num_leaves, val_score: 0.585274:  45%|####5     | 9/20 [00:03<00:02,  3.68it/s][I 2023-08-06 15:03:58,040] Trial 15 finished with value: 0.5852738069983345 and parameters: {'num_leaves': 3}. Best is trial 14 with value: 0.5852738069983345.\n",
      "num_leaves, val_score: 0.585274:  45%|####5     | 9/20 [00:03<00:02,  3.68it/s]"
     ]
    },
    {
     "name": "stdout",
     "output_type": "stream",
     "text": [
      "Early stopping, best iteration is:\n",
      "[49]\tvalid_0's binary_logloss: 0.560394\tvalid_1's binary_logloss: 0.585274\n",
      "Early stopping, best iteration is:\n",
      "[49]\tvalid_0's binary_logloss: 0.560394\tvalid_1's binary_logloss: 0.585274\n"
     ]
    },
    {
     "name": "stderr",
     "output_type": "stream",
     "text": [
      "num_leaves, val_score: 0.585274:  50%|#####     | 10/20 [00:03<00:03,  3.13it/s][I 2023-08-06 15:03:58,467] Trial 16 finished with value: 0.5852738069983345 and parameters: {'num_leaves': 11}. Best is trial 14 with value: 0.5852738069983345.\n",
      "num_leaves, val_score: 0.585274:  50%|#####     | 10/20 [00:03<00:03,  3.13it/s]"
     ]
    },
    {
     "name": "stdout",
     "output_type": "stream",
     "text": [
      "Early stopping, best iteration is:\n",
      "[49]\tvalid_0's binary_logloss: 0.560394\tvalid_1's binary_logloss: 0.585274\n"
     ]
    },
    {
     "name": "stderr",
     "output_type": "stream",
     "text": [
      "num_leaves, val_score: 0.585274:  55%|#####5    | 11/20 [00:04<00:03,  2.70it/s][I 2023-08-06 15:03:58,953] Trial 17 finished with value: 0.5852738069983345 and parameters: {'num_leaves': 51}. Best is trial 14 with value: 0.5852738069983345.\n",
      "num_leaves, val_score: 0.585274:  55%|#####5    | 11/20 [00:04<00:03,  2.70it/s]"
     ]
    },
    {
     "name": "stdout",
     "output_type": "stream",
     "text": [
      "Early stopping, best iteration is:\n",
      "[49]\tvalid_0's binary_logloss: 0.560394\tvalid_1's binary_logloss: 0.585274\n"
     ]
    },
    {
     "name": "stderr",
     "output_type": "stream",
     "text": [
      "num_leaves, val_score: 0.585274:  60%|######    | 12/20 [00:04<00:03,  2.65it/s][I 2023-08-06 15:03:59,344] Trial 18 finished with value: 0.5852738069983345 and parameters: {'num_leaves': 29}. Best is trial 14 with value: 0.5852738069983345.\n",
      "num_leaves, val_score: 0.585274:  60%|######    | 12/20 [00:04<00:03,  2.65it/s]"
     ]
    },
    {
     "name": "stdout",
     "output_type": "stream",
     "text": [
      "Early stopping, best iteration is:\n",
      "[49]\tvalid_0's binary_logloss: 0.560394\tvalid_1's binary_logloss: 0.585274\n"
     ]
    },
    {
     "name": "stderr",
     "output_type": "stream",
     "text": [
      "num_leaves, val_score: 0.585274:  65%|######5   | 13/20 [00:05<00:03,  2.21it/s][I 2023-08-06 15:03:59,973] Trial 19 finished with value: 0.5852738069983345 and parameters: {'num_leaves': 103}. Best is trial 14 with value: 0.5852738069983345.\n",
      "num_leaves, val_score: 0.585274:  65%|######5   | 13/20 [00:05<00:03,  2.21it/s]"
     ]
    },
    {
     "name": "stdout",
     "output_type": "stream",
     "text": [
      "Early stopping, best iteration is:\n",
      "[49]\tvalid_0's binary_logloss: 0.560394\tvalid_1's binary_logloss: 0.585274\n"
     ]
    },
    {
     "name": "stderr",
     "output_type": "stream",
     "text": [
      "num_leaves, val_score: 0.585274:  70%|#######   | 14/20 [00:05<00:02,  2.05it/s][I 2023-08-06 15:04:00,542] Trial 20 finished with value: 0.5852738069983345 and parameters: {'num_leaves': 176}. Best is trial 14 with value: 0.5852738069983345.\n",
      "num_leaves, val_score: 0.585274:  70%|#######   | 14/20 [00:05<00:02,  2.05it/s]"
     ]
    },
    {
     "name": "stdout",
     "output_type": "stream",
     "text": [
      "Early stopping, best iteration is:\n",
      "[49]\tvalid_0's binary_logloss: 0.560394\tvalid_1's binary_logloss: 0.585274\n"
     ]
    },
    {
     "name": "stderr",
     "output_type": "stream",
     "text": [
      "num_leaves, val_score: 0.585274:  75%|#######5  | 15/20 [00:06<00:02,  2.26it/s][I 2023-08-06 15:04:00,875] Trial 21 finished with value: 0.5852738069983345 and parameters: {'num_leaves': 5}. Best is trial 14 with value: 0.5852738069983345.\n",
      "num_leaves, val_score: 0.585274:  75%|#######5  | 15/20 [00:06<00:02,  2.26it/s]"
     ]
    },
    {
     "name": "stdout",
     "output_type": "stream",
     "text": [
      "Early stopping, best iteration is:\n",
      "[49]\tvalid_0's binary_logloss: 0.560394\tvalid_1's binary_logloss: 0.585274\n"
     ]
    },
    {
     "name": "stderr",
     "output_type": "stream",
     "text": [
      "num_leaves, val_score: 0.585274:  80%|########  | 16/20 [00:06<00:01,  2.31it/s][I 2023-08-06 15:04:01,289] Trial 22 finished with value: 0.5852738069983345 and parameters: {'num_leaves': 36}. Best is trial 14 with value: 0.5852738069983345.\n",
      "num_leaves, val_score: 0.585274:  80%|########  | 16/20 [00:06<00:01,  2.31it/s]"
     ]
    },
    {
     "name": "stdout",
     "output_type": "stream",
     "text": [
      "Early stopping, best iteration is:\n",
      "[49]\tvalid_0's binary_logloss: 0.560394\tvalid_1's binary_logloss: 0.585274\n"
     ]
    },
    {
     "name": "stderr",
     "output_type": "stream",
     "text": [
      "num_leaves, val_score: 0.585274:  85%|########5 | 17/20 [00:07<00:01,  2.04it/s][I 2023-08-06 15:04:01,917] Trial 23 finished with value: 0.5852738069983345 and parameters: {'num_leaves': 11}. Best is trial 14 with value: 0.5852738069983345.\n",
      "num_leaves, val_score: 0.585274:  85%|########5 | 17/20 [00:07<00:01,  2.04it/s]"
     ]
    },
    {
     "name": "stdout",
     "output_type": "stream",
     "text": [
      "Early stopping, best iteration is:\n",
      "[49]\tvalid_0's binary_logloss: 0.560394\tvalid_1's binary_logloss: 0.585274\n"
     ]
    },
    {
     "name": "stderr",
     "output_type": "stream",
     "text": [
      "num_leaves, val_score: 0.585274:  90%|######### | 18/20 [00:08<00:01,  1.73it/s][I 2023-08-06 15:04:02,704] Trial 24 finished with value: 0.5852738069983345 and parameters: {'num_leaves': 52}. Best is trial 14 with value: 0.5852738069983345.\n",
      "num_leaves, val_score: 0.585274:  90%|######### | 18/20 [00:08<00:01,  1.73it/s]"
     ]
    },
    {
     "name": "stdout",
     "output_type": "stream",
     "text": [
      "Early stopping, best iteration is:\n",
      "[49]\tvalid_0's binary_logloss: 0.560394\tvalid_1's binary_logloss: 0.585274\n"
     ]
    },
    {
     "name": "stderr",
     "output_type": "stream",
     "text": [
      "num_leaves, val_score: 0.585274:  95%|#########5| 19/20 [00:08<00:00,  1.89it/s][I 2023-08-06 15:04:03,117] Trial 25 finished with value: 0.5852738069983345 and parameters: {'num_leaves': 30}. Best is trial 14 with value: 0.5852738069983345.\n",
      "num_leaves, val_score: 0.585274:  95%|#########5| 19/20 [00:08<00:00,  1.89it/s]"
     ]
    },
    {
     "name": "stdout",
     "output_type": "stream",
     "text": [
      "Early stopping, best iteration is:\n",
      "[49]\tvalid_0's binary_logloss: 0.560394\tvalid_1's binary_logloss: 0.585274\n"
     ]
    },
    {
     "name": "stderr",
     "output_type": "stream",
     "text": [
      "num_leaves, val_score: 0.585274: 100%|##########| 20/20 [00:09<00:00,  1.80it/s][I 2023-08-06 15:04:03,726] Trial 26 finished with value: 0.5852738069983345 and parameters: {'num_leaves': 84}. Best is trial 14 with value: 0.5852738069983345.\n",
      "num_leaves, val_score: 0.585274: 100%|##########| 20/20 [00:09<00:00,  2.19it/s]\n"
     ]
    },
    {
     "name": "stdout",
     "output_type": "stream",
     "text": [
      "Early stopping, best iteration is:\n",
      "[49]\tvalid_0's binary_logloss: 0.560394\tvalid_1's binary_logloss: 0.585274\n"
     ]
    },
    {
     "name": "stderr",
     "output_type": "stream",
     "text": [
      "bagging, val_score: 0.582601:  10%|#         | 1/10 [00:00<00:01,  4.93it/s][I 2023-08-06 15:04:03,942] Trial 27 finished with value: 0.582600787859249 and parameters: {'bagging_fraction': 0.6439308047433002, 'bagging_freq': 5}. Best is trial 27 with value: 0.582600787859249.\n",
      "bagging, val_score: 0.582601:  20%|##        | 2/10 [00:00<00:01,  5.80it/s][I 2023-08-06 15:04:04,098] Trial 28 finished with value: 0.582600787859249 and parameters: {'bagging_fraction': 0.6371095161137112, 'bagging_freq': 5}. Best is trial 27 with value: 0.582600787859249.\n",
      "bagging, val_score: 0.582601:  20%|##        | 2/10 [00:00<00:01,  5.80it/s]"
     ]
    },
    {
     "name": "stdout",
     "output_type": "stream",
     "text": [
      "Early stopping, best iteration is:\n",
      "[43]\tvalid_0's binary_logloss: 0.564228\tvalid_1's binary_logloss: 0.582601\n",
      "Early stopping, best iteration is:\n",
      "[43]\tvalid_0's binary_logloss: 0.564228\tvalid_1's binary_logloss: 0.582601\n"
     ]
    },
    {
     "name": "stderr",
     "output_type": "stream",
     "text": [
      "bagging, val_score: 0.582601:  30%|###       | 3/10 [00:00<00:01,  5.60it/s][I 2023-08-06 15:04:04,279] Trial 29 finished with value: 0.582600787859249 and parameters: {'bagging_fraction': 0.633449844220389, 'bagging_freq': 5}. Best is trial 27 with value: 0.582600787859249.\n",
      "bagging, val_score: 0.581960:  40%|####      | 4/10 [00:00<00:01,  5.86it/s][I 2023-08-06 15:04:04,440] Trial 30 finished with value: 0.5819597828587493 and parameters: {'bagging_fraction': 0.6186492915793452, 'bagging_freq': 5}. Best is trial 30 with value: 0.5819597828587493.\n",
      "bagging, val_score: 0.581960:  40%|####      | 4/10 [00:00<00:01,  5.86it/s]"
     ]
    },
    {
     "name": "stdout",
     "output_type": "stream",
     "text": [
      "Early stopping, best iteration is:\n",
      "[43]\tvalid_0's binary_logloss: 0.564228\tvalid_1's binary_logloss: 0.582601\n",
      "Early stopping, best iteration is:\n",
      "[45]\tvalid_0's binary_logloss: 0.563992\tvalid_1's binary_logloss: 0.58196\n"
     ]
    },
    {
     "name": "stderr",
     "output_type": "stream",
     "text": [
      "bagging, val_score: 0.581960:  50%|#####     | 5/10 [00:01<00:01,  3.45it/s][I 2023-08-06 15:04:04,937] Trial 31 finished with value: 0.5819597828587493 and parameters: {'bagging_fraction': 0.6158098412596087, 'bagging_freq': 5}. Best is trial 30 with value: 0.5819597828587493.\n",
      "bagging, val_score: 0.581960:  60%|######    | 6/10 [00:01<00:00,  4.24it/s][I 2023-08-06 15:04:05,072] Trial 32 finished with value: 0.5819597828587493 and parameters: {'bagging_fraction': 0.6245072030070121, 'bagging_freq': 5}. Best is trial 30 with value: 0.5819597828587493.\n",
      "bagging, val_score: 0.581960:  60%|######    | 6/10 [00:01<00:00,  4.24it/s]"
     ]
    },
    {
     "name": "stdout",
     "output_type": "stream",
     "text": [
      "Early stopping, best iteration is:\n",
      "[45]\tvalid_0's binary_logloss: 0.563992\tvalid_1's binary_logloss: 0.58196\n",
      "Early stopping, best iteration is:\n",
      "[45]\tvalid_0's binary_logloss: 0.563992\tvalid_1's binary_logloss: 0.58196\n"
     ]
    },
    {
     "name": "stderr",
     "output_type": "stream",
     "text": [
      "bagging, val_score: 0.581960:  70%|#######   | 7/10 [00:01<00:00,  4.29it/s][I 2023-08-06 15:04:05,297] Trial 33 finished with value: 0.5819597828587493 and parameters: {'bagging_fraction': 0.6297547175955469, 'bagging_freq': 5}. Best is trial 30 with value: 0.5819597828587493.\n",
      "bagging, val_score: 0.581960:  80%|########  | 8/10 [00:01<00:00,  4.89it/s][I 2023-08-06 15:04:05,441] Trial 34 finished with value: 0.5819597828587493 and parameters: {'bagging_fraction': 0.5890654633554531, 'bagging_freq': 5}. Best is trial 30 with value: 0.5819597828587493.\n",
      "bagging, val_score: 0.581960:  80%|########  | 8/10 [00:01<00:00,  4.89it/s]"
     ]
    },
    {
     "name": "stdout",
     "output_type": "stream",
     "text": [
      "Early stopping, best iteration is:\n",
      "[45]\tvalid_0's binary_logloss: 0.563992\tvalid_1's binary_logloss: 0.58196\n",
      "Early stopping, best iteration is:\n",
      "[45]\tvalid_0's binary_logloss: 0.563992\tvalid_1's binary_logloss: 0.58196\n"
     ]
    },
    {
     "name": "stderr",
     "output_type": "stream",
     "text": [
      "bagging, val_score: 0.581960:  90%|######### | 9/10 [00:01<00:00,  5.27it/s][I 2023-08-06 15:04:05,598] Trial 35 finished with value: 0.5819597828587493 and parameters: {'bagging_fraction': 0.5608694000343064, 'bagging_freq': 7}. Best is trial 30 with value: 0.5819597828587493.\n",
      "bagging, val_score: 0.581960:  90%|######### | 9/10 [00:01<00:00,  5.27it/s]"
     ]
    },
    {
     "name": "stdout",
     "output_type": "stream",
     "text": [
      "Early stopping, best iteration is:\n",
      "[45]\tvalid_0's binary_logloss: 0.563992\tvalid_1's binary_logloss: 0.58196\n",
      "Early stopping, best iteration is:\n",
      "[45]\tvalid_0's binary_logloss: 0.563992\tvalid_1's binary_logloss: 0.58196\n"
     ]
    },
    {
     "name": "stderr",
     "output_type": "stream",
     "text": [
      "bagging, val_score: 0.581960: 100%|##########| 10/10 [00:02<00:00,  5.18it/s][I 2023-08-06 15:04:05,797] Trial 36 finished with value: 0.5819597828587493 and parameters: {'bagging_fraction': 0.7853953213042649, 'bagging_freq': 3}. Best is trial 30 with value: 0.5819597828587493.\n",
      "bagging, val_score: 0.581960: 100%|##########| 10/10 [00:02<00:00,  4.85it/s]\n",
      "feature_fraction_stage2, val_score: 0.581960:  17%|#6        | 1/6 [00:00<00:00,  5.33it/s][I 2023-08-06 15:04:06,001] Trial 37 finished with value: 0.5819597828587493 and parameters: {'feature_fraction': 0.784}. Best is trial 37 with value: 0.5819597828587493.\n",
      "feature_fraction_stage2, val_score: 0.581960:  33%|###3      | 2/6 [00:00<00:00,  6.09it/s][I 2023-08-06 15:04:06,148] Trial 38 finished with value: 0.5819597828587493 and parameters: {'feature_fraction': 0.7520000000000001}. Best is trial 37 with value: 0.5819597828587493.\n",
      "feature_fraction_stage2, val_score: 0.581960:  33%|###3      | 2/6 [00:00<00:00,  6.09it/s]"
     ]
    },
    {
     "name": "stdout",
     "output_type": "stream",
     "text": [
      "Early stopping, best iteration is:\n",
      "[45]\tvalid_0's binary_logloss: 0.563992\tvalid_1's binary_logloss: 0.58196\n",
      "Early stopping, best iteration is:\n",
      "[45]\tvalid_0's binary_logloss: 0.563992\tvalid_1's binary_logloss: 0.58196\n"
     ]
    },
    {
     "name": "stderr",
     "output_type": "stream",
     "text": [
      "feature_fraction_stage2, val_score: 0.581960:  50%|#####     | 3/6 [00:00<00:00,  5.17it/s][I 2023-08-06 15:04:06,380] Trial 39 finished with value: 0.5819597828587493 and parameters: {'feature_fraction': 0.7200000000000001}. Best is trial 37 with value: 0.5819597828587493.\n",
      "feature_fraction_stage2, val_score: 0.581960:  67%|######6   | 4/6 [00:00<00:00,  5.21it/s][I 2023-08-06 15:04:06,563] Trial 40 finished with value: 0.5819597828587493 and parameters: {'feature_fraction': 0.88}. Best is trial 37 with value: 0.5819597828587493.\n",
      "feature_fraction_stage2, val_score: 0.581960:  67%|######6   | 4/6 [00:00<00:00,  5.21it/s]"
     ]
    },
    {
     "name": "stdout",
     "output_type": "stream",
     "text": [
      "Early stopping, best iteration is:\n",
      "[45]\tvalid_0's binary_logloss: 0.563992\tvalid_1's binary_logloss: 0.58196\n",
      "Early stopping, best iteration is:\n",
      "[45]\tvalid_0's binary_logloss: 0.563992\tvalid_1's binary_logloss: 0.58196\n"
     ]
    },
    {
     "name": "stderr",
     "output_type": "stream",
     "text": [
      "feature_fraction_stage2, val_score: 0.581960:  83%|########3 | 5/6 [00:00<00:00,  5.34it/s][I 2023-08-06 15:04:06,742] Trial 41 finished with value: 0.5819597828587493 and parameters: {'feature_fraction': 0.8480000000000001}. Best is trial 37 with value: 0.5819597828587493.\n",
      "feature_fraction_stage2, val_score: 0.581960:  83%|########3 | 5/6 [00:00<00:00,  5.34it/s]"
     ]
    },
    {
     "name": "stdout",
     "output_type": "stream",
     "text": [
      "Early stopping, best iteration is:\n",
      "[45]\tvalid_0's binary_logloss: 0.563992\tvalid_1's binary_logloss: 0.58196\n"
     ]
    },
    {
     "name": "stderr",
     "output_type": "stream",
     "text": [
      "feature_fraction_stage2, val_score: 0.581960: 100%|##########| 6/6 [00:01<00:00,  3.67it/s][I 2023-08-06 15:04:07,181] Trial 42 finished with value: 0.5819597828587493 and parameters: {'feature_fraction': 0.8160000000000001}. Best is trial 37 with value: 0.5819597828587493.\n",
      "feature_fraction_stage2, val_score: 0.581960: 100%|##########| 6/6 [00:01<00:00,  4.37it/s]\n"
     ]
    },
    {
     "name": "stdout",
     "output_type": "stream",
     "text": [
      "Early stopping, best iteration is:\n",
      "[45]\tvalid_0's binary_logloss: 0.563992\tvalid_1's binary_logloss: 0.58196\n"
     ]
    },
    {
     "name": "stderr",
     "output_type": "stream",
     "text": [
      "regularization_factors, val_score: 0.581960:   5%|5         | 1/20 [00:00<00:03,  5.06it/s][I 2023-08-06 15:04:07,394] Trial 43 finished with value: 0.5819597828587493 and parameters: {'lambda_l1': 3.787074538487461, 'lambda_l2': 0.0003912984828911716}. Best is trial 43 with value: 0.5819597828587493.\n",
      "regularization_factors, val_score: 0.581960:   5%|5         | 1/20 [00:00<00:03,  5.06it/s]"
     ]
    },
    {
     "name": "stdout",
     "output_type": "stream",
     "text": [
      "Early stopping, best iteration is:\n",
      "[45]\tvalid_0's binary_logloss: 0.563992\tvalid_1's binary_logloss: 0.58196\n"
     ]
    },
    {
     "name": "stderr",
     "output_type": "stream",
     "text": [
      "regularization_factors, val_score: 0.581960:  10%|#         | 2/20 [00:00<00:04,  4.17it/s][I 2023-08-06 15:04:07,660] Trial 44 finished with value: 0.5819597828587493 and parameters: {'lambda_l1': 1.228172630857777e-06, 'lambda_l2': 6.957808916401967e-08}. Best is trial 43 with value: 0.5819597828587493.\n",
      "regularization_factors, val_score: 0.581960:  10%|#         | 2/20 [00:00<00:04,  4.17it/s]"
     ]
    },
    {
     "name": "stdout",
     "output_type": "stream",
     "text": [
      "Early stopping, best iteration is:\n",
      "[45]\tvalid_0's binary_logloss: 0.563992\tvalid_1's binary_logloss: 0.58196\n"
     ]
    },
    {
     "name": "stderr",
     "output_type": "stream",
     "text": [
      "regularization_factors, val_score: 0.581960:  15%|#5        | 3/20 [00:00<00:04,  3.55it/s][I 2023-08-06 15:04:07,992] Trial 45 finished with value: 0.5819597828587493 and parameters: {'lambda_l1': 1.1878511345126747e-08, 'lambda_l2': 6.84873256298585}. Best is trial 43 with value: 0.5819597828587493.\n",
      "regularization_factors, val_score: 0.581960:  15%|#5        | 3/20 [00:00<00:04,  3.55it/s]"
     ]
    },
    {
     "name": "stdout",
     "output_type": "stream",
     "text": [
      "Early stopping, best iteration is:\n",
      "[45]\tvalid_0's binary_logloss: 0.563992\tvalid_1's binary_logloss: 0.58196\n"
     ]
    },
    {
     "name": "stderr",
     "output_type": "stream",
     "text": [
      "regularization_factors, val_score: 0.581960:  20%|##        | 4/20 [00:01<00:04,  3.75it/s][I 2023-08-06 15:04:08,234] Trial 46 finished with value: 0.5819597828587493 and parameters: {'lambda_l1': 0.0021963988360465168, 'lambda_l2': 1.7083897069137396e-08}. Best is trial 43 with value: 0.5819597828587493.\n",
      "regularization_factors, val_score: 0.581960:  25%|##5       | 5/20 [00:01<00:03,  4.41it/s][I 2023-08-06 15:04:08,391] Trial 47 finished with value: 0.5819597828587493 and parameters: {'lambda_l1': 7.407858097159433, 'lambda_l2': 9.701685072683329}. Best is trial 43 with value: 0.5819597828587493.\n",
      "regularization_factors, val_score: 0.581960:  25%|##5       | 5/20 [00:01<00:03,  4.41it/s]"
     ]
    },
    {
     "name": "stdout",
     "output_type": "stream",
     "text": [
      "Early stopping, best iteration is:\n",
      "[45]\tvalid_0's binary_logloss: 0.563992\tvalid_1's binary_logloss: 0.58196\n",
      "Early stopping, best iteration is:\n",
      "[45]\tvalid_0's binary_logloss: 0.563992\tvalid_1's binary_logloss: 0.58196\n"
     ]
    },
    {
     "name": "stderr",
     "output_type": "stream",
     "text": [
      "regularization_factors, val_score: 0.581960:  30%|###       | 6/20 [00:01<00:03,  4.57it/s][I 2023-08-06 15:04:08,597] Trial 48 finished with value: 0.5819597828587493 and parameters: {'lambda_l1': 0.00028959187098073167, 'lambda_l2': 0.00037666739402588827}. Best is trial 43 with value: 0.5819597828587493.\n",
      "regularization_factors, val_score: 0.581960:  35%|###5      | 7/20 [00:01<00:02,  5.01it/s][I 2023-08-06 15:04:08,755] Trial 49 finished with value: 0.5819597828587493 and parameters: {'lambda_l1': 0.007912198639318264, 'lambda_l2': 2.232373249079886e-06}. Best is trial 43 with value: 0.5819597828587493.\n",
      "regularization_factors, val_score: 0.581960:  35%|###5      | 7/20 [00:01<00:02,  5.01it/s]"
     ]
    },
    {
     "name": "stdout",
     "output_type": "stream",
     "text": [
      "Early stopping, best iteration is:\n",
      "[45]\tvalid_0's binary_logloss: 0.563992\tvalid_1's binary_logloss: 0.58196\n",
      "Early stopping, best iteration is:\n",
      "[45]\tvalid_0's binary_logloss: 0.563992\tvalid_1's binary_logloss: 0.58196\n"
     ]
    },
    {
     "name": "stderr",
     "output_type": "stream",
     "text": [
      "regularization_factors, val_score: 0.581960:  40%|####      | 8/20 [00:01<00:02,  4.28it/s][I 2023-08-06 15:04:09,064] Trial 50 finished with value: 0.5819597828587493 and parameters: {'lambda_l1': 5.662798087098078e-06, 'lambda_l2': 0.007010591298033937}. Best is trial 43 with value: 0.5819597828587493.\n",
      "regularization_factors, val_score: 0.581960:  40%|####      | 8/20 [00:01<00:02,  4.28it/s]"
     ]
    },
    {
     "name": "stdout",
     "output_type": "stream",
     "text": [
      "Early stopping, best iteration is:\n",
      "[45]\tvalid_0's binary_logloss: 0.563992\tvalid_1's binary_logloss: 0.58196\n"
     ]
    },
    {
     "name": "stderr",
     "output_type": "stream",
     "text": [
      "regularization_factors, val_score: 0.581960:  45%|####5     | 9/20 [00:02<00:03,  3.33it/s][I 2023-08-06 15:04:09,511] Trial 51 finished with value: 0.5819597828587493 and parameters: {'lambda_l1': 1.2209421682472626e-08, 'lambda_l2': 3.2863032547496974e-06}. Best is trial 43 with value: 0.5819597828587493.\n",
      "regularization_factors, val_score: 0.581960:  50%|#####     | 10/20 [00:02<00:02,  3.77it/s][I 2023-08-06 15:04:09,698] Trial 52 finished with value: 0.5819597828587493 and parameters: {'lambda_l1': 0.0895179008191111, 'lambda_l2': 0.07609432097131437}. Best is trial 43 with value: 0.5819597828587493.\n",
      "regularization_factors, val_score: 0.581960:  50%|#####     | 10/20 [00:02<00:02,  3.77it/s]"
     ]
    },
    {
     "name": "stdout",
     "output_type": "stream",
     "text": [
      "Early stopping, best iteration is:\n",
      "[45]\tvalid_0's binary_logloss: 0.563992\tvalid_1's binary_logloss: 0.58196\n",
      "Early stopping, best iteration is:\n",
      "[45]\tvalid_0's binary_logloss: 0.563992\tvalid_1's binary_logloss: 0.58196\n"
     ]
    },
    {
     "name": "stderr",
     "output_type": "stream",
     "text": [
      "regularization_factors, val_score: 0.581960:  55%|#####5    | 11/20 [00:02<00:02,  4.19it/s][I 2023-08-06 15:04:09,877] Trial 53 finished with value: 0.5819597828587493 and parameters: {'lambda_l1': 0.14548396344384096, 'lambda_l2': 6.007242106986811e-06}. Best is trial 43 with value: 0.5819597828587493.\n",
      "regularization_factors, val_score: 0.581960:  60%|######    | 12/20 [00:02<00:01,  4.72it/s][I 2023-08-06 15:04:10,030] Trial 54 finished with value: 0.5819597828587493 and parameters: {'lambda_l1': 6.590857203950507e-05, 'lambda_l2': 0.11779227620602856}. Best is trial 43 with value: 0.5819597828587493.\n",
      "regularization_factors, val_score: 0.581960:  60%|######    | 12/20 [00:02<00:01,  4.72it/s]"
     ]
    },
    {
     "name": "stdout",
     "output_type": "stream",
     "text": [
      "Early stopping, best iteration is:\n",
      "[45]\tvalid_0's binary_logloss: 0.563992\tvalid_1's binary_logloss: 0.58196\n",
      "Early stopping, best iteration is:\n",
      "[45]\tvalid_0's binary_logloss: 0.563992\tvalid_1's binary_logloss: 0.58196\n"
     ]
    },
    {
     "name": "stderr",
     "output_type": "stream",
     "text": [
      "regularization_factors, val_score: 0.581960:  65%|######5   | 13/20 [00:03<00:01,  4.67it/s][I 2023-08-06 15:04:10,248] Trial 55 finished with value: 0.5819597828587493 and parameters: {'lambda_l1': 6.87505160411441e-07, 'lambda_l2': 4.2352980921262965e-07}. Best is trial 43 with value: 0.5819597828587493.\n",
      "regularization_factors, val_score: 0.581960:  70%|#######   | 14/20 [00:03<00:01,  4.81it/s][I 2023-08-06 15:04:10,438] Trial 56 finished with value: 0.5819597828587493 and parameters: {'lambda_l1': 2.7134296970882636e-05, 'lambda_l2': 1.257408354830526e-05}. Best is trial 43 with value: 0.5819597828587493.\n"
     ]
    },
    {
     "name": "stdout",
     "output_type": "stream",
     "text": [
      "Early stopping, best iteration is:\n",
      "[45]\tvalid_0's binary_logloss: 0.563992\tvalid_1's binary_logloss: 0.58196\n",
      "Early stopping, best iteration is:\n",
      "[45]\tvalid_0's binary_logloss: 0.563992\tvalid_1's binary_logloss: 0.58196\n"
     ]
    },
    {
     "name": "stderr",
     "output_type": "stream",
     "text": [
      "regularization_factors, val_score: 0.581960:  75%|#######5  | 15/20 [00:03<00:01,  4.60it/s][I 2023-08-06 15:04:10,681] Trial 57 finished with value: 0.5819597828587493 and parameters: {'lambda_l1': 0.0012897528744847252, 'lambda_l2': 1.977037735977579e-08}. Best is trial 43 with value: 0.5819597828587493.\n",
      "regularization_factors, val_score: 0.581960:  80%|########  | 16/20 [00:03<00:00,  4.99it/s][I 2023-08-06 15:04:10,837] Trial 58 finished with value: 0.5819597828587493 and parameters: {'lambda_l1': 1.9139562743571616e-07, 'lambda_l2': 2.4916670978298042e-05}. Best is trial 43 with value: 0.5819597828587493.\n",
      "regularization_factors, val_score: 0.581960:  80%|########  | 16/20 [00:03<00:00,  4.99it/s]"
     ]
    },
    {
     "name": "stdout",
     "output_type": "stream",
     "text": [
      "Early stopping, best iteration is:\n",
      "[45]\tvalid_0's binary_logloss: 0.563992\tvalid_1's binary_logloss: 0.58196\n",
      "Early stopping, best iteration is:\n",
      "[45]\tvalid_0's binary_logloss: 0.563992\tvalid_1's binary_logloss: 0.58196\n"
     ]
    },
    {
     "name": "stderr",
     "output_type": "stream",
     "text": [
      "regularization_factors, val_score: 0.581960:  85%|########5 | 17/20 [00:03<00:00,  4.96it/s][I 2023-08-06 15:04:11,044] Trial 59 finished with value: 0.5819597828587493 and parameters: {'lambda_l1': 6.188868464083701e-05, 'lambda_l2': 3.4676546865628764e-07}. Best is trial 43 with value: 0.5819597828587493.\n",
      "regularization_factors, val_score: 0.581960:  90%|######### | 18/20 [00:04<00:00,  5.14it/s][I 2023-08-06 15:04:11,219] Trial 60 finished with value: 0.5819597828587493 and parameters: {'lambda_l1': 0.02220948831809634, 'lambda_l2': 9.400758293431361e-05}. Best is trial 43 with value: 0.5819597828587493.\n",
      "regularization_factors, val_score: 0.581960:  90%|######### | 18/20 [00:04<00:00,  5.14it/s]"
     ]
    },
    {
     "name": "stdout",
     "output_type": "stream",
     "text": [
      "Early stopping, best iteration is:\n",
      "[45]\tvalid_0's binary_logloss: 0.563992\tvalid_1's binary_logloss: 0.58196\n",
      "Early stopping, best iteration is:\n",
      "[45]\tvalid_0's binary_logloss: 0.563992\tvalid_1's binary_logloss: 0.58196\n"
     ]
    },
    {
     "name": "stderr",
     "output_type": "stream",
     "text": [
      "regularization_factors, val_score: 0.581960:  95%|#########5| 19/20 [00:04<00:00,  5.07it/s][I 2023-08-06 15:04:11,423] Trial 61 finished with value: 0.5819597828587493 and parameters: {'lambda_l1': 0.3574992187676175, 'lambda_l2': 0.009979227669546654}. Best is trial 43 with value: 0.5819597828587493.\n",
      "regularization_factors, val_score: 0.581960:  95%|#########5| 19/20 [00:04<00:00,  5.07it/s]"
     ]
    },
    {
     "name": "stdout",
     "output_type": "stream",
     "text": [
      "Early stopping, best iteration is:\n",
      "[45]\tvalid_0's binary_logloss: 0.563992\tvalid_1's binary_logloss: 0.58196\n"
     ]
    },
    {
     "name": "stderr",
     "output_type": "stream",
     "text": [
      "regularization_factors, val_score: 0.581960: 100%|##########| 20/20 [00:04<00:00,  3.21it/s][I 2023-08-06 15:04:12,002] Trial 62 finished with value: 0.5819597828587493 and parameters: {'lambda_l1': 0.0005371695620466151, 'lambda_l2': 3.5411524693876557e-07}. Best is trial 43 with value: 0.5819597828587493.\n",
      "regularization_factors, val_score: 0.581960: 100%|##########| 20/20 [00:04<00:00,  4.15it/s]\n"
     ]
    },
    {
     "name": "stdout",
     "output_type": "stream",
     "text": [
      "Early stopping, best iteration is:\n",
      "[45]\tvalid_0's binary_logloss: 0.563992\tvalid_1's binary_logloss: 0.58196\n"
     ]
    },
    {
     "name": "stderr",
     "output_type": "stream",
     "text": [
      "min_data_in_leaf, val_score: 0.581960:  20%|##        | 1/5 [00:00<00:00,  4.35it/s][I 2023-08-06 15:04:12,256] Trial 63 finished with value: 0.5819597828587493 and parameters: {'min_child_samples': 5}. Best is trial 63 with value: 0.5819597828587493.\n",
      "min_data_in_leaf, val_score: 0.581960:  40%|####      | 2/5 [00:00<00:00,  5.75it/s][I 2023-08-06 15:04:12,387] Trial 64 finished with value: 0.5819597828587493 and parameters: {'min_child_samples': 50}. Best is trial 63 with value: 0.5819597828587493.\n",
      "min_data_in_leaf, val_score: 0.581960:  40%|####      | 2/5 [00:00<00:00,  5.75it/s]"
     ]
    },
    {
     "name": "stdout",
     "output_type": "stream",
     "text": [
      "Early stopping, best iteration is:\n",
      "[45]\tvalid_0's binary_logloss: 0.563992\tvalid_1's binary_logloss: 0.58196\n",
      "Early stopping, best iteration is:\n",
      "[45]\tvalid_0's binary_logloss: 0.563992\tvalid_1's binary_logloss: 0.58196\n"
     ]
    },
    {
     "name": "stderr",
     "output_type": "stream",
     "text": [
      "min_data_in_leaf, val_score: 0.581960:  60%|######    | 3/5 [00:00<00:00,  5.71it/s][I 2023-08-06 15:04:12,565] Trial 65 finished with value: 0.5819597828587493 and parameters: {'min_child_samples': 25}. Best is trial 63 with value: 0.5819597828587493.\n",
      "min_data_in_leaf, val_score: 0.581960:  80%|########  | 4/5 [00:00<00:00,  5.75it/s][I 2023-08-06 15:04:12,740] Trial 66 finished with value: 0.5819597828587493 and parameters: {'min_child_samples': 100}. Best is trial 63 with value: 0.5819597828587493.\n",
      "min_data_in_leaf, val_score: 0.581960:  80%|########  | 4/5 [00:00<00:00,  5.75it/s]"
     ]
    },
    {
     "name": "stdout",
     "output_type": "stream",
     "text": [
      "Early stopping, best iteration is:\n",
      "[45]\tvalid_0's binary_logloss: 0.563992\tvalid_1's binary_logloss: 0.58196\n",
      "Early stopping, best iteration is:\n",
      "[45]\tvalid_0's binary_logloss: 0.563992\tvalid_1's binary_logloss: 0.58196\n"
     ]
    },
    {
     "name": "stderr",
     "output_type": "stream",
     "text": [
      "min_data_in_leaf, val_score: 0.581960: 100%|##########| 5/5 [00:00<00:00,  5.45it/s][I 2023-08-06 15:04:12,936] Trial 67 finished with value: 0.5819597828587493 and parameters: {'min_child_samples': 10}. Best is trial 63 with value: 0.5819597828587493.\n",
      "min_data_in_leaf, val_score: 0.581960: 100%|##########| 5/5 [00:00<00:00,  5.45it/s]\n"
     ]
    },
    {
     "name": "stdout",
     "output_type": "stream",
     "text": [
      "Early stopping, best iteration is:\n",
      "[45]\tvalid_0's binary_logloss: 0.563992\tvalid_1's binary_logloss: 0.58196\n",
      "              precision    recall  f1-score   support\n",
      "\n",
      "      winner       0.70      0.70      0.70       875\n",
      "       loser       0.70      0.70      0.70       876\n",
      "\n",
      "    accuracy                           0.70      1751\n",
      "   macro avg       0.70      0.70      0.70      1751\n",
      "weighted avg       0.70      0.70      0.70      1751\n",
      "\n",
      "Best params: {'objective': 'binary', 'metric': 'binary_logloss', 'verbosity': -1, 'boosting_type': 'gbdt', 'feature_pre_filter': False, 'lambda_l1': 0.0, 'lambda_l2': 0.0, 'num_leaves': 4, 'feature_fraction': 0.8, 'bagging_fraction': 0.6186492915793452, 'bagging_freq': 5, 'min_child_samples': 20, 'num_iterations': 1000, 'early_stopping_round': None}\n",
      "  Params: \n",
      "    objective: binary\n",
      "    metric: binary_logloss\n",
      "    verbosity: -1\n",
      "    boosting_type: gbdt\n",
      "    feature_pre_filter: False\n",
      "    lambda_l1: 0.0\n",
      "    lambda_l2: 0.0\n",
      "    num_leaves: 4\n",
      "    feature_fraction: 0.8\n",
      "    bagging_fraction: 0.6186492915793452\n",
      "    bagging_freq: 5\n",
      "    min_child_samples: 20\n",
      "    num_iterations: 1000\n",
      "    early_stopping_round: None\n"
     ]
    }
   ],
   "source": [
    "import optuna.integration.lightgbm as optlgb\n",
    "import numpy as np\n",
    "from datetime import datetime\n",
    "from arfs.preprocessing import OrdinalEncoderPandas\n",
    "from lightgbm import early_stopping\n",
    "from lightgbm import log_evaluation\n",
    "from pathlib import Path\n",
    "from joblib import dump\n",
    "\n",
    "def prepare_data_for_training_clf(start_date, end_date):\n",
    "    \"\"\"\n",
    "    Prepare the ATP data for modeling.\n",
    "\n",
    "    Parameters\n",
    "    ----------\n",
    "    start_date : str\n",
    "        The start date of the time window.\n",
    "    end_date : str\n",
    "        The end date of the time window.\n",
    "\n",
    "    Returns\n",
    "    -------\n",
    "    df : pandas.DataFrame\n",
    "        The prepared data.\n",
    "\n",
    "    \"\"\"\n",
    "    data_path = \"/home/bsatom/Documents/mlops/AceBet/data/atp_data_production.feather\" #Path(__file__).resolve().parents[2] / 'data' / 'atp_data_production.feather'\n",
    "    df = pd.read_feather(data_path)\n",
    "    df['date'] = pd.to_datetime(df['date'])\n",
    "    df = df.query('date >= @start_date and date <= @end_date')\n",
    "\n",
    "    # Create predictors list\n",
    "    predictors = df.columns.drop(['target', 'date', 'sets_p1', 'sets_p2', 'b365_p1', 'b365_p2', 'ps_p1', 'ps_p2'])\n",
    "    X = df[predictors].copy()\n",
    "    y = df['target'].values.copy() * 1\n",
    "\n",
    "    return X, y\n",
    "\n",
    "def time_series_split(X, y, n_splits=2):\n",
    "    \"\"\"\n",
    "    Split the data into training and test sets using a TimeSeriesSplit object.\n",
    "\n",
    "    Parameters\n",
    "    ----------\n",
    "    X : pandas.DataFrame\n",
    "        The features.\n",
    "    y : pandas.Series\n",
    "        The target.\n",
    "    n_splits : int, default=2\n",
    "        The number of splits.\n",
    "\n",
    "    Returns\n",
    "    -------\n",
    "    train_idx : list\n",
    "        The training indices.\n",
    "    test_idx : list\n",
    "        The test indices.\n",
    "\n",
    "    \"\"\"\n",
    "\n",
    "    ts_split = TimeSeriesSplit(n_splits=n_splits)\n",
    "    all_splits = list(ts_split.split(X, y))\n",
    "\n",
    "    train_idx, test_idx = all_splits[0]\n",
    "    return train_idx, test_idx\n",
    "\n",
    "\n",
    "start_date = \"2015-03-04\"\n",
    "end_date = \"2017-03-04\"\n",
    "\n",
    "def train_model(start_date, end_date):\n",
    "    X, y = prepare_data_for_training_clf(start_date, end_date)\n",
    "    train_idx, val_idx = time_series_split(X, y, n_splits=2)\n",
    "    X_train, y_train = X.iloc[train_idx, :].copy(), y[train_idx].copy()\n",
    "    X_val, y_val= X.iloc[val_idx, :].copy(), y[val_idx].copy()\n",
    "\n",
    "    encoder = OrdinalEncoderPandas()\n",
    "    encoder.fit(X_train)\n",
    "    X_train_trans = encoder.transform(X_train)\n",
    "    X_val_trans = encoder.transform(X_val)\n",
    "\n",
    "\n",
    "\n",
    "    dtrain = optlgb.Dataset(X_train_trans, label=y_train)\n",
    "    dval = optlgb.Dataset(X_val_trans, label=y_val)\n",
    "    params = {\n",
    "        \"objective\": \"binary\",\n",
    "        \"metric\": \"binary_logloss\",\n",
    "        \"verbosity\": -1,\n",
    "        \"boosting_type\": \"gbdt\",\n",
    "    }\n",
    "    model = optlgb.train(\n",
    "        params,\n",
    "        dtrain,\n",
    "        valid_sets=[dtrain, dval],\n",
    "        callbacks=[early_stopping(100), log_evaluation(-1)],\n",
    "    )\n",
    "\n",
    "    y_pred = np.rint(model.predict(X_val_trans, num_iteration=model.best_iteration))\n",
    "    target_names = [\"winner\", \"loser\"]\n",
    "    print(classification_report(y_val, y_pred, target_names=target_names))\n",
    "\n",
    "    best_params = model.params\n",
    "    print(\"Best params:\", best_params)\n",
    "    print(\"  Params: \")\n",
    "    for key, value in best_params.items():\n",
    "        print(\"    {}: {}\".format(key, value))\n",
    "        \n",
    "if __name__ == \"__main__\":\n",
    "    start_date = \"2015-03-04\"\n",
    "    end_date = \"2017-03-04\"\n",
    "    train_model(start_date, end_date)"
   ]
  },
  {
   "cell_type": "code",
   "execution_count": 56,
   "metadata": {},
   "outputs": [
    {
     "data": {
      "text/html": [
       "<div>\n",
       "<style scoped>\n",
       "    .dataframe tbody tr th:only-of-type {\n",
       "        vertical-align: middle;\n",
       "    }\n",
       "\n",
       "    .dataframe tbody tr th {\n",
       "        vertical-align: top;\n",
       "    }\n",
       "\n",
       "    .dataframe thead th {\n",
       "        text-align: right;\n",
       "    }\n",
       "</style>\n",
       "<table border=\"1\" class=\"dataframe\">\n",
       "  <thead>\n",
       "    <tr style=\"text-align: right;\">\n",
       "      <th>Predicted</th>\n",
       "      <th>0</th>\n",
       "      <th>1</th>\n",
       "    </tr>\n",
       "    <tr>\n",
       "      <th>Actual</th>\n",
       "      <th></th>\n",
       "      <th></th>\n",
       "    </tr>\n",
       "  </thead>\n",
       "  <tbody>\n",
       "    <tr>\n",
       "      <th>0</th>\n",
       "      <td>4939</td>\n",
       "      <td>2512</td>\n",
       "    </tr>\n",
       "    <tr>\n",
       "      <th>1</th>\n",
       "      <td>2337</td>\n",
       "      <td>5114</td>\n",
       "    </tr>\n",
       "  </tbody>\n",
       "</table>\n",
       "</div>"
      ],
      "text/plain": [
       "Predicted     0     1\n",
       "Actual               \n",
       "0          4939  2512\n",
       "1          2337  5114"
      ]
     },
     "execution_count": 56,
     "metadata": {},
     "output_type": "execute_result"
    }
   ],
   "source": [
    "confusion_matrix = pd.crosstab(y_test, y_pred, rownames=['Actual'], colnames=['Predicted'])\n",
    "confusion_matrix"
   ]
  },
  {
   "cell_type": "markdown",
   "metadata": {},
   "source": [
    "I removed the HPO section (it doesn't improve much and is AZ propreitary)\n",
    "\n",
    "# Conclusion\n",
    "\n",
    "Let's just keep the vanilla LightGBMClassifer, fast, accurate, simple, doesn't overfit."
   ]
  }
 ],
 "metadata": {
  "kernelspec": {
   "display_name": "sportbet",
   "language": "python",
   "name": "python3"
  },
  "language_info": {
   "codemirror_mode": {
    "name": "ipython",
    "version": 3
   },
   "file_extension": ".py",
   "mimetype": "text/x-python",
   "name": "python",
   "nbconvert_exporter": "python",
   "pygments_lexer": "ipython3",
   "version": "3.11.4"
  },
  "orig_nbformat": 4
 },
 "nbformat": 4,
 "nbformat_minor": 2
}
