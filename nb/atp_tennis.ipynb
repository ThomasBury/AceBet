{
 "cells": [
  {
   "attachments": {},
   "cell_type": "markdown",
   "metadata": {},
   "source": [
    "<h1 align=\"center\">🎾 - Tennis Betting 👨‍💻🔬</h1>\n",
    "\n",
    "<h2 align=\"center\">EDA</h2>\n",
    "<p style=\"text-align:center\">\n",
    "   Thomas Bury & Vilius Jaseliunas<br>\n",
    "   Allianz<br>\n",
    "</p>\n",
    "\n",
    "# Database"
   ]
  },
  {
   "cell_type": "code",
   "execution_count": 1,
   "metadata": {},
   "outputs": [
    {
     "data": {
      "text/html": [
       "<div>\n",
       "<style scoped>\n",
       "    .dataframe tbody tr th:only-of-type {\n",
       "        vertical-align: middle;\n",
       "    }\n",
       "\n",
       "    .dataframe tbody tr th {\n",
       "        vertical-align: top;\n",
       "    }\n",
       "\n",
       "    .dataframe thead th {\n",
       "        text-align: right;\n",
       "    }\n",
       "</style>\n",
       "<table border=\"1\" class=\"dataframe\">\n",
       "  <thead>\n",
       "    <tr style=\"text-align: right;\">\n",
       "      <th></th>\n",
       "      <th>ATP</th>\n",
       "      <th>Location</th>\n",
       "      <th>Tournament</th>\n",
       "      <th>Date</th>\n",
       "      <th>Series</th>\n",
       "      <th>Court</th>\n",
       "      <th>Surface</th>\n",
       "      <th>Round</th>\n",
       "      <th>Best of</th>\n",
       "      <th>Winner</th>\n",
       "      <th>...</th>\n",
       "      <th>Wsets</th>\n",
       "      <th>Lsets</th>\n",
       "      <th>Comment</th>\n",
       "      <th>PSW</th>\n",
       "      <th>PSL</th>\n",
       "      <th>B365W</th>\n",
       "      <th>B365L</th>\n",
       "      <th>elo_winner</th>\n",
       "      <th>elo_loser</th>\n",
       "      <th>proba_elo</th>\n",
       "    </tr>\n",
       "  </thead>\n",
       "  <tbody>\n",
       "    <tr>\n",
       "      <th>0</th>\n",
       "      <td>1</td>\n",
       "      <td>Adelaide</td>\n",
       "      <td>Australian Hardcourt Championships</td>\n",
       "      <td>2000-01-03</td>\n",
       "      <td>International</td>\n",
       "      <td>Outdoor</td>\n",
       "      <td>Hard</td>\n",
       "      <td>1st Round</td>\n",
       "      <td>3</td>\n",
       "      <td>Dosedel S.</td>\n",
       "      <td>...</td>\n",
       "      <td>2.0</td>\n",
       "      <td>0.0</td>\n",
       "      <td>Completed</td>\n",
       "      <td>NaN</td>\n",
       "      <td>NaN</td>\n",
       "      <td>NaN</td>\n",
       "      <td>NaN</td>\n",
       "      <td>1500.0</td>\n",
       "      <td>1500.0</td>\n",
       "      <td>0.5</td>\n",
       "    </tr>\n",
       "    <tr>\n",
       "      <th>1</th>\n",
       "      <td>3</td>\n",
       "      <td>Doha</td>\n",
       "      <td>Qatar Open</td>\n",
       "      <td>2000-01-03</td>\n",
       "      <td>International</td>\n",
       "      <td>Outdoor</td>\n",
       "      <td>Hard</td>\n",
       "      <td>1st Round</td>\n",
       "      <td>3</td>\n",
       "      <td>Kiefer N.</td>\n",
       "      <td>...</td>\n",
       "      <td>2.0</td>\n",
       "      <td>0.0</td>\n",
       "      <td>Completed</td>\n",
       "      <td>NaN</td>\n",
       "      <td>NaN</td>\n",
       "      <td>NaN</td>\n",
       "      <td>NaN</td>\n",
       "      <td>1500.0</td>\n",
       "      <td>1500.0</td>\n",
       "      <td>0.5</td>\n",
       "    </tr>\n",
       "    <tr>\n",
       "      <th>2</th>\n",
       "      <td>3</td>\n",
       "      <td>Doha</td>\n",
       "      <td>Qatar Open</td>\n",
       "      <td>2000-01-03</td>\n",
       "      <td>International</td>\n",
       "      <td>Outdoor</td>\n",
       "      <td>Hard</td>\n",
       "      <td>1st Round</td>\n",
       "      <td>3</td>\n",
       "      <td>Gaudio G.</td>\n",
       "      <td>...</td>\n",
       "      <td>2.0</td>\n",
       "      <td>1.0</td>\n",
       "      <td>Completed</td>\n",
       "      <td>NaN</td>\n",
       "      <td>NaN</td>\n",
       "      <td>NaN</td>\n",
       "      <td>NaN</td>\n",
       "      <td>1500.0</td>\n",
       "      <td>1500.0</td>\n",
       "      <td>0.5</td>\n",
       "    </tr>\n",
       "    <tr>\n",
       "      <th>3</th>\n",
       "      <td>3</td>\n",
       "      <td>Doha</td>\n",
       "      <td>Qatar Open</td>\n",
       "      <td>2000-01-03</td>\n",
       "      <td>International</td>\n",
       "      <td>Outdoor</td>\n",
       "      <td>Hard</td>\n",
       "      <td>1st Round</td>\n",
       "      <td>3</td>\n",
       "      <td>El Aynaoui Y.</td>\n",
       "      <td>...</td>\n",
       "      <td>2.0</td>\n",
       "      <td>1.0</td>\n",
       "      <td>Completed</td>\n",
       "      <td>NaN</td>\n",
       "      <td>NaN</td>\n",
       "      <td>NaN</td>\n",
       "      <td>NaN</td>\n",
       "      <td>1500.0</td>\n",
       "      <td>1500.0</td>\n",
       "      <td>0.5</td>\n",
       "    </tr>\n",
       "    <tr>\n",
       "      <th>4</th>\n",
       "      <td>3</td>\n",
       "      <td>Doha</td>\n",
       "      <td>Qatar Open</td>\n",
       "      <td>2000-01-03</td>\n",
       "      <td>International</td>\n",
       "      <td>Outdoor</td>\n",
       "      <td>Hard</td>\n",
       "      <td>1st Round</td>\n",
       "      <td>3</td>\n",
       "      <td>Cherkasov A.</td>\n",
       "      <td>...</td>\n",
       "      <td>2.0</td>\n",
       "      <td>0.0</td>\n",
       "      <td>Completed</td>\n",
       "      <td>NaN</td>\n",
       "      <td>NaN</td>\n",
       "      <td>NaN</td>\n",
       "      <td>NaN</td>\n",
       "      <td>1500.0</td>\n",
       "      <td>1500.0</td>\n",
       "      <td>0.5</td>\n",
       "    </tr>\n",
       "  </tbody>\n",
       "</table>\n",
       "<p>5 rows × 23 columns</p>\n",
       "</div>"
      ],
      "text/plain": [
       "   ATP  Location                          Tournament       Date  \\\n",
       "0    1  Adelaide  Australian Hardcourt Championships 2000-01-03   \n",
       "1    3      Doha                          Qatar Open 2000-01-03   \n",
       "2    3      Doha                          Qatar Open 2000-01-03   \n",
       "3    3      Doha                          Qatar Open 2000-01-03   \n",
       "4    3      Doha                          Qatar Open 2000-01-03   \n",
       "\n",
       "          Series    Court Surface      Round  Best of         Winner  ...  \\\n",
       "0  International  Outdoor    Hard  1st Round        3     Dosedel S.  ...   \n",
       "1  International  Outdoor    Hard  1st Round        3      Kiefer N.  ...   \n",
       "2  International  Outdoor    Hard  1st Round        3      Gaudio G.  ...   \n",
       "3  International  Outdoor    Hard  1st Round        3  El Aynaoui Y.  ...   \n",
       "4  International  Outdoor    Hard  1st Round        3   Cherkasov A.  ...   \n",
       "\n",
       "  Wsets  Lsets    Comment  PSW  PSL B365W  B365L  elo_winner  elo_loser  \\\n",
       "0   2.0    0.0  Completed  NaN  NaN   NaN    NaN      1500.0     1500.0   \n",
       "1   2.0    0.0  Completed  NaN  NaN   NaN    NaN      1500.0     1500.0   \n",
       "2   2.0    1.0  Completed  NaN  NaN   NaN    NaN      1500.0     1500.0   \n",
       "3   2.0    1.0  Completed  NaN  NaN   NaN    NaN      1500.0     1500.0   \n",
       "4   2.0    0.0  Completed  NaN  NaN   NaN    NaN      1500.0     1500.0   \n",
       "\n",
       "   proba_elo  \n",
       "0        0.5  \n",
       "1        0.5  \n",
       "2        0.5  \n",
       "3        0.5  \n",
       "4        0.5  \n",
       "\n",
       "[5 rows x 23 columns]"
      ]
     },
     "execution_count": 1,
     "metadata": {},
     "output_type": "execute_result"
    }
   ],
   "source": [
    "import pandas as pd\n",
    "from lightgbm import LGBMClassifier\n",
    "from xgboost import XGBClassifier\n",
    "from catboost import CatBoostClassifier\n",
    "from sklearn.pipeline import Pipeline\n",
    "from sklearn.impute import SimpleImputer\n",
    "from sklearn.ensemble import RandomForestClassifier, HistGradientBoostingClassifier\n",
    "from sklearn.model_selection import TimeSeriesSplit\n",
    "from sklearn.metrics import classification_report, accuracy_score, roc_auc_score\n",
    "from arfs.preprocessing import OrdinalEncoderPandas\n",
    "from arfs.feature_selection import (\n",
    "    Leshy,\n",
    "    MissingValueThreshold,\n",
    "    UniqueValuesThreshold,\n",
    "    CollinearityThreshold,\n",
    "    VariableImportance,\n",
    "    make_fs_summary\n",
    ")\n",
    "\n",
    "data = pd.read_csv(\"../data/atp_data.csv\", low_memory=False)\n",
    "data['Date'] = pd.to_datetime(data['Date'])\n",
    "data.head()\n"
   ]
  },
  {
   "cell_type": "code",
   "execution_count": 2,
   "metadata": {},
   "outputs": [
    {
     "data": {
      "text/plain": [
       "Index(['ATP', 'Location', 'Tournament', 'Date', 'Series', 'Court', 'Surface',\n",
       "       'Round', 'Best of', 'Winner', 'Loser', 'WRank', 'LRank', 'Wsets',\n",
       "       'Lsets', 'Comment', 'PSW', 'PSL', 'B365W', 'B365L', 'elo_winner',\n",
       "       'elo_loser', 'proba_elo'],\n",
       "      dtype='object')"
      ]
     },
     "execution_count": 2,
     "metadata": {},
     "output_type": "execute_result"
    }
   ],
   "source": [
    "data.columns"
   ]
  },
  {
   "cell_type": "code",
   "execution_count": 3,
   "metadata": {},
   "outputs": [
    {
     "name": "stdout",
     "output_type": "stream",
     "text": [
      "<class 'pandas.core.frame.DataFrame'>\n",
      "RangeIndex: 44708 entries, 0 to 44707\n",
      "Data columns (total 23 columns):\n",
      " #   Column      Non-Null Count  Dtype         \n",
      "---  ------      --------------  -----         \n",
      " 0   ATP         44708 non-null  int64         \n",
      " 1   Location    44708 non-null  object        \n",
      " 2   Tournament  44708 non-null  object        \n",
      " 3   Date        44708 non-null  datetime64[ns]\n",
      " 4   Series      44708 non-null  object        \n",
      " 5   Court       44708 non-null  object        \n",
      " 6   Surface     44708 non-null  object        \n",
      " 7   Round       44708 non-null  object        \n",
      " 8   Best of     44708 non-null  int64         \n",
      " 9   Winner      44708 non-null  object        \n",
      " 10  Loser       44708 non-null  object        \n",
      " 11  WRank       44708 non-null  int64         \n",
      " 12  LRank       44708 non-null  int64         \n",
      " 13  Wsets       44521 non-null  float64       \n",
      " 14  Lsets       44521 non-null  float64       \n",
      " 15  Comment     44708 non-null  object        \n",
      " 16  PSW         32743 non-null  float64       \n",
      " 17  PSL         32743 non-null  float64       \n",
      " 18  B365W       39037 non-null  float64       \n",
      " 19  B365L       39057 non-null  float64       \n",
      " 20  elo_winner  44708 non-null  float64       \n",
      " 21  elo_loser   44708 non-null  float64       \n",
      " 22  proba_elo   44708 non-null  float64       \n",
      "dtypes: datetime64[ns](1), float64(9), int64(4), object(9)\n",
      "memory usage: 7.8+ MB\n"
     ]
    }
   ],
   "source": [
    "data.info()"
   ]
  },
  {
   "attachments": {},
   "cell_type": "markdown",
   "metadata": {},
   "source": [
    "Is the best ranked player the winner?"
   ]
  },
  {
   "cell_type": "code",
   "execution_count": 4,
   "metadata": {},
   "outputs": [
    {
     "data": {
      "text/plain": [
       "65.60570815066654"
      ]
     },
     "execution_count": 4,
     "metadata": {},
     "output_type": "execute_result"
    }
   ],
   "source": [
    "100 * (data[\"WRank\"] < data[\"LRank\"]).sum() / len(data)"
   ]
  },
  {
   "attachments": {},
   "cell_type": "markdown",
   "metadata": {},
   "source": [
    "we need to drop the number of sets won since it identifies almost 100% of the winner."
   ]
  },
  {
   "cell_type": "code",
   "execution_count": 5,
   "metadata": {},
   "outputs": [
    {
     "data": {
      "text/plain": [
       "98.21284781247203"
      ]
     },
     "execution_count": 5,
     "metadata": {},
     "output_type": "execute_result"
    }
   ],
   "source": [
    "100 * (data[\"Wsets\"] > data[\"Lsets\"]).sum() / len(data)"
   ]
  },
  {
   "attachments": {},
   "cell_type": "markdown",
   "metadata": {},
   "source": [
    "# Renaming columns\n",
    "\n",
    "To avoid obvious data leakage, rename the columns by replacing the W by P1 and L by P2. Then permute P1 and P2 1 every two rows (preventing the winner to be always P1).\n",
    "\n",
    "**REM:** \n",
    "\n",
    " - need to drop the number of sets won\n",
    " - need to compute the complementary elo probability since there is a single elo probability column, corresponding to the winning probability of the player who effectively won the game."
   ]
  },
  {
   "cell_type": "code",
   "execution_count": 6,
   "metadata": {},
   "outputs": [
    {
     "name": "stdout",
     "output_type": "stream",
     "text": [
      "Index(['atp', 'location', 'tournament', 'date', 'series', 'court', 'surface',\n",
      "       'round', 'best of', 'p1', 'p2', 'rank_p1', 'rank_p2', 'sets_p1',\n",
      "       'sets_p2', 'comment', 'ps_p1', 'ps_p2', 'b365_p1', 'b365_p2', 'elo_p1',\n",
      "       'elo_p2', 'proba_elo'],\n",
      "      dtype='object')\n"
     ]
    }
   ],
   "source": [
    "df = data.copy()\n",
    "df = df.sort_values('Date')\n",
    "df.columns = df.columns.str.lower()\n",
    "df.rename(columns={'wrank': 'rank_p1', \n",
    "                   'lrank': 'rank_p2',\n",
    "                   'wsets': 'sets_p1',\n",
    "                   'lsets': 'sets_p2',\n",
    "                   'psw': 'ps_p1',\n",
    "                   'psl': 'ps_p2', \n",
    "                   'b365w': 'b365_p1',\n",
    "                   'b365l': 'b365_p2'},\n",
    "          inplace=True)\n",
    "df.columns = df.columns.str.lower()\n",
    "df.rename(columns=lambda x: x.replace('winner', 'p1').replace('loser', 'p2'), inplace=True)\n",
    "# Print the modified column names\n",
    "print(df.columns)\n"
   ]
  },
  {
   "cell_type": "code",
   "execution_count": 7,
   "metadata": {},
   "outputs": [
    {
     "name": "stdout",
     "output_type": "stream",
     "text": [
      "Columns containing P1:\n",
      "Index(['p1', 'rank_p1', 'sets_p1', 'ps_p1', 'b365_p1', 'elo_p1'], dtype='object')\n",
      "Columns containing P2:\n",
      "Index(['p2', 'rank_p2', 'sets_p2', 'ps_p2', 'b365_p2', 'elo_p2'], dtype='object')\n"
     ]
    }
   ],
   "source": [
    "p1_columns = df.filter(like='p1').columns\n",
    "p2_columns = df.filter(like='p2').columns\n",
    "\n",
    "print(\"Columns containing P1:\")\n",
    "print(p1_columns)\n",
    "\n",
    "print(\"Columns containing P2:\")\n",
    "print(p2_columns)"
   ]
  },
  {
   "attachments": {},
   "cell_type": "markdown",
   "metadata": {},
   "source": [
    "# Shuffling players info"
   ]
  },
  {
   "cell_type": "code",
   "execution_count": 8,
   "metadata": {},
   "outputs": [],
   "source": [
    "df_permuted = df.copy()\n",
    "# swap the values P1 <-> P2 every two rows\n",
    "mask = df.index % 2 == 1\n",
    "df_permuted.loc[mask, p1_columns], df_permuted.loc[mask, p2_columns] = df.loc[mask, p2_columns].values, df.loc[mask, p1_columns].values\n",
    "\n",
    "# # the complementary prob for the swapped rows\n",
    "# # ELO proba (e.g. definition: https://ideas.repec.org/p/nbs/wpaper/2019-03.html#:~:text=The%20Elo%20rating%20system%20is,accuracy%2C%20calibration%20and%20model%20discrimination.)\n",
    "df_permuted.loc[mask, \"proba_elo\"] = 1 - df_permuted.loc[mask, \"proba_elo\"].values"
   ]
  },
  {
   "cell_type": "code",
   "execution_count": 9,
   "metadata": {},
   "outputs": [
    {
     "data": {
      "text/plain": [
       "Index(['p2', 'rank_p2', 'sets_p2', 'ps_p2', 'b365_p2', 'elo_p2'], dtype='object')"
      ]
     },
     "execution_count": 9,
     "metadata": {},
     "output_type": "execute_result"
    }
   ],
   "source": [
    "p2_columns"
   ]
  },
  {
   "cell_type": "code",
   "execution_count": 10,
   "metadata": {},
   "outputs": [
    {
     "data": {
      "text/html": [
       "<div>\n",
       "<style scoped>\n",
       "    .dataframe tbody tr th:only-of-type {\n",
       "        vertical-align: middle;\n",
       "    }\n",
       "\n",
       "    .dataframe tbody tr th {\n",
       "        vertical-align: top;\n",
       "    }\n",
       "\n",
       "    .dataframe thead th {\n",
       "        text-align: right;\n",
       "    }\n",
       "</style>\n",
       "<table border=\"1\" class=\"dataframe\">\n",
       "  <thead>\n",
       "    <tr style=\"text-align: right;\">\n",
       "      <th></th>\n",
       "      <th>b365_p1</th>\n",
       "      <th>b365_p2</th>\n",
       "      <th>elo_p1</th>\n",
       "      <th>elo_p2</th>\n",
       "      <th>p1</th>\n",
       "      <th>p2</th>\n",
       "      <th>ps_p1</th>\n",
       "      <th>ps_p2</th>\n",
       "      <th>rank_p1</th>\n",
       "      <th>rank_p2</th>\n",
       "      <th>sets_p1</th>\n",
       "      <th>sets_p2</th>\n",
       "    </tr>\n",
       "  </thead>\n",
       "  <tbody>\n",
       "    <tr>\n",
       "      <th>0</th>\n",
       "      <td>NaN</td>\n",
       "      <td>NaN</td>\n",
       "      <td>1500.000000</td>\n",
       "      <td>1500.0</td>\n",
       "      <td>Dosedel S.</td>\n",
       "      <td>Ljubicic I.</td>\n",
       "      <td>NaN</td>\n",
       "      <td>NaN</td>\n",
       "      <td>63</td>\n",
       "      <td>77</td>\n",
       "      <td>2.0</td>\n",
       "      <td>0.0</td>\n",
       "    </tr>\n",
       "    <tr>\n",
       "      <th>68</th>\n",
       "      <td>NaN</td>\n",
       "      <td>NaN</td>\n",
       "      <td>1516.736307</td>\n",
       "      <td>1500.0</td>\n",
       "      <td>Martin A.</td>\n",
       "      <td>Spadea V.</td>\n",
       "      <td>NaN</td>\n",
       "      <td>NaN</td>\n",
       "      <td>55</td>\n",
       "      <td>21</td>\n",
       "      <td>2.0</td>\n",
       "      <td>0.0</td>\n",
       "    </tr>\n",
       "    <tr>\n",
       "      <th>67</th>\n",
       "      <td>NaN</td>\n",
       "      <td>NaN</td>\n",
       "      <td>1516.000000</td>\n",
       "      <td>1500.0</td>\n",
       "      <td>Enqvist T.</td>\n",
       "      <td>Clement A.</td>\n",
       "      <td>NaN</td>\n",
       "      <td>NaN</td>\n",
       "      <td>5</td>\n",
       "      <td>56</td>\n",
       "      <td>2.0</td>\n",
       "      <td>0.0</td>\n",
       "    </tr>\n",
       "    <tr>\n",
       "      <th>66</th>\n",
       "      <td>NaN</td>\n",
       "      <td>NaN</td>\n",
       "      <td>1516.736307</td>\n",
       "      <td>1500.0</td>\n",
       "      <td>Escude N.</td>\n",
       "      <td>Baccanello P.</td>\n",
       "      <td>NaN</td>\n",
       "      <td>NaN</td>\n",
       "      <td>40</td>\n",
       "      <td>655</td>\n",
       "      <td>2.0</td>\n",
       "      <td>1.0</td>\n",
       "    </tr>\n",
       "    <tr>\n",
       "      <th>65</th>\n",
       "      <td>NaN</td>\n",
       "      <td>NaN</td>\n",
       "      <td>1484.000000</td>\n",
       "      <td>1500.0</td>\n",
       "      <td>Federer R.</td>\n",
       "      <td>Knippschild J.</td>\n",
       "      <td>NaN</td>\n",
       "      <td>NaN</td>\n",
       "      <td>65</td>\n",
       "      <td>87</td>\n",
       "      <td>2.0</td>\n",
       "      <td>0.0</td>\n",
       "    </tr>\n",
       "  </tbody>\n",
       "</table>\n",
       "</div>"
      ],
      "text/plain": [
       "    b365_p1  b365_p2       elo_p1  elo_p2          p1              p2  ps_p1  \\\n",
       "0       NaN      NaN  1500.000000  1500.0  Dosedel S.     Ljubicic I.    NaN   \n",
       "68      NaN      NaN  1516.736307  1500.0   Martin A.       Spadea V.    NaN   \n",
       "67      NaN      NaN  1516.000000  1500.0  Enqvist T.      Clement A.    NaN   \n",
       "66      NaN      NaN  1516.736307  1500.0   Escude N.   Baccanello P.    NaN   \n",
       "65      NaN      NaN  1484.000000  1500.0  Federer R.  Knippschild J.    NaN   \n",
       "\n",
       "    ps_p2  rank_p1  rank_p2  sets_p1  sets_p2  \n",
       "0     NaN       63       77      2.0      0.0  \n",
       "68    NaN       55       21      2.0      0.0  \n",
       "67    NaN        5       56      2.0      0.0  \n",
       "66    NaN       40      655      2.0      1.0  \n",
       "65    NaN       65       87      2.0      0.0  "
      ]
     },
     "execution_count": 10,
     "metadata": {},
     "output_type": "execute_result"
    }
   ],
   "source": [
    "player_columns = sorted(list(set(p1_columns).union(set(p2_columns))))\n",
    "df[player_columns ].head()"
   ]
  },
  {
   "cell_type": "code",
   "execution_count": 11,
   "metadata": {},
   "outputs": [
    {
     "data": {
      "text/html": [
       "<div>\n",
       "<style scoped>\n",
       "    .dataframe tbody tr th:only-of-type {\n",
       "        vertical-align: middle;\n",
       "    }\n",
       "\n",
       "    .dataframe tbody tr th {\n",
       "        vertical-align: top;\n",
       "    }\n",
       "\n",
       "    .dataframe thead th {\n",
       "        text-align: right;\n",
       "    }\n",
       "</style>\n",
       "<table border=\"1\" class=\"dataframe\">\n",
       "  <thead>\n",
       "    <tr style=\"text-align: right;\">\n",
       "      <th></th>\n",
       "      <th>b365_p1</th>\n",
       "      <th>b365_p2</th>\n",
       "      <th>elo_p1</th>\n",
       "      <th>elo_p2</th>\n",
       "      <th>p1</th>\n",
       "      <th>p2</th>\n",
       "      <th>ps_p1</th>\n",
       "      <th>ps_p2</th>\n",
       "      <th>rank_p1</th>\n",
       "      <th>rank_p2</th>\n",
       "      <th>sets_p1</th>\n",
       "      <th>sets_p2</th>\n",
       "    </tr>\n",
       "  </thead>\n",
       "  <tbody>\n",
       "    <tr>\n",
       "      <th>0</th>\n",
       "      <td>NaN</td>\n",
       "      <td>NaN</td>\n",
       "      <td>1500.000000</td>\n",
       "      <td>1500.0</td>\n",
       "      <td>Dosedel S.</td>\n",
       "      <td>Ljubicic I.</td>\n",
       "      <td>NaN</td>\n",
       "      <td>NaN</td>\n",
       "      <td>63</td>\n",
       "      <td>77</td>\n",
       "      <td>2.0</td>\n",
       "      <td>0.0</td>\n",
       "    </tr>\n",
       "    <tr>\n",
       "      <th>68</th>\n",
       "      <td>NaN</td>\n",
       "      <td>NaN</td>\n",
       "      <td>1516.736307</td>\n",
       "      <td>1500.0</td>\n",
       "      <td>Martin A.</td>\n",
       "      <td>Spadea V.</td>\n",
       "      <td>NaN</td>\n",
       "      <td>NaN</td>\n",
       "      <td>55</td>\n",
       "      <td>21</td>\n",
       "      <td>2.0</td>\n",
       "      <td>0.0</td>\n",
       "    </tr>\n",
       "    <tr>\n",
       "      <th>67</th>\n",
       "      <td>NaN</td>\n",
       "      <td>NaN</td>\n",
       "      <td>1500.000000</td>\n",
       "      <td>1516.0</td>\n",
       "      <td>Clement A.</td>\n",
       "      <td>Enqvist T.</td>\n",
       "      <td>NaN</td>\n",
       "      <td>NaN</td>\n",
       "      <td>56</td>\n",
       "      <td>5</td>\n",
       "      <td>0.0</td>\n",
       "      <td>2.0</td>\n",
       "    </tr>\n",
       "    <tr>\n",
       "      <th>66</th>\n",
       "      <td>NaN</td>\n",
       "      <td>NaN</td>\n",
       "      <td>1516.736307</td>\n",
       "      <td>1500.0</td>\n",
       "      <td>Escude N.</td>\n",
       "      <td>Baccanello P.</td>\n",
       "      <td>NaN</td>\n",
       "      <td>NaN</td>\n",
       "      <td>40</td>\n",
       "      <td>655</td>\n",
       "      <td>2.0</td>\n",
       "      <td>1.0</td>\n",
       "    </tr>\n",
       "    <tr>\n",
       "      <th>65</th>\n",
       "      <td>NaN</td>\n",
       "      <td>NaN</td>\n",
       "      <td>1500.000000</td>\n",
       "      <td>1484.0</td>\n",
       "      <td>Knippschild J.</td>\n",
       "      <td>Federer R.</td>\n",
       "      <td>NaN</td>\n",
       "      <td>NaN</td>\n",
       "      <td>87</td>\n",
       "      <td>65</td>\n",
       "      <td>0.0</td>\n",
       "      <td>2.0</td>\n",
       "    </tr>\n",
       "  </tbody>\n",
       "</table>\n",
       "</div>"
      ],
      "text/plain": [
       "    b365_p1  b365_p2       elo_p1  elo_p2              p1             p2  \\\n",
       "0       NaN      NaN  1500.000000  1500.0      Dosedel S.    Ljubicic I.   \n",
       "68      NaN      NaN  1516.736307  1500.0       Martin A.      Spadea V.   \n",
       "67      NaN      NaN  1500.000000  1516.0      Clement A.     Enqvist T.   \n",
       "66      NaN      NaN  1516.736307  1500.0       Escude N.  Baccanello P.   \n",
       "65      NaN      NaN  1500.000000  1484.0  Knippschild J.     Federer R.   \n",
       "\n",
       "    ps_p1  ps_p2  rank_p1  rank_p2  sets_p1  sets_p2  \n",
       "0     NaN    NaN       63       77      2.0      0.0  \n",
       "68    NaN    NaN       55       21      2.0      0.0  \n",
       "67    NaN    NaN       56        5      0.0      2.0  \n",
       "66    NaN    NaN       40      655      2.0      1.0  \n",
       "65    NaN    NaN       87       65      0.0      2.0  "
      ]
     },
     "execution_count": 11,
     "metadata": {},
     "output_type": "execute_result"
    }
   ],
   "source": [
    "df_permuted[player_columns ].head()"
   ]
  },
  {
   "attachments": {},
   "cell_type": "markdown",
   "metadata": {},
   "source": [
    "sanity check, is the permutation working as expected?"
   ]
  },
  {
   "cell_type": "code",
   "execution_count": 12,
   "metadata": {},
   "outputs": [
    {
     "data": {
      "text/plain": [
       "49.257403596671736"
      ]
     },
     "execution_count": 12,
     "metadata": {},
     "output_type": "execute_result"
    }
   ],
   "source": [
    "100 * (df_permuted[\"sets_p1\"] > df_permuted[\"sets_p2\"]).sum() / len(data)"
   ]
  },
  {
   "cell_type": "code",
   "execution_count": 13,
   "metadata": {},
   "outputs": [
    {
     "data": {
      "text/plain": [
       "50.15209805851302"
      ]
     },
     "execution_count": 13,
     "metadata": {},
     "output_type": "execute_result"
    }
   ],
   "source": [
    "100 * (df_permuted[\"rank_p1\"] < df_permuted[\"rank_p2\"]).sum() / len(data)"
   ]
  },
  {
   "attachments": {},
   "cell_type": "markdown",
   "metadata": {},
   "source": [
    "# Define the target\n",
    "The target is the mask, whether or not the P1 and P2 have been swapped."
   ]
  },
  {
   "cell_type": "code",
   "execution_count": 14,
   "metadata": {},
   "outputs": [
    {
     "data": {
      "text/html": [
       "<div>\n",
       "<style scoped>\n",
       "    .dataframe tbody tr th:only-of-type {\n",
       "        vertical-align: middle;\n",
       "    }\n",
       "\n",
       "    .dataframe tbody tr th {\n",
       "        vertical-align: top;\n",
       "    }\n",
       "\n",
       "    .dataframe thead th {\n",
       "        text-align: right;\n",
       "    }\n",
       "</style>\n",
       "<table border=\"1\" class=\"dataframe\">\n",
       "  <thead>\n",
       "    <tr style=\"text-align: right;\">\n",
       "      <th></th>\n",
       "      <th>atp</th>\n",
       "      <th>location</th>\n",
       "      <th>tournament</th>\n",
       "      <th>date</th>\n",
       "      <th>series</th>\n",
       "      <th>court</th>\n",
       "      <th>surface</th>\n",
       "      <th>round</th>\n",
       "      <th>best of</th>\n",
       "      <th>p1</th>\n",
       "      <th>...</th>\n",
       "      <th>sets_p2</th>\n",
       "      <th>comment</th>\n",
       "      <th>ps_p1</th>\n",
       "      <th>ps_p2</th>\n",
       "      <th>b365_p1</th>\n",
       "      <th>b365_p2</th>\n",
       "      <th>elo_p1</th>\n",
       "      <th>elo_p2</th>\n",
       "      <th>proba_elo</th>\n",
       "      <th>target</th>\n",
       "    </tr>\n",
       "  </thead>\n",
       "  <tbody>\n",
       "    <tr>\n",
       "      <th>0</th>\n",
       "      <td>1</td>\n",
       "      <td>Adelaide</td>\n",
       "      <td>Australian Hardcourt Championships</td>\n",
       "      <td>2000-01-03</td>\n",
       "      <td>International</td>\n",
       "      <td>Outdoor</td>\n",
       "      <td>Hard</td>\n",
       "      <td>1st Round</td>\n",
       "      <td>3</td>\n",
       "      <td>Dosedel S.</td>\n",
       "      <td>...</td>\n",
       "      <td>0.0</td>\n",
       "      <td>Completed</td>\n",
       "      <td>NaN</td>\n",
       "      <td>NaN</td>\n",
       "      <td>NaN</td>\n",
       "      <td>NaN</td>\n",
       "      <td>1500.000000</td>\n",
       "      <td>1500.0</td>\n",
       "      <td>0.500000</td>\n",
       "      <td>True</td>\n",
       "    </tr>\n",
       "    <tr>\n",
       "      <th>68</th>\n",
       "      <td>1</td>\n",
       "      <td>Adelaide</td>\n",
       "      <td>Australian Hardcourt Championships</td>\n",
       "      <td>2000-01-03</td>\n",
       "      <td>International</td>\n",
       "      <td>Outdoor</td>\n",
       "      <td>Hard</td>\n",
       "      <td>1st Round</td>\n",
       "      <td>3</td>\n",
       "      <td>Martin A.</td>\n",
       "      <td>...</td>\n",
       "      <td>0.0</td>\n",
       "      <td>Completed</td>\n",
       "      <td>NaN</td>\n",
       "      <td>NaN</td>\n",
       "      <td>NaN</td>\n",
       "      <td>NaN</td>\n",
       "      <td>1516.736307</td>\n",
       "      <td>1500.0</td>\n",
       "      <td>0.524067</td>\n",
       "      <td>True</td>\n",
       "    </tr>\n",
       "    <tr>\n",
       "      <th>67</th>\n",
       "      <td>1</td>\n",
       "      <td>Adelaide</td>\n",
       "      <td>Australian Hardcourt Championships</td>\n",
       "      <td>2000-01-03</td>\n",
       "      <td>International</td>\n",
       "      <td>Outdoor</td>\n",
       "      <td>Hard</td>\n",
       "      <td>1st Round</td>\n",
       "      <td>3</td>\n",
       "      <td>Clement A.</td>\n",
       "      <td>...</td>\n",
       "      <td>2.0</td>\n",
       "      <td>Completed</td>\n",
       "      <td>NaN</td>\n",
       "      <td>NaN</td>\n",
       "      <td>NaN</td>\n",
       "      <td>NaN</td>\n",
       "      <td>1500.000000</td>\n",
       "      <td>1516.0</td>\n",
       "      <td>0.476990</td>\n",
       "      <td>False</td>\n",
       "    </tr>\n",
       "    <tr>\n",
       "      <th>66</th>\n",
       "      <td>1</td>\n",
       "      <td>Adelaide</td>\n",
       "      <td>Australian Hardcourt Championships</td>\n",
       "      <td>2000-01-03</td>\n",
       "      <td>International</td>\n",
       "      <td>Outdoor</td>\n",
       "      <td>Hard</td>\n",
       "      <td>1st Round</td>\n",
       "      <td>3</td>\n",
       "      <td>Escude N.</td>\n",
       "      <td>...</td>\n",
       "      <td>1.0</td>\n",
       "      <td>Completed</td>\n",
       "      <td>NaN</td>\n",
       "      <td>NaN</td>\n",
       "      <td>NaN</td>\n",
       "      <td>NaN</td>\n",
       "      <td>1516.736307</td>\n",
       "      <td>1500.0</td>\n",
       "      <td>0.524067</td>\n",
       "      <td>True</td>\n",
       "    </tr>\n",
       "    <tr>\n",
       "      <th>65</th>\n",
       "      <td>1</td>\n",
       "      <td>Adelaide</td>\n",
       "      <td>Australian Hardcourt Championships</td>\n",
       "      <td>2000-01-03</td>\n",
       "      <td>International</td>\n",
       "      <td>Outdoor</td>\n",
       "      <td>Hard</td>\n",
       "      <td>1st Round</td>\n",
       "      <td>3</td>\n",
       "      <td>Knippschild J.</td>\n",
       "      <td>...</td>\n",
       "      <td>2.0</td>\n",
       "      <td>Completed</td>\n",
       "      <td>NaN</td>\n",
       "      <td>NaN</td>\n",
       "      <td>NaN</td>\n",
       "      <td>NaN</td>\n",
       "      <td>1500.000000</td>\n",
       "      <td>1484.0</td>\n",
       "      <td>0.523010</td>\n",
       "      <td>False</td>\n",
       "    </tr>\n",
       "  </tbody>\n",
       "</table>\n",
       "<p>5 rows × 24 columns</p>\n",
       "</div>"
      ],
      "text/plain": [
       "    atp  location                          tournament       date  \\\n",
       "0     1  Adelaide  Australian Hardcourt Championships 2000-01-03   \n",
       "68    1  Adelaide  Australian Hardcourt Championships 2000-01-03   \n",
       "67    1  Adelaide  Australian Hardcourt Championships 2000-01-03   \n",
       "66    1  Adelaide  Australian Hardcourt Championships 2000-01-03   \n",
       "65    1  Adelaide  Australian Hardcourt Championships 2000-01-03   \n",
       "\n",
       "           series    court surface      round  best of              p1  ...  \\\n",
       "0   International  Outdoor    Hard  1st Round        3      Dosedel S.  ...   \n",
       "68  International  Outdoor    Hard  1st Round        3       Martin A.  ...   \n",
       "67  International  Outdoor    Hard  1st Round        3      Clement A.  ...   \n",
       "66  International  Outdoor    Hard  1st Round        3       Escude N.  ...   \n",
       "65  International  Outdoor    Hard  1st Round        3  Knippschild J.  ...   \n",
       "\n",
       "   sets_p2    comment  ps_p1  ps_p2  b365_p1 b365_p2       elo_p1  elo_p2  \\\n",
       "0      0.0  Completed    NaN    NaN      NaN     NaN  1500.000000  1500.0   \n",
       "68     0.0  Completed    NaN    NaN      NaN     NaN  1516.736307  1500.0   \n",
       "67     2.0  Completed    NaN    NaN      NaN     NaN  1500.000000  1516.0   \n",
       "66     1.0  Completed    NaN    NaN      NaN     NaN  1516.736307  1500.0   \n",
       "65     2.0  Completed    NaN    NaN      NaN     NaN  1500.000000  1484.0   \n",
       "\n",
       "    proba_elo  target  \n",
       "0    0.500000    True  \n",
       "68   0.524067    True  \n",
       "67   0.476990   False  \n",
       "66   0.524067    True  \n",
       "65   0.523010   False  \n",
       "\n",
       "[5 rows x 24 columns]"
      ]
     },
     "execution_count": 14,
     "metadata": {},
     "output_type": "execute_result"
    }
   ],
   "source": [
    "# does player 1 win?\n",
    "df_permuted['target'] = ~mask\n",
    "df_permuted.head()"
   ]
  },
  {
   "attachments": {},
   "cell_type": "markdown",
   "metadata": {},
   "source": [
    "drop the number of sets won by each player because it would identify 1-1 (almost) the winner."
   ]
  },
  {
   "attachments": {},
   "cell_type": "markdown",
   "metadata": {},
   "source": [
    "# Feature engineering\n",
    "To be improved"
   ]
  },
  {
   "cell_type": "code",
   "execution_count": 15,
   "metadata": {},
   "outputs": [],
   "source": [
    "\n",
    "# Extract year, month, and day into separate columns\n",
    "df_permuted['year'] = df_permuted['date'].dt.year\n",
    "df_permuted['month'] = df_permuted['date'].dt.month\n",
    "df_permuted['day'] = df_permuted['date'].dt.day\n",
    "df_permuted['rank_diff'] = df_permuted['rank_p1'] - df_permuted['rank_p2']\n",
    "\n",
    "# find the player with the best (lowest) ATP rank\n",
    "df_permuted['best_ranked'] = 'p1'\n",
    "df_permuted.loc[df_permuted['rank_diff'] > 0, 'best_ranked'] = 'p2'"
   ]
  },
  {
   "attachments": {},
   "cell_type": "markdown",
   "metadata": {},
   "source": [
    "## Split the data\n",
    "\n",
    "As the time goes by, players improve or age. It's important to keep the time ordering to avoid leakage of information"
   ]
  },
  {
   "cell_type": "code",
   "execution_count": 16,
   "metadata": {},
   "outputs": [
    {
     "data": {
      "text/plain": [
       "0    2000-01-03\n",
       "68   2000-01-03\n",
       "67   2000-01-03\n",
       "66   2000-01-03\n",
       "65   2000-01-03\n",
       "Name: date, dtype: datetime64[ns]"
      ]
     },
     "execution_count": 16,
     "metadata": {},
     "output_type": "execute_result"
    }
   ],
   "source": [
    "df_permuted['date'].head()"
   ]
  },
  {
   "cell_type": "code",
   "execution_count": 17,
   "metadata": {},
   "outputs": [
    {
     "data": {
      "text/plain": [
       "44703   2018-03-03\n",
       "44704   2018-03-03\n",
       "44705   2018-03-03\n",
       "44706   2018-03-04\n",
       "44707   2018-03-04\n",
       "Name: date, dtype: datetime64[ns]"
      ]
     },
     "execution_count": 17,
     "metadata": {},
     "output_type": "execute_result"
    }
   ],
   "source": [
    "df_permuted['date'].tail()"
   ]
  },
  {
   "cell_type": "code",
   "execution_count": 18,
   "metadata": {},
   "outputs": [],
   "source": [
    "# they are only NaN\n",
    "predictors = df_permuted.columns.drop(['target', 'date', 'sets_p1', 'sets_p2', 'b365_p1', 'b365_p2', 'ps_p1', 'ps_p2'])\n",
    "# predictors = ['rank_p1', 'rank_p2']\n",
    "X = df_permuted[predictors].copy()\n",
    "y = df_permuted['target'].copy() * 1"
   ]
  },
  {
   "cell_type": "code",
   "execution_count": 19,
   "metadata": {},
   "outputs": [
    {
     "data": {
      "text/plain": [
       "Index(['atp', 'location', 'tournament', 'series', 'court', 'surface', 'round',\n",
       "       'best of', 'p1', 'p2', 'rank_p1', 'rank_p2', 'comment', 'elo_p1',\n",
       "       'elo_p2', 'proba_elo', 'year', 'month', 'day', 'rank_diff',\n",
       "       'best_ranked'],\n",
       "      dtype='object')"
      ]
     },
     "execution_count": 19,
     "metadata": {},
     "output_type": "execute_result"
    }
   ],
   "source": [
    "predictors"
   ]
  },
  {
   "cell_type": "code",
   "execution_count": 20,
   "metadata": {},
   "outputs": [],
   "source": [
    "ts_split = TimeSeriesSplit(n_splits=2)\n",
    "all_splits = list(ts_split.split(X, y))\n",
    "train_idx, test_idx = all_splits[0]"
   ]
  },
  {
   "cell_type": "code",
   "execution_count": 21,
   "metadata": {},
   "outputs": [
    {
     "data": {
      "text/plain": [
       "array([    0,     1,     2, ..., 14901, 14902, 14903])"
      ]
     },
     "execution_count": 21,
     "metadata": {},
     "output_type": "execute_result"
    }
   ],
   "source": [
    "train_idx"
   ]
  },
  {
   "attachments": {},
   "cell_type": "markdown",
   "metadata": {},
   "source": [
    "sanity check: are the matches chronologically ordered?"
   ]
  },
  {
   "cell_type": "code",
   "execution_count": 22,
   "metadata": {},
   "outputs": [
    {
     "data": {
      "text/plain": [
       "14895   2006-02-16\n",
       "14894   2006-02-16\n",
       "14893   2006-02-16\n",
       "14892   2006-02-16\n",
       "14891   2006-02-16\n",
       "Name: date, dtype: datetime64[ns]"
      ]
     },
     "execution_count": 22,
     "metadata": {},
     "output_type": "execute_result"
    }
   ],
   "source": [
    "df_permuted['date'].iloc[train_idx].tail()"
   ]
  },
  {
   "cell_type": "code",
   "execution_count": 23,
   "metadata": {},
   "outputs": [
    {
     "data": {
      "text/plain": [
       "14890   2006-02-16\n",
       "14889   2006-02-16\n",
       "14897   2006-02-16\n",
       "14921   2006-02-17\n",
       "14920   2006-02-17\n",
       "Name: date, dtype: datetime64[ns]"
      ]
     },
     "execution_count": 23,
     "metadata": {},
     "output_type": "execute_result"
    }
   ],
   "source": [
    "df_permuted['date'].iloc[test_idx].head()"
   ]
  },
  {
   "attachments": {},
   "cell_type": "markdown",
   "metadata": {},
   "source": [
    "## Train the model\n",
    "\n",
    "### Business rule\n",
    "\n",
    "The lowest rank wins"
   ]
  },
  {
   "cell_type": "code",
   "execution_count": 24,
   "metadata": {},
   "outputs": [],
   "source": [
    "X_train = X.iloc[train_idx, :].copy()\n",
    "y_train = y[train_idx].copy()\n",
    "X_test= X.iloc[test_idx, :].copy()\n",
    "y_test = y[test_idx].copy()"
   ]
  },
  {
   "cell_type": "code",
   "execution_count": 25,
   "metadata": {},
   "outputs": [
    {
     "data": {
      "text/plain": [
       "p1    7481\n",
       "p2    7421\n",
       "Name: best_ranked, dtype: int64"
      ]
     },
     "execution_count": 25,
     "metadata": {},
     "output_type": "execute_result"
    }
   ],
   "source": [
    "X_test['best_ranked'].value_counts()"
   ]
  },
  {
   "cell_type": "code",
   "execution_count": 26,
   "metadata": {},
   "outputs": [
    {
     "name": "stdout",
     "output_type": "stream",
     "text": [
      "              precision    recall  f1-score   support\n",
      "\n",
      "      winner       0.51      0.51      0.51      7451\n",
      "       loser       0.51      0.51      0.51      7451\n",
      "\n",
      "    accuracy                           0.51     14902\n",
      "   macro avg       0.51      0.51      0.51     14902\n",
      "weighted avg       0.51      0.51      0.51     14902\n",
      "\n"
     ]
    }
   ],
   "source": [
    "y_pred_br = X_test[\"rank_diff\"]<0\n",
    "\n",
    "target_names = [\"winner\", \"loser\"]\n",
    "print(classification_report(y_test, y_pred_br, target_names=target_names))"
   ]
  },
  {
   "cell_type": "code",
   "execution_count": 27,
   "metadata": {},
   "outputs": [
    {
     "data": {
      "text/html": [
       "<div>\n",
       "<style scoped>\n",
       "    .dataframe tbody tr th:only-of-type {\n",
       "        vertical-align: middle;\n",
       "    }\n",
       "\n",
       "    .dataframe tbody tr th {\n",
       "        vertical-align: top;\n",
       "    }\n",
       "\n",
       "    .dataframe thead th {\n",
       "        text-align: right;\n",
       "    }\n",
       "</style>\n",
       "<table border=\"1\" class=\"dataframe\">\n",
       "  <thead>\n",
       "    <tr style=\"text-align: right;\">\n",
       "      <th>Predicted</th>\n",
       "      <th>False</th>\n",
       "      <th>True</th>\n",
       "    </tr>\n",
       "    <tr>\n",
       "      <th>Actual</th>\n",
       "      <th></th>\n",
       "      <th></th>\n",
       "    </tr>\n",
       "  </thead>\n",
       "  <tbody>\n",
       "    <tr>\n",
       "      <th>0</th>\n",
       "      <td>4907</td>\n",
       "      <td>2540</td>\n",
       "    </tr>\n",
       "    <tr>\n",
       "      <th>1</th>\n",
       "      <td>2512</td>\n",
       "      <td>4934</td>\n",
       "    </tr>\n",
       "  </tbody>\n",
       "</table>\n",
       "</div>"
      ],
      "text/plain": [
       "Predicted  False  True \n",
       "Actual                 \n",
       "0           4907   2540\n",
       "1           2512   4934"
      ]
     },
     "execution_count": 27,
     "metadata": {},
     "output_type": "execute_result"
    }
   ],
   "source": [
    "confusion_matrix = pd.crosstab(y_test, X_test[\"rank_diff\"]<0, rownames=['Actual'], colnames=['Predicted'])\n",
    "confusion_matrix"
   ]
  },
  {
   "attachments": {},
   "cell_type": "markdown",
   "metadata": {},
   "source": [
    "### Vanilla RF\n",
    "\n",
    "RF is basically only overfitting, not extracting info"
   ]
  },
  {
   "cell_type": "code",
   "execution_count": 28,
   "metadata": {},
   "outputs": [
    {
     "data": {
      "text/html": [
       "<style>#sk-container-id-1 {color: black;background-color: white;}#sk-container-id-1 pre{padding: 0;}#sk-container-id-1 div.sk-toggleable {background-color: white;}#sk-container-id-1 label.sk-toggleable__label {cursor: pointer;display: block;width: 100%;margin-bottom: 0;padding: 0.3em;box-sizing: border-box;text-align: center;}#sk-container-id-1 label.sk-toggleable__label-arrow:before {content: \"▸\";float: left;margin-right: 0.25em;color: #696969;}#sk-container-id-1 label.sk-toggleable__label-arrow:hover:before {color: black;}#sk-container-id-1 div.sk-estimator:hover label.sk-toggleable__label-arrow:before {color: black;}#sk-container-id-1 div.sk-toggleable__content {max-height: 0;max-width: 0;overflow: hidden;text-align: left;background-color: #f0f8ff;}#sk-container-id-1 div.sk-toggleable__content pre {margin: 0.2em;color: black;border-radius: 0.25em;background-color: #f0f8ff;}#sk-container-id-1 input.sk-toggleable__control:checked~div.sk-toggleable__content {max-height: 200px;max-width: 100%;overflow: auto;}#sk-container-id-1 input.sk-toggleable__control:checked~label.sk-toggleable__label-arrow:before {content: \"▾\";}#sk-container-id-1 div.sk-estimator input.sk-toggleable__control:checked~label.sk-toggleable__label {background-color: #d4ebff;}#sk-container-id-1 div.sk-label input.sk-toggleable__control:checked~label.sk-toggleable__label {background-color: #d4ebff;}#sk-container-id-1 input.sk-hidden--visually {border: 0;clip: rect(1px 1px 1px 1px);clip: rect(1px, 1px, 1px, 1px);height: 1px;margin: -1px;overflow: hidden;padding: 0;position: absolute;width: 1px;}#sk-container-id-1 div.sk-estimator {font-family: monospace;background-color: #f0f8ff;border: 1px dotted black;border-radius: 0.25em;box-sizing: border-box;margin-bottom: 0.5em;}#sk-container-id-1 div.sk-estimator:hover {background-color: #d4ebff;}#sk-container-id-1 div.sk-parallel-item::after {content: \"\";width: 100%;border-bottom: 1px solid gray;flex-grow: 1;}#sk-container-id-1 div.sk-label:hover label.sk-toggleable__label {background-color: #d4ebff;}#sk-container-id-1 div.sk-serial::before {content: \"\";position: absolute;border-left: 1px solid gray;box-sizing: border-box;top: 0;bottom: 0;left: 50%;z-index: 0;}#sk-container-id-1 div.sk-serial {display: flex;flex-direction: column;align-items: center;background-color: white;padding-right: 0.2em;padding-left: 0.2em;position: relative;}#sk-container-id-1 div.sk-item {position: relative;z-index: 1;}#sk-container-id-1 div.sk-parallel {display: flex;align-items: stretch;justify-content: center;background-color: white;position: relative;}#sk-container-id-1 div.sk-item::before, #sk-container-id-1 div.sk-parallel-item::before {content: \"\";position: absolute;border-left: 1px solid gray;box-sizing: border-box;top: 0;bottom: 0;left: 50%;z-index: -1;}#sk-container-id-1 div.sk-parallel-item {display: flex;flex-direction: column;z-index: 1;position: relative;background-color: white;}#sk-container-id-1 div.sk-parallel-item:first-child::after {align-self: flex-end;width: 50%;}#sk-container-id-1 div.sk-parallel-item:last-child::after {align-self: flex-start;width: 50%;}#sk-container-id-1 div.sk-parallel-item:only-child::after {width: 0;}#sk-container-id-1 div.sk-dashed-wrapped {border: 1px dashed gray;margin: 0 0.4em 0.5em 0.4em;box-sizing: border-box;padding-bottom: 0.4em;background-color: white;}#sk-container-id-1 div.sk-label label {font-family: monospace;font-weight: bold;display: inline-block;line-height: 1.2em;}#sk-container-id-1 div.sk-label-container {text-align: center;}#sk-container-id-1 div.sk-container {/* jupyter's `normalize.less` sets `[hidden] { display: none; }` but bootstrap.min.css set `[hidden] { display: none !important; }` so we also need the `!important` here to be able to override the default hidden behavior on the sphinx rendered scikit-learn.org. See: https://github.com/scikit-learn/scikit-learn/issues/21755 */display: inline-block !important;position: relative;}#sk-container-id-1 div.sk-text-repr-fallback {display: none;}</style><div id=\"sk-container-id-1\" class=\"sk-top-container\"><div class=\"sk-text-repr-fallback\"><pre>Pipeline(steps=[(&#x27;encoder&#x27;, OrdinalEncoderPandas()),\n",
       "                (&#x27;imputer&#x27;, SimpleImputer(strategy=&#x27;most_frequent&#x27;)),\n",
       "                (&#x27;gbm&#x27;, RandomForestClassifier())])</pre><b>In a Jupyter environment, please rerun this cell to show the HTML representation or trust the notebook. <br />On GitHub, the HTML representation is unable to render, please try loading this page with nbviewer.org.</b></div><div class=\"sk-container\" hidden><div class=\"sk-item sk-dashed-wrapped\"><div class=\"sk-label-container\"><div class=\"sk-label sk-toggleable\"><input class=\"sk-toggleable__control sk-hidden--visually\" id=\"sk-estimator-id-1\" type=\"checkbox\" ><label for=\"sk-estimator-id-1\" class=\"sk-toggleable__label sk-toggleable__label-arrow\">Pipeline</label><div class=\"sk-toggleable__content\"><pre>Pipeline(steps=[(&#x27;encoder&#x27;, OrdinalEncoderPandas()),\n",
       "                (&#x27;imputer&#x27;, SimpleImputer(strategy=&#x27;most_frequent&#x27;)),\n",
       "                (&#x27;gbm&#x27;, RandomForestClassifier())])</pre></div></div></div><div class=\"sk-serial\"><div class=\"sk-item\"><div class=\"sk-estimator sk-toggleable\"><input class=\"sk-toggleable__control sk-hidden--visually\" id=\"sk-estimator-id-2\" type=\"checkbox\" ><label for=\"sk-estimator-id-2\" class=\"sk-toggleable__label sk-toggleable__label-arrow\">OrdinalEncoderPandas</label><div class=\"sk-toggleable__content\"><pre>OrdinalEncoderPandas()</pre></div></div></div><div class=\"sk-item\"><div class=\"sk-estimator sk-toggleable\"><input class=\"sk-toggleable__control sk-hidden--visually\" id=\"sk-estimator-id-3\" type=\"checkbox\" ><label for=\"sk-estimator-id-3\" class=\"sk-toggleable__label sk-toggleable__label-arrow\">SimpleImputer</label><div class=\"sk-toggleable__content\"><pre>SimpleImputer(strategy=&#x27;most_frequent&#x27;)</pre></div></div></div><div class=\"sk-item\"><div class=\"sk-estimator sk-toggleable\"><input class=\"sk-toggleable__control sk-hidden--visually\" id=\"sk-estimator-id-4\" type=\"checkbox\" ><label for=\"sk-estimator-id-4\" class=\"sk-toggleable__label sk-toggleable__label-arrow\">RandomForestClassifier</label><div class=\"sk-toggleable__content\"><pre>RandomForestClassifier()</pre></div></div></div></div></div></div></div>"
      ],
      "text/plain": [
       "Pipeline(steps=[('encoder', OrdinalEncoderPandas()),\n",
       "                ('imputer', SimpleImputer(strategy='most_frequent')),\n",
       "                ('gbm', RandomForestClassifier())])"
      ]
     },
     "execution_count": 28,
     "metadata": {},
     "output_type": "execute_result"
    }
   ],
   "source": [
    "model= Pipeline([ (\"encoder\", OrdinalEncoderPandas()), ('imputer', SimpleImputer(strategy='most_frequent')), (\"gbm\", RandomForestClassifier())])\n",
    "model.fit(X_train, y_train)"
   ]
  },
  {
   "cell_type": "code",
   "execution_count": 29,
   "metadata": {},
   "outputs": [
    {
     "name": "stdout",
     "output_type": "stream",
     "text": [
      "              precision    recall  f1-score   support\n",
      "\n",
      "      winner       1.00      1.00      1.00      7452\n",
      "       loser       1.00      1.00      1.00      7452\n",
      "\n",
      "    accuracy                           1.00     14904\n",
      "   macro avg       1.00      1.00      1.00     14904\n",
      "weighted avg       1.00      1.00      1.00     14904\n",
      "\n"
     ]
    }
   ],
   "source": [
    "y_pred_insample = model.predict(X_train)\n",
    "target_names = [\"winner\", \"loser\"]\n",
    "print(classification_report(y_train, y_pred_insample, target_names=target_names))"
   ]
  },
  {
   "cell_type": "code",
   "execution_count": 30,
   "metadata": {},
   "outputs": [
    {
     "name": "stdout",
     "output_type": "stream",
     "text": [
      "              precision    recall  f1-score   support\n",
      "\n",
      "      winner       0.51      0.54      0.53      7451\n",
      "       loser       0.52      0.49      0.50      7451\n",
      "\n",
      "    accuracy                           0.51     14902\n",
      "   macro avg       0.51      0.51      0.51     14902\n",
      "weighted avg       0.51      0.51      0.51     14902\n",
      "\n"
     ]
    }
   ],
   "source": [
    "y_pred = model.predict(X_test.fillna(0))\n",
    "target_names = [\"winner\", \"loser\"]\n",
    "print(classification_report(y_test, y_pred, target_names=target_names))"
   ]
  },
  {
   "cell_type": "code",
   "execution_count": 31,
   "metadata": {},
   "outputs": [
    {
     "data": {
      "text/html": [
       "<div>\n",
       "<style scoped>\n",
       "    .dataframe tbody tr th:only-of-type {\n",
       "        vertical-align: middle;\n",
       "    }\n",
       "\n",
       "    .dataframe tbody tr th {\n",
       "        vertical-align: top;\n",
       "    }\n",
       "\n",
       "    .dataframe thead th {\n",
       "        text-align: right;\n",
       "    }\n",
       "</style>\n",
       "<table border=\"1\" class=\"dataframe\">\n",
       "  <thead>\n",
       "    <tr style=\"text-align: right;\">\n",
       "      <th>Predicted</th>\n",
       "      <th>0</th>\n",
       "      <th>1</th>\n",
       "    </tr>\n",
       "    <tr>\n",
       "      <th>Actual</th>\n",
       "      <th></th>\n",
       "      <th></th>\n",
       "    </tr>\n",
       "  </thead>\n",
       "  <tbody>\n",
       "    <tr>\n",
       "      <th>0</th>\n",
       "      <td>4042</td>\n",
       "      <td>3409</td>\n",
       "    </tr>\n",
       "    <tr>\n",
       "      <th>1</th>\n",
       "      <td>3821</td>\n",
       "      <td>3630</td>\n",
       "    </tr>\n",
       "  </tbody>\n",
       "</table>\n",
       "</div>"
      ],
      "text/plain": [
       "Predicted     0     1\n",
       "Actual               \n",
       "0          4042  3409\n",
       "1          3821  3630"
      ]
     },
     "execution_count": 31,
     "metadata": {},
     "output_type": "execute_result"
    }
   ],
   "source": [
    "confusion_matrix = pd.crosstab(y_test, y_pred, rownames=['Actual'], colnames=['Predicted'])\n",
    "confusion_matrix"
   ]
  },
  {
   "attachments": {},
   "cell_type": "markdown",
   "metadata": {},
   "source": [
    "### Vanilla GBM\n",
    "vanilla ligthGBM for now, not even early stopping. "
   ]
  },
  {
   "cell_type": "code",
   "execution_count": 32,
   "metadata": {},
   "outputs": [
    {
     "name": "stdout",
     "output_type": "stream",
     "text": [
      "              precision    recall  f1-score   support\n",
      "\n",
      "      winner       0.66      0.62      0.64      7452\n",
      "       loser       0.64      0.68      0.66      7452\n",
      "\n",
      "    accuracy                           0.65     14904\n",
      "   macro avg       0.65      0.65      0.65     14904\n",
      "weighted avg       0.65      0.65      0.65     14904\n",
      "\n"
     ]
    }
   ],
   "source": [
    "model= Pipeline([ (\"encoder\", OrdinalEncoderPandas()), (\"gbm\", LGBMClassifier(n_estimators=20))])\n",
    "model.fit(X_train, y_train)\n",
    "\n",
    "y_pred_insample = model.predict(X_train)\n",
    "target_names = [\"winner\", \"loser\"]\n",
    "print(classification_report(y_train, y_pred_insample, target_names=target_names))"
   ]
  },
  {
   "cell_type": "code",
   "execution_count": 33,
   "metadata": {},
   "outputs": [
    {
     "name": "stdout",
     "output_type": "stream",
     "text": [
      "              precision    recall  f1-score   support\n",
      "\n",
      "      winner       0.51      0.57      0.54      7451\n",
      "       loser       0.51      0.45      0.48      7451\n",
      "\n",
      "    accuracy                           0.51     14902\n",
      "   macro avg       0.51      0.51      0.51     14902\n",
      "weighted avg       0.51      0.51      0.51     14902\n",
      "\n"
     ]
    }
   ],
   "source": [
    "y_pred = model.predict(X_test)\n",
    "target_names = [\"winner\", \"loser\"]\n",
    "print(classification_report(y_test, y_pred, target_names=target_names))"
   ]
  },
  {
   "cell_type": "code",
   "execution_count": 34,
   "metadata": {},
   "outputs": [
    {
     "name": "stdout",
     "output_type": "stream",
     "text": [
      "0.507649979868474\n"
     ]
    }
   ],
   "source": [
    "print(accuracy_score(y_test, y_pred))"
   ]
  },
  {
   "cell_type": "code",
   "execution_count": 35,
   "metadata": {},
   "outputs": [
    {
     "data": {
      "text/html": [
       "<div>\n",
       "<style scoped>\n",
       "    .dataframe tbody tr th:only-of-type {\n",
       "        vertical-align: middle;\n",
       "    }\n",
       "\n",
       "    .dataframe tbody tr th {\n",
       "        vertical-align: top;\n",
       "    }\n",
       "\n",
       "    .dataframe thead th {\n",
       "        text-align: right;\n",
       "    }\n",
       "</style>\n",
       "<table border=\"1\" class=\"dataframe\">\n",
       "  <thead>\n",
       "    <tr style=\"text-align: right;\">\n",
       "      <th>Predicted</th>\n",
       "      <th>0</th>\n",
       "      <th>1</th>\n",
       "    </tr>\n",
       "    <tr>\n",
       "      <th>Actual</th>\n",
       "      <th></th>\n",
       "      <th></th>\n",
       "    </tr>\n",
       "  </thead>\n",
       "  <tbody>\n",
       "    <tr>\n",
       "      <th>0</th>\n",
       "      <td>4232</td>\n",
       "      <td>3219</td>\n",
       "    </tr>\n",
       "    <tr>\n",
       "      <th>1</th>\n",
       "      <td>4118</td>\n",
       "      <td>3333</td>\n",
       "    </tr>\n",
       "  </tbody>\n",
       "</table>\n",
       "</div>"
      ],
      "text/plain": [
       "Predicted     0     1\n",
       "Actual               \n",
       "0          4232  3219\n",
       "1          4118  3333"
      ]
     },
     "execution_count": 35,
     "metadata": {},
     "output_type": "execute_result"
    }
   ],
   "source": [
    "confusion_matrix = pd.crosstab(y_test, y_pred, rownames=['Actual'], colnames=['Predicted'])\n",
    "confusion_matrix"
   ]
  },
  {
   "attachments": {},
   "cell_type": "markdown",
   "metadata": {},
   "source": [
    "### Vanilla XGBoost"
   ]
  },
  {
   "cell_type": "code",
   "execution_count": 36,
   "metadata": {},
   "outputs": [
    {
     "name": "stdout",
     "output_type": "stream",
     "text": [
      "              precision    recall  f1-score   support\n",
      "\n",
      "      winner       0.69      0.66      0.67      7452\n",
      "       loser       0.67      0.70      0.69      7452\n",
      "\n",
      "    accuracy                           0.68     14904\n",
      "   macro avg       0.68      0.68      0.68     14904\n",
      "weighted avg       0.68      0.68      0.68     14904\n",
      "\n"
     ]
    }
   ],
   "source": [
    "model= Pipeline([ (\"encoder\", OrdinalEncoderPandas()), (\"gbm\", XGBClassifier(n_estimators=20))])\n",
    "model.fit(X_train, y_train)\n",
    "\n",
    "y_pred_insample = model.predict(X_train)\n",
    "target_names = [\"winner\", \"loser\"]\n",
    "print(classification_report(y_train, y_pred_insample, target_names=target_names))"
   ]
  },
  {
   "cell_type": "code",
   "execution_count": 37,
   "metadata": {},
   "outputs": [
    {
     "name": "stdout",
     "output_type": "stream",
     "text": [
      "              precision    recall  f1-score   support\n",
      "\n",
      "      winner       0.51      0.56      0.53      7451\n",
      "       loser       0.51      0.46      0.48      7451\n",
      "\n",
      "    accuracy                           0.51     14902\n",
      "   macro avg       0.51      0.51      0.51     14902\n",
      "weighted avg       0.51      0.51      0.51     14902\n",
      "\n"
     ]
    }
   ],
   "source": [
    "y_pred = model.predict(X_test)\n",
    "target_names = [\"winner\", \"loser\"]\n",
    "print(classification_report(y_test, y_pred, target_names=target_names))"
   ]
  },
  {
   "cell_type": "code",
   "execution_count": 38,
   "metadata": {},
   "outputs": [
    {
     "data": {
      "text/html": [
       "<div>\n",
       "<style scoped>\n",
       "    .dataframe tbody tr th:only-of-type {\n",
       "        vertical-align: middle;\n",
       "    }\n",
       "\n",
       "    .dataframe tbody tr th {\n",
       "        vertical-align: top;\n",
       "    }\n",
       "\n",
       "    .dataframe thead th {\n",
       "        text-align: right;\n",
       "    }\n",
       "</style>\n",
       "<table border=\"1\" class=\"dataframe\">\n",
       "  <thead>\n",
       "    <tr style=\"text-align: right;\">\n",
       "      <th>Predicted</th>\n",
       "      <th>0</th>\n",
       "      <th>1</th>\n",
       "    </tr>\n",
       "    <tr>\n",
       "      <th>Actual</th>\n",
       "      <th></th>\n",
       "      <th></th>\n",
       "    </tr>\n",
       "  </thead>\n",
       "  <tbody>\n",
       "    <tr>\n",
       "      <th>0</th>\n",
       "      <td>4171</td>\n",
       "      <td>3280</td>\n",
       "    </tr>\n",
       "    <tr>\n",
       "      <th>1</th>\n",
       "      <td>4029</td>\n",
       "      <td>3422</td>\n",
       "    </tr>\n",
       "  </tbody>\n",
       "</table>\n",
       "</div>"
      ],
      "text/plain": [
       "Predicted     0     1\n",
       "Actual               \n",
       "0          4171  3280\n",
       "1          4029  3422"
      ]
     },
     "execution_count": 38,
     "metadata": {},
     "output_type": "execute_result"
    }
   ],
   "source": [
    "confusion_matrix = pd.crosstab(y_test, y_pred, rownames=['Actual'], colnames=['Predicted'])\n",
    "confusion_matrix"
   ]
  },
  {
   "attachments": {},
   "cell_type": "markdown",
   "metadata": {},
   "source": [
    "### Vanilla CatBoost"
   ]
  },
  {
   "cell_type": "code",
   "execution_count": 39,
   "metadata": {},
   "outputs": [
    {
     "name": "stdout",
     "output_type": "stream",
     "text": [
      "Learning rate set to 0.5\n",
      "0:\tlearn: 0.6904354\ttotal: 148ms\tremaining: 7.27s\n",
      "1:\tlearn: 0.6883207\ttotal: 159ms\tremaining: 3.81s\n",
      "2:\tlearn: 0.6866370\ttotal: 168ms\tremaining: 2.63s\n",
      "3:\tlearn: 0.6851492\ttotal: 175ms\tremaining: 2.02s\n",
      "4:\tlearn: 0.6838091\ttotal: 184ms\tremaining: 1.66s\n",
      "5:\tlearn: 0.6817825\ttotal: 193ms\tremaining: 1.42s\n",
      "6:\tlearn: 0.6806844\ttotal: 201ms\tremaining: 1.24s\n",
      "7:\tlearn: 0.6797442\ttotal: 209ms\tremaining: 1.1s\n",
      "8:\tlearn: 0.6787334\ttotal: 218ms\tremaining: 992ms\n",
      "9:\tlearn: 0.6778913\ttotal: 228ms\tremaining: 911ms\n",
      "10:\tlearn: 0.6762401\ttotal: 235ms\tremaining: 833ms\n",
      "11:\tlearn: 0.6749512\ttotal: 244ms\tremaining: 772ms\n",
      "12:\tlearn: 0.6737839\ttotal: 253ms\tremaining: 721ms\n",
      "13:\tlearn: 0.6721775\ttotal: 263ms\tremaining: 675ms\n",
      "14:\tlearn: 0.6699724\ttotal: 272ms\tremaining: 636ms\n",
      "15:\tlearn: 0.6683424\ttotal: 281ms\tremaining: 597ms\n",
      "16:\tlearn: 0.6666039\ttotal: 289ms\tremaining: 561ms\n",
      "17:\tlearn: 0.6655585\ttotal: 297ms\tremaining: 527ms\n",
      "18:\tlearn: 0.6638545\ttotal: 304ms\tremaining: 496ms\n",
      "19:\tlearn: 0.6618766\ttotal: 313ms\tremaining: 469ms\n",
      "20:\tlearn: 0.6604346\ttotal: 321ms\tremaining: 443ms\n",
      "21:\tlearn: 0.6588220\ttotal: 333ms\tremaining: 424ms\n",
      "22:\tlearn: 0.6573902\ttotal: 342ms\tremaining: 402ms\n",
      "23:\tlearn: 0.6553452\ttotal: 349ms\tremaining: 378ms\n",
      "24:\tlearn: 0.6536085\ttotal: 357ms\tremaining: 357ms\n",
      "25:\tlearn: 0.6513468\ttotal: 365ms\tremaining: 337ms\n",
      "26:\tlearn: 0.6496228\ttotal: 373ms\tremaining: 318ms\n",
      "27:\tlearn: 0.6478687\ttotal: 381ms\tremaining: 300ms\n",
      "28:\tlearn: 0.6460311\ttotal: 390ms\tremaining: 282ms\n",
      "29:\tlearn: 0.6443908\ttotal: 399ms\tremaining: 266ms\n",
      "30:\tlearn: 0.6429196\ttotal: 406ms\tremaining: 249ms\n",
      "31:\tlearn: 0.6413888\ttotal: 415ms\tremaining: 233ms\n",
      "32:\tlearn: 0.6396469\ttotal: 424ms\tremaining: 218ms\n",
      "33:\tlearn: 0.6385502\ttotal: 432ms\tremaining: 203ms\n",
      "34:\tlearn: 0.6369850\ttotal: 440ms\tremaining: 189ms\n",
      "35:\tlearn: 0.6355590\ttotal: 449ms\tremaining: 174ms\n",
      "36:\tlearn: 0.6344240\ttotal: 456ms\tremaining: 160ms\n",
      "37:\tlearn: 0.6324776\ttotal: 465ms\tremaining: 147ms\n",
      "38:\tlearn: 0.6310345\ttotal: 473ms\tremaining: 133ms\n",
      "39:\tlearn: 0.6293379\ttotal: 481ms\tremaining: 120ms\n",
      "40:\tlearn: 0.6274007\ttotal: 490ms\tremaining: 108ms\n",
      "41:\tlearn: 0.6258639\ttotal: 498ms\tremaining: 94.9ms\n",
      "42:\tlearn: 0.6241595\ttotal: 507ms\tremaining: 82.6ms\n",
      "43:\tlearn: 0.6225145\ttotal: 519ms\tremaining: 70.7ms\n",
      "44:\tlearn: 0.6212947\ttotal: 528ms\tremaining: 58.7ms\n",
      "45:\tlearn: 0.6202053\ttotal: 538ms\tremaining: 46.8ms\n",
      "46:\tlearn: 0.6186659\ttotal: 545ms\tremaining: 34.8ms\n",
      "47:\tlearn: 0.6165527\ttotal: 553ms\tremaining: 23ms\n",
      "48:\tlearn: 0.6149614\ttotal: 560ms\tremaining: 11.4ms\n",
      "49:\tlearn: 0.6133383\ttotal: 569ms\tremaining: 0us\n",
      "              precision    recall  f1-score   support\n",
      "\n",
      "      winner       0.68      0.67      0.67      7452\n",
      "       loser       0.67      0.69      0.68      7452\n",
      "\n",
      "    accuracy                           0.68     14904\n",
      "   macro avg       0.68      0.68      0.68     14904\n",
      "weighted avg       0.68      0.68      0.68     14904\n",
      "\n"
     ]
    }
   ],
   "source": [
    "model= Pipeline([ (\"encoder\", OrdinalEncoderPandas()), (\"gbm\", CatBoostClassifier(n_estimators=50))])\n",
    "model.fit(X_train, y_train)\n",
    "\n",
    "y_pred_insample = model.predict(X_train)\n",
    "target_names = [\"winner\", \"loser\"]\n",
    "print(classification_report(y_train, y_pred_insample, target_names=target_names))"
   ]
  },
  {
   "cell_type": "code",
   "execution_count": 40,
   "metadata": {},
   "outputs": [
    {
     "name": "stdout",
     "output_type": "stream",
     "text": [
      "              precision    recall  f1-score   support\n",
      "\n",
      "      winner       0.51      0.51      0.51      7451\n",
      "       loser       0.51      0.50      0.50      7451\n",
      "\n",
      "    accuracy                           0.51     14902\n",
      "   macro avg       0.51      0.51      0.51     14902\n",
      "weighted avg       0.51      0.51      0.51     14902\n",
      "\n"
     ]
    }
   ],
   "source": [
    "y_pred = model.predict(X_test)\n",
    "target_names = [\"winner\", \"loser\"]\n",
    "print(classification_report(y_test, y_pred, target_names=target_names))"
   ]
  },
  {
   "cell_type": "code",
   "execution_count": 41,
   "metadata": {},
   "outputs": [
    {
     "data": {
      "text/html": [
       "<div>\n",
       "<style scoped>\n",
       "    .dataframe tbody tr th:only-of-type {\n",
       "        vertical-align: middle;\n",
       "    }\n",
       "\n",
       "    .dataframe tbody tr th {\n",
       "        vertical-align: top;\n",
       "    }\n",
       "\n",
       "    .dataframe thead th {\n",
       "        text-align: right;\n",
       "    }\n",
       "</style>\n",
       "<table border=\"1\" class=\"dataframe\">\n",
       "  <thead>\n",
       "    <tr style=\"text-align: right;\">\n",
       "      <th>Predicted</th>\n",
       "      <th>0</th>\n",
       "      <th>1</th>\n",
       "    </tr>\n",
       "    <tr>\n",
       "      <th>Actual</th>\n",
       "      <th></th>\n",
       "      <th></th>\n",
       "    </tr>\n",
       "  </thead>\n",
       "  <tbody>\n",
       "    <tr>\n",
       "      <th>0</th>\n",
       "      <td>3797</td>\n",
       "      <td>3654</td>\n",
       "    </tr>\n",
       "    <tr>\n",
       "      <th>1</th>\n",
       "      <td>3709</td>\n",
       "      <td>3742</td>\n",
       "    </tr>\n",
       "  </tbody>\n",
       "</table>\n",
       "</div>"
      ],
      "text/plain": [
       "Predicted     0     1\n",
       "Actual               \n",
       "0          3797  3654\n",
       "1          3709  3742"
      ]
     },
     "execution_count": 41,
     "metadata": {},
     "output_type": "execute_result"
    }
   ],
   "source": [
    "confusion_matrix = pd.crosstab(y_test, y_pred, rownames=['Actual'], colnames=['Predicted'])\n",
    "confusion_matrix"
   ]
  },
  {
   "attachments": {},
   "cell_type": "markdown",
   "metadata": {},
   "source": [
    "### Vanilla + FS"
   ]
  },
  {
   "cell_type": "code",
   "execution_count": 42,
   "metadata": {},
   "outputs": [
    {
     "name": "stderr",
     "output_type": "stream",
     "text": [
      "Iteration nb: 0  :   0%|          | 0/10 [00:00<?, ?it/s]Found `num_iterations` in params. Will use it instead of argument\n",
      "Iteration nb: 1  :  10%|█         | 1/10 [00:00<00:01,  6.45it/s]Found `num_iterations` in params. Will use it instead of argument\n",
      "Iteration nb: 2  :  20%|██        | 2/10 [00:00<00:01,  6.38it/s]Found `num_iterations` in params. Will use it instead of argument\n",
      "Iteration nb: 3  :  30%|███       | 3/10 [00:00<00:01,  6.37it/s]Found `num_iterations` in params. Will use it instead of argument\n",
      "Iteration nb: 4  :  40%|████      | 4/10 [00:00<00:00,  6.32it/s]Found `num_iterations` in params. Will use it instead of argument\n",
      "Iteration nb: 5  :  50%|█████     | 5/10 [00:00<00:00,  6.25it/s]Found `num_iterations` in params. Will use it instead of argument\n",
      "Iteration nb: 6  :  60%|██████    | 6/10 [00:00<00:00,  5.87it/s]Found `num_iterations` in params. Will use it instead of argument\n",
      "Iteration nb: 7  :  70%|███████   | 7/10 [00:01<00:00,  5.88it/s]Found `num_iterations` in params. Will use it instead of argument\n",
      "Iteration nb: 8  :  80%|████████  | 8/10 [00:01<00:00,  5.95it/s]Found `num_iterations` in params. Will use it instead of argument\n",
      "Iteration nb: 9  :  90%|█████████ | 9/10 [00:01<00:00,  5.92it/s]Found `num_iterations` in params. Will use it instead of argument\n",
      "Iteration nb: 9  : 100%|██████████| 10/10 [00:01<00:00,  6.01it/s]\n"
     ]
    },
    {
     "name": "stdout",
     "output_type": "stream",
     "text": [
      "              precision    recall  f1-score   support\n",
      "\n",
      "      winner       0.51      0.57      0.54      7451\n",
      "       loser       0.51      0.45      0.48      7451\n",
      "\n",
      "    accuracy                           0.51     14902\n",
      "   macro avg       0.51      0.51      0.51     14902\n",
      "weighted avg       0.51      0.51      0.51     14902\n",
      "\n"
     ]
    }
   ],
   "source": [
    "arfs_model = LGBMClassifier(random_state=42, verbose=-1, objective=\"binary\", zero_as_missing=False, n_estimators=10)\n",
    "lgb_kwargs = {\"objective\": \"binary\", \"zero_as_missing\": False, \"num_iterations\": 10}\n",
    "\n",
    "fs = Pipeline([\n",
    "        (\"missing\", MissingValueThreshold(threshold=0.05)),\n",
    "        (\"unique\", UniqueValuesThreshold(threshold=1)),\n",
    "        # (\"collinearity\", CollinearityThreshold(threshold=0.95)),\n",
    "        (\"lowimp\", VariableImportance(verbose=2, threshold=0.99, lgb_kwargs=lgb_kwargs, encode=True)),\n",
    "        # (\"arfs\", Leshy(arfs_model, n_estimators=100, verbose=0, max_iter=10, random_state=42, importance=\"shap\"))\n",
    "    ])\n",
    "\n",
    "fs_model= Pipeline([ (\"encoder\", OrdinalEncoderPandas()), (\"fs\", fs), (\"gbm\", LGBMClassifier(n_estimators=20))])\n",
    "\n",
    "fs_model.fit(X_train, y_train)\n",
    "\n",
    "y_pred = fs_model.predict(X_test)\n",
    "target_names = [\"winner\", \"loser\"]\n",
    "print(classification_report(y_test, y_pred, target_names=target_names))"
   ]
  },
  {
   "cell_type": "code",
   "execution_count": 43,
   "metadata": {},
   "outputs": [
    {
     "data": {
      "text/html": [
       "<div>\n",
       "<style scoped>\n",
       "    .dataframe tbody tr th:only-of-type {\n",
       "        vertical-align: middle;\n",
       "    }\n",
       "\n",
       "    .dataframe tbody tr th {\n",
       "        vertical-align: top;\n",
       "    }\n",
       "\n",
       "    .dataframe thead th {\n",
       "        text-align: right;\n",
       "    }\n",
       "</style>\n",
       "<table border=\"1\" class=\"dataframe\">\n",
       "  <thead>\n",
       "    <tr style=\"text-align: right;\">\n",
       "      <th>Predicted</th>\n",
       "      <th>0</th>\n",
       "      <th>1</th>\n",
       "    </tr>\n",
       "    <tr>\n",
       "      <th>Actual</th>\n",
       "      <th></th>\n",
       "      <th></th>\n",
       "    </tr>\n",
       "  </thead>\n",
       "  <tbody>\n",
       "    <tr>\n",
       "      <th>0</th>\n",
       "      <td>4231</td>\n",
       "      <td>3220</td>\n",
       "    </tr>\n",
       "    <tr>\n",
       "      <th>1</th>\n",
       "      <td>4108</td>\n",
       "      <td>3343</td>\n",
       "    </tr>\n",
       "  </tbody>\n",
       "</table>\n",
       "</div>"
      ],
      "text/plain": [
       "Predicted     0     1\n",
       "Actual               \n",
       "0          4231  3220\n",
       "1          4108  3343"
      ]
     },
     "execution_count": 43,
     "metadata": {},
     "output_type": "execute_result"
    }
   ],
   "source": [
    "confusion_matrix = pd.crosstab(y_test, y_pred, rownames=['Actual'], colnames=['Predicted'])\n",
    "confusion_matrix"
   ]
  },
  {
   "cell_type": "code",
   "execution_count": 44,
   "metadata": {},
   "outputs": [
    {
     "data": {
      "text/html": [
       "<style type=\"text/css\">\n",
       "#T_ffedd_row0_col1, #T_ffedd_row0_col2, #T_ffedd_row0_col3, #T_ffedd_row1_col1, #T_ffedd_row1_col2, #T_ffedd_row1_col3, #T_ffedd_row2_col1, #T_ffedd_row2_col2, #T_ffedd_row2_col3, #T_ffedd_row3_col1, #T_ffedd_row3_col2, #T_ffedd_row4_col1, #T_ffedd_row4_col2, #T_ffedd_row5_col1, #T_ffedd_row5_col2, #T_ffedd_row5_col3, #T_ffedd_row6_col1, #T_ffedd_row6_col2, #T_ffedd_row6_col3, #T_ffedd_row7_col1, #T_ffedd_row7_col2, #T_ffedd_row8_col1, #T_ffedd_row8_col2, #T_ffedd_row8_col3, #T_ffedd_row9_col1, #T_ffedd_row9_col2, #T_ffedd_row9_col3, #T_ffedd_row10_col1, #T_ffedd_row10_col2, #T_ffedd_row10_col3, #T_ffedd_row11_col1, #T_ffedd_row11_col2, #T_ffedd_row11_col3, #T_ffedd_row12_col1, #T_ffedd_row12_col2, #T_ffedd_row13_col1, #T_ffedd_row13_col2, #T_ffedd_row13_col3, #T_ffedd_row14_col1, #T_ffedd_row14_col2, #T_ffedd_row14_col3, #T_ffedd_row15_col1, #T_ffedd_row15_col2, #T_ffedd_row15_col3, #T_ffedd_row16_col1, #T_ffedd_row16_col2, #T_ffedd_row16_col3, #T_ffedd_row17_col1, #T_ffedd_row17_col2, #T_ffedd_row18_col1, #T_ffedd_row18_col2, #T_ffedd_row18_col3, #T_ffedd_row19_col1, #T_ffedd_row19_col2, #T_ffedd_row19_col3, #T_ffedd_row20_col1, #T_ffedd_row20_col2 {\n",
       "  background-color: #0c8a30;\n",
       "}\n",
       "#T_ffedd_row3_col3, #T_ffedd_row4_col3, #T_ffedd_row7_col3, #T_ffedd_row12_col3, #T_ffedd_row17_col3, #T_ffedd_row20_col3 {\n",
       "  background-color: #ba0202;\n",
       "}\n",
       "</style>\n",
       "<table id=\"T_ffedd\">\n",
       "  <thead>\n",
       "    <tr>\n",
       "      <th class=\"blank level0\" >&nbsp;</th>\n",
       "      <th id=\"T_ffedd_level0_col0\" class=\"col_heading level0 col0\" >predictor</th>\n",
       "      <th id=\"T_ffedd_level0_col1\" class=\"col_heading level0 col1\" >missing</th>\n",
       "      <th id=\"T_ffedd_level0_col2\" class=\"col_heading level0 col2\" >unique</th>\n",
       "      <th id=\"T_ffedd_level0_col3\" class=\"col_heading level0 col3\" >lowimp</th>\n",
       "    </tr>\n",
       "  </thead>\n",
       "  <tbody>\n",
       "    <tr>\n",
       "      <th id=\"T_ffedd_level0_row0\" class=\"row_heading level0 row0\" >0</th>\n",
       "      <td id=\"T_ffedd_row0_col0\" class=\"data row0 col0\" >atp</td>\n",
       "      <td id=\"T_ffedd_row0_col1\" class=\"data row0 col1\" >1</td>\n",
       "      <td id=\"T_ffedd_row0_col2\" class=\"data row0 col2\" >1</td>\n",
       "      <td id=\"T_ffedd_row0_col3\" class=\"data row0 col3\" >1</td>\n",
       "    </tr>\n",
       "    <tr>\n",
       "      <th id=\"T_ffedd_level0_row1\" class=\"row_heading level0 row1\" >1</th>\n",
       "      <td id=\"T_ffedd_row1_col0\" class=\"data row1 col0\" >location</td>\n",
       "      <td id=\"T_ffedd_row1_col1\" class=\"data row1 col1\" >1</td>\n",
       "      <td id=\"T_ffedd_row1_col2\" class=\"data row1 col2\" >1</td>\n",
       "      <td id=\"T_ffedd_row1_col3\" class=\"data row1 col3\" >1</td>\n",
       "    </tr>\n",
       "    <tr>\n",
       "      <th id=\"T_ffedd_level0_row2\" class=\"row_heading level0 row2\" >2</th>\n",
       "      <td id=\"T_ffedd_row2_col0\" class=\"data row2 col0\" >tournament</td>\n",
       "      <td id=\"T_ffedd_row2_col1\" class=\"data row2 col1\" >1</td>\n",
       "      <td id=\"T_ffedd_row2_col2\" class=\"data row2 col2\" >1</td>\n",
       "      <td id=\"T_ffedd_row2_col3\" class=\"data row2 col3\" >1</td>\n",
       "    </tr>\n",
       "    <tr>\n",
       "      <th id=\"T_ffedd_level0_row3\" class=\"row_heading level0 row3\" >3</th>\n",
       "      <td id=\"T_ffedd_row3_col0\" class=\"data row3 col0\" >series</td>\n",
       "      <td id=\"T_ffedd_row3_col1\" class=\"data row3 col1\" >1</td>\n",
       "      <td id=\"T_ffedd_row3_col2\" class=\"data row3 col2\" >1</td>\n",
       "      <td id=\"T_ffedd_row3_col3\" class=\"data row3 col3\" >0</td>\n",
       "    </tr>\n",
       "    <tr>\n",
       "      <th id=\"T_ffedd_level0_row4\" class=\"row_heading level0 row4\" >4</th>\n",
       "      <td id=\"T_ffedd_row4_col0\" class=\"data row4 col0\" >court</td>\n",
       "      <td id=\"T_ffedd_row4_col1\" class=\"data row4 col1\" >1</td>\n",
       "      <td id=\"T_ffedd_row4_col2\" class=\"data row4 col2\" >1</td>\n",
       "      <td id=\"T_ffedd_row4_col3\" class=\"data row4 col3\" >0</td>\n",
       "    </tr>\n",
       "    <tr>\n",
       "      <th id=\"T_ffedd_level0_row5\" class=\"row_heading level0 row5\" >5</th>\n",
       "      <td id=\"T_ffedd_row5_col0\" class=\"data row5 col0\" >surface</td>\n",
       "      <td id=\"T_ffedd_row5_col1\" class=\"data row5 col1\" >1</td>\n",
       "      <td id=\"T_ffedd_row5_col2\" class=\"data row5 col2\" >1</td>\n",
       "      <td id=\"T_ffedd_row5_col3\" class=\"data row5 col3\" >1</td>\n",
       "    </tr>\n",
       "    <tr>\n",
       "      <th id=\"T_ffedd_level0_row6\" class=\"row_heading level0 row6\" >6</th>\n",
       "      <td id=\"T_ffedd_row6_col0\" class=\"data row6 col0\" >round</td>\n",
       "      <td id=\"T_ffedd_row6_col1\" class=\"data row6 col1\" >1</td>\n",
       "      <td id=\"T_ffedd_row6_col2\" class=\"data row6 col2\" >1</td>\n",
       "      <td id=\"T_ffedd_row6_col3\" class=\"data row6 col3\" >1</td>\n",
       "    </tr>\n",
       "    <tr>\n",
       "      <th id=\"T_ffedd_level0_row7\" class=\"row_heading level0 row7\" >7</th>\n",
       "      <td id=\"T_ffedd_row7_col0\" class=\"data row7 col0\" >best of</td>\n",
       "      <td id=\"T_ffedd_row7_col1\" class=\"data row7 col1\" >1</td>\n",
       "      <td id=\"T_ffedd_row7_col2\" class=\"data row7 col2\" >1</td>\n",
       "      <td id=\"T_ffedd_row7_col3\" class=\"data row7 col3\" >0</td>\n",
       "    </tr>\n",
       "    <tr>\n",
       "      <th id=\"T_ffedd_level0_row8\" class=\"row_heading level0 row8\" >8</th>\n",
       "      <td id=\"T_ffedd_row8_col0\" class=\"data row8 col0\" >p1</td>\n",
       "      <td id=\"T_ffedd_row8_col1\" class=\"data row8 col1\" >1</td>\n",
       "      <td id=\"T_ffedd_row8_col2\" class=\"data row8 col2\" >1</td>\n",
       "      <td id=\"T_ffedd_row8_col3\" class=\"data row8 col3\" >1</td>\n",
       "    </tr>\n",
       "    <tr>\n",
       "      <th id=\"T_ffedd_level0_row9\" class=\"row_heading level0 row9\" >9</th>\n",
       "      <td id=\"T_ffedd_row9_col0\" class=\"data row9 col0\" >p2</td>\n",
       "      <td id=\"T_ffedd_row9_col1\" class=\"data row9 col1\" >1</td>\n",
       "      <td id=\"T_ffedd_row9_col2\" class=\"data row9 col2\" >1</td>\n",
       "      <td id=\"T_ffedd_row9_col3\" class=\"data row9 col3\" >1</td>\n",
       "    </tr>\n",
       "    <tr>\n",
       "      <th id=\"T_ffedd_level0_row10\" class=\"row_heading level0 row10\" >10</th>\n",
       "      <td id=\"T_ffedd_row10_col0\" class=\"data row10 col0\" >rank_p1</td>\n",
       "      <td id=\"T_ffedd_row10_col1\" class=\"data row10 col1\" >1</td>\n",
       "      <td id=\"T_ffedd_row10_col2\" class=\"data row10 col2\" >1</td>\n",
       "      <td id=\"T_ffedd_row10_col3\" class=\"data row10 col3\" >1</td>\n",
       "    </tr>\n",
       "    <tr>\n",
       "      <th id=\"T_ffedd_level0_row11\" class=\"row_heading level0 row11\" >11</th>\n",
       "      <td id=\"T_ffedd_row11_col0\" class=\"data row11 col0\" >rank_p2</td>\n",
       "      <td id=\"T_ffedd_row11_col1\" class=\"data row11 col1\" >1</td>\n",
       "      <td id=\"T_ffedd_row11_col2\" class=\"data row11 col2\" >1</td>\n",
       "      <td id=\"T_ffedd_row11_col3\" class=\"data row11 col3\" >1</td>\n",
       "    </tr>\n",
       "    <tr>\n",
       "      <th id=\"T_ffedd_level0_row12\" class=\"row_heading level0 row12\" >12</th>\n",
       "      <td id=\"T_ffedd_row12_col0\" class=\"data row12 col0\" >comment</td>\n",
       "      <td id=\"T_ffedd_row12_col1\" class=\"data row12 col1\" >1</td>\n",
       "      <td id=\"T_ffedd_row12_col2\" class=\"data row12 col2\" >1</td>\n",
       "      <td id=\"T_ffedd_row12_col3\" class=\"data row12 col3\" >0</td>\n",
       "    </tr>\n",
       "    <tr>\n",
       "      <th id=\"T_ffedd_level0_row13\" class=\"row_heading level0 row13\" >13</th>\n",
       "      <td id=\"T_ffedd_row13_col0\" class=\"data row13 col0\" >elo_p1</td>\n",
       "      <td id=\"T_ffedd_row13_col1\" class=\"data row13 col1\" >1</td>\n",
       "      <td id=\"T_ffedd_row13_col2\" class=\"data row13 col2\" >1</td>\n",
       "      <td id=\"T_ffedd_row13_col3\" class=\"data row13 col3\" >1</td>\n",
       "    </tr>\n",
       "    <tr>\n",
       "      <th id=\"T_ffedd_level0_row14\" class=\"row_heading level0 row14\" >14</th>\n",
       "      <td id=\"T_ffedd_row14_col0\" class=\"data row14 col0\" >elo_p2</td>\n",
       "      <td id=\"T_ffedd_row14_col1\" class=\"data row14 col1\" >1</td>\n",
       "      <td id=\"T_ffedd_row14_col2\" class=\"data row14 col2\" >1</td>\n",
       "      <td id=\"T_ffedd_row14_col3\" class=\"data row14 col3\" >1</td>\n",
       "    </tr>\n",
       "    <tr>\n",
       "      <th id=\"T_ffedd_level0_row15\" class=\"row_heading level0 row15\" >15</th>\n",
       "      <td id=\"T_ffedd_row15_col0\" class=\"data row15 col0\" >proba_elo</td>\n",
       "      <td id=\"T_ffedd_row15_col1\" class=\"data row15 col1\" >1</td>\n",
       "      <td id=\"T_ffedd_row15_col2\" class=\"data row15 col2\" >1</td>\n",
       "      <td id=\"T_ffedd_row15_col3\" class=\"data row15 col3\" >1</td>\n",
       "    </tr>\n",
       "    <tr>\n",
       "      <th id=\"T_ffedd_level0_row16\" class=\"row_heading level0 row16\" >16</th>\n",
       "      <td id=\"T_ffedd_row16_col0\" class=\"data row16 col0\" >year</td>\n",
       "      <td id=\"T_ffedd_row16_col1\" class=\"data row16 col1\" >1</td>\n",
       "      <td id=\"T_ffedd_row16_col2\" class=\"data row16 col2\" >1</td>\n",
       "      <td id=\"T_ffedd_row16_col3\" class=\"data row16 col3\" >1</td>\n",
       "    </tr>\n",
       "    <tr>\n",
       "      <th id=\"T_ffedd_level0_row17\" class=\"row_heading level0 row17\" >17</th>\n",
       "      <td id=\"T_ffedd_row17_col0\" class=\"data row17 col0\" >month</td>\n",
       "      <td id=\"T_ffedd_row17_col1\" class=\"data row17 col1\" >1</td>\n",
       "      <td id=\"T_ffedd_row17_col2\" class=\"data row17 col2\" >1</td>\n",
       "      <td id=\"T_ffedd_row17_col3\" class=\"data row17 col3\" >0</td>\n",
       "    </tr>\n",
       "    <tr>\n",
       "      <th id=\"T_ffedd_level0_row18\" class=\"row_heading level0 row18\" >18</th>\n",
       "      <td id=\"T_ffedd_row18_col0\" class=\"data row18 col0\" >day</td>\n",
       "      <td id=\"T_ffedd_row18_col1\" class=\"data row18 col1\" >1</td>\n",
       "      <td id=\"T_ffedd_row18_col2\" class=\"data row18 col2\" >1</td>\n",
       "      <td id=\"T_ffedd_row18_col3\" class=\"data row18 col3\" >1</td>\n",
       "    </tr>\n",
       "    <tr>\n",
       "      <th id=\"T_ffedd_level0_row19\" class=\"row_heading level0 row19\" >19</th>\n",
       "      <td id=\"T_ffedd_row19_col0\" class=\"data row19 col0\" >rank_diff</td>\n",
       "      <td id=\"T_ffedd_row19_col1\" class=\"data row19 col1\" >1</td>\n",
       "      <td id=\"T_ffedd_row19_col2\" class=\"data row19 col2\" >1</td>\n",
       "      <td id=\"T_ffedd_row19_col3\" class=\"data row19 col3\" >1</td>\n",
       "    </tr>\n",
       "    <tr>\n",
       "      <th id=\"T_ffedd_level0_row20\" class=\"row_heading level0 row20\" >20</th>\n",
       "      <td id=\"T_ffedd_row20_col0\" class=\"data row20 col0\" >best_ranked</td>\n",
       "      <td id=\"T_ffedd_row20_col1\" class=\"data row20 col1\" >1</td>\n",
       "      <td id=\"T_ffedd_row20_col2\" class=\"data row20 col2\" >1</td>\n",
       "      <td id=\"T_ffedd_row20_col3\" class=\"data row20 col3\" >0</td>\n",
       "    </tr>\n",
       "  </tbody>\n",
       "</table>\n"
      ],
      "text/plain": [
       "<pandas.io.formats.style.Styler at 0x13734777c70>"
      ]
     },
     "execution_count": 44,
     "metadata": {},
     "output_type": "execute_result"
    }
   ],
   "source": [
    "make_fs_summary(fs_model.named_steps[\"fs\"])"
   ]
  },
  {
   "cell_type": "code",
   "execution_count": 45,
   "metadata": {},
   "outputs": [
    {
     "data": {
      "text/html": [
       "<style>#sk-container-id-2 {color: black;background-color: white;}#sk-container-id-2 pre{padding: 0;}#sk-container-id-2 div.sk-toggleable {background-color: white;}#sk-container-id-2 label.sk-toggleable__label {cursor: pointer;display: block;width: 100%;margin-bottom: 0;padding: 0.3em;box-sizing: border-box;text-align: center;}#sk-container-id-2 label.sk-toggleable__label-arrow:before {content: \"▸\";float: left;margin-right: 0.25em;color: #696969;}#sk-container-id-2 label.sk-toggleable__label-arrow:hover:before {color: black;}#sk-container-id-2 div.sk-estimator:hover label.sk-toggleable__label-arrow:before {color: black;}#sk-container-id-2 div.sk-toggleable__content {max-height: 0;max-width: 0;overflow: hidden;text-align: left;background-color: #f0f8ff;}#sk-container-id-2 div.sk-toggleable__content pre {margin: 0.2em;color: black;border-radius: 0.25em;background-color: #f0f8ff;}#sk-container-id-2 input.sk-toggleable__control:checked~div.sk-toggleable__content {max-height: 200px;max-width: 100%;overflow: auto;}#sk-container-id-2 input.sk-toggleable__control:checked~label.sk-toggleable__label-arrow:before {content: \"▾\";}#sk-container-id-2 div.sk-estimator input.sk-toggleable__control:checked~label.sk-toggleable__label {background-color: #d4ebff;}#sk-container-id-2 div.sk-label input.sk-toggleable__control:checked~label.sk-toggleable__label {background-color: #d4ebff;}#sk-container-id-2 input.sk-hidden--visually {border: 0;clip: rect(1px 1px 1px 1px);clip: rect(1px, 1px, 1px, 1px);height: 1px;margin: -1px;overflow: hidden;padding: 0;position: absolute;width: 1px;}#sk-container-id-2 div.sk-estimator {font-family: monospace;background-color: #f0f8ff;border: 1px dotted black;border-radius: 0.25em;box-sizing: border-box;margin-bottom: 0.5em;}#sk-container-id-2 div.sk-estimator:hover {background-color: #d4ebff;}#sk-container-id-2 div.sk-parallel-item::after {content: \"\";width: 100%;border-bottom: 1px solid gray;flex-grow: 1;}#sk-container-id-2 div.sk-label:hover label.sk-toggleable__label {background-color: #d4ebff;}#sk-container-id-2 div.sk-serial::before {content: \"\";position: absolute;border-left: 1px solid gray;box-sizing: border-box;top: 0;bottom: 0;left: 50%;z-index: 0;}#sk-container-id-2 div.sk-serial {display: flex;flex-direction: column;align-items: center;background-color: white;padding-right: 0.2em;padding-left: 0.2em;position: relative;}#sk-container-id-2 div.sk-item {position: relative;z-index: 1;}#sk-container-id-2 div.sk-parallel {display: flex;align-items: stretch;justify-content: center;background-color: white;position: relative;}#sk-container-id-2 div.sk-item::before, #sk-container-id-2 div.sk-parallel-item::before {content: \"\";position: absolute;border-left: 1px solid gray;box-sizing: border-box;top: 0;bottom: 0;left: 50%;z-index: -1;}#sk-container-id-2 div.sk-parallel-item {display: flex;flex-direction: column;z-index: 1;position: relative;background-color: white;}#sk-container-id-2 div.sk-parallel-item:first-child::after {align-self: flex-end;width: 50%;}#sk-container-id-2 div.sk-parallel-item:last-child::after {align-self: flex-start;width: 50%;}#sk-container-id-2 div.sk-parallel-item:only-child::after {width: 0;}#sk-container-id-2 div.sk-dashed-wrapped {border: 1px dashed gray;margin: 0 0.4em 0.5em 0.4em;box-sizing: border-box;padding-bottom: 0.4em;background-color: white;}#sk-container-id-2 div.sk-label label {font-family: monospace;font-weight: bold;display: inline-block;line-height: 1.2em;}#sk-container-id-2 div.sk-label-container {text-align: center;}#sk-container-id-2 div.sk-container {/* jupyter's `normalize.less` sets `[hidden] { display: none; }` but bootstrap.min.css set `[hidden] { display: none !important; }` so we also need the `!important` here to be able to override the default hidden behavior on the sphinx rendered scikit-learn.org. See: https://github.com/scikit-learn/scikit-learn/issues/21755 */display: inline-block !important;position: relative;}#sk-container-id-2 div.sk-text-repr-fallback {display: none;}</style><div id=\"sk-container-id-2\" class=\"sk-top-container\"><div class=\"sk-text-repr-fallback\"><pre>VariableImportance(lgb_kwargs={&#x27;metric&#x27;: &#x27;binary&#x27;, &#x27;num_iterations&#x27;: 10,\n",
       "                               &#x27;objective&#x27;: &#x27;binary&#x27;, &#x27;verbosity&#x27;: -1,\n",
       "                               &#x27;zero_as_missing&#x27;: False},\n",
       "                   verbose=2)</pre><b>In a Jupyter environment, please rerun this cell to show the HTML representation or trust the notebook. <br />On GitHub, the HTML representation is unable to render, please try loading this page with nbviewer.org.</b></div><div class=\"sk-container\" hidden><div class=\"sk-item\"><div class=\"sk-estimator sk-toggleable\"><input class=\"sk-toggleable__control sk-hidden--visually\" id=\"sk-estimator-id-5\" type=\"checkbox\" checked><label for=\"sk-estimator-id-5\" class=\"sk-toggleable__label sk-toggleable__label-arrow\">VariableImportance</label><div class=\"sk-toggleable__content\"><pre>VariableImportance(lgb_kwargs={&#x27;metric&#x27;: &#x27;binary&#x27;, &#x27;num_iterations&#x27;: 10,\n",
       "                               &#x27;objective&#x27;: &#x27;binary&#x27;, &#x27;verbosity&#x27;: -1,\n",
       "                               &#x27;zero_as_missing&#x27;: False},\n",
       "                   verbose=2)</pre></div></div></div></div></div>"
      ],
      "text/plain": [
       "VariableImportance(lgb_kwargs={'metric': 'binary', 'num_iterations': 10,\n",
       "                               'objective': 'binary', 'verbosity': -1,\n",
       "                               'zero_as_missing': False},\n",
       "                   verbose=2)"
      ]
     },
     "execution_count": 45,
     "metadata": {},
     "output_type": "execute_result"
    }
   ],
   "source": [
    "fs_model.named_steps[\"fs\"][\"lowimp\"]"
   ]
  },
  {
   "cell_type": "code",
   "execution_count": 46,
   "metadata": {},
   "outputs": [
    {
     "data": {
      "image/png": "[encoded data removed]",
      "text/plain": [
       "<Figure size 800x666.667 with 2 Axes>"
      ]
     },
     "metadata": {},
     "output_type": "display_data"
    }
   ],
   "source": [
    "fs_model.named_steps[\"fs\"][\"lowimp\"].plot_importance(log=False, style=None)"
   ]
  },
  {
   "attachments": {},
   "cell_type": "markdown",
   "metadata": {},
   "source": [
    "### HPO"
   ]
  },
  {
   "cell_type": "code",
   "execution_count": 58,
   "metadata": {},
   "outputs": [
    {
     "name": "stderr",
     "output_type": "stream",
     "text": [
      "``multivariate`` option is an experimental feature. The interface can change in the future.\n"
     ]
    },
    {
     "name": "stdout",
     "output_type": "stream",
     "text": [
      "Optimizing hyper-parameter for max 3600 s\n",
      "Study not found or not provided, creating:\n",
      "C:/Users/xtbury/Documents/Projects/mlops_ds/hpo/hpo_steptuner_binary_study.joblib\n"
     ]
    },
    {
     "name": "stderr",
     "output_type": "stream",
     "text": [
      "feature_fraction, val_score: 0.692995: 100%|##########| 7/7 [00:01<00:00,  5.36it/s]\n",
      "num_leaves, val_score: 0.692812: 100%|##########| 20/20 [00:08<00:00,  2.26it/s]\n",
      "bagging, val_score: 0.692757: 100%|##########| 10/10 [00:01<00:00,  6.23it/s]\n",
      "feature_fraction_stage2, val_score: 0.692757: 100%|##########| 3/3 [00:00<00:00,  7.67it/s]\n",
      "regularization_factors, val_score: 0.692731: 100%|##########| 20/20 [00:03<00:00,  6.63it/s]\n",
      "min_data_in_leaf, val_score: 0.692695: 100%|##########| 5/5 [00:00<00:00,  7.65it/s]\n"
     ]
    },
    {
     "name": "stdout",
     "output_type": "stream",
     "text": [
      "Saving study to:     C:/Users/xtbury/Documents/Projects/mlops_ds/hpo/hpo_steptuner_binary_study.joblib\n",
      "Saving best params to:     C:/Users/xtbury/Documents/Projects/mlops_ds/hpo/hpo_steptuner_binary_best_params.json\n",
      "Fitting the model with params: \n",
      "    objective: binary\n",
      "    metric: binary_logloss\n",
      "    verbose: -1\n",
      "    feature_pre_filter: False\n",
      "    lambda_l1: 2.6975172405518486e-06\n",
      "    lambda_l2: 0.2748958623607287\n",
      "    num_leaves: 4\n",
      "    feature_fraction: 1.0\n",
      "    bagging_fraction: 0.9988934219153236\n",
      "    bagging_freq: 7\n",
      "    min_child_samples: 5\n",
      "Saving model as: C:/Users/xtbury/Documents/Projects/mlops_ds/hpo/hpo_steptuner_binary.joblib\n"
     ]
    },
    {
     "data": {
      "image/png": "[encoded data removed]",
      "text/plain": [
       "<Figure size 300x200 with 1 Axes>"
      ]
     },
     "metadata": {},
     "output_type": "display_data"
    }
   ],
   "source": [
    "from taco.automation.premium import (fit_modelling_pipeline,\n",
    "                                     get_columns_to_keep,\n",
    "                                     filter_negative_claim_amount,\n",
    "                                     create_pricing_targets,\n",
    "                                     random_split_train_test,\n",
    "                                     extract_variables)\n",
    "\n",
    "path_dic = {\"input\": \"C:/Users/xtbury/Documents/Projects/mlops_ds/hpo/\", \"output\": \"C:/Users/xtbury/Documents/Projects/mlops_ds/hpo/\", \"study\": \"C:/Users/xtbury/Documents/Projects/mlops_ds/hpo/\"}\n",
    "\n",
    "fitted_pipe = fit_modelling_pipeline(\n",
    "    X=X_train,\n",
    "    y=y_train,\n",
    "    sample_weight=None,\n",
    "    groups=None,\n",
    "    hpo=True,\n",
    "    model_type=\"gbm\",\n",
    "    objective=\"binary\",\n",
    "    task=\"binary\",\n",
    "    tweedie_power=1.5,\n",
    "    glm_ridge_param=2, # to be optmized\n",
    "    feature_selection=False,\n",
    "    save_path_dic=path_dic)\n",
    "\n",
    "# fitted_pipe.set_params(model=fitted_pipe.named_steps[\"model\"].model)"
   ]
  },
  {
   "cell_type": "code",
   "execution_count": 60,
   "metadata": {},
   "outputs": [
    {
     "data": {
      "text/html": [
       "<div>\n",
       "<style scoped>\n",
       "    .dataframe tbody tr th:only-of-type {\n",
       "        vertical-align: middle;\n",
       "    }\n",
       "\n",
       "    .dataframe tbody tr th {\n",
       "        vertical-align: top;\n",
       "    }\n",
       "\n",
       "    .dataframe thead th {\n",
       "        text-align: right;\n",
       "    }\n",
       "</style>\n",
       "<table border=\"1\" class=\"dataframe\">\n",
       "  <thead>\n",
       "    <tr style=\"text-align: right;\">\n",
       "      <th>Predicted</th>\n",
       "      <th>0</th>\n",
       "    </tr>\n",
       "    <tr>\n",
       "      <th>Actual</th>\n",
       "      <th></th>\n",
       "    </tr>\n",
       "  </thead>\n",
       "  <tbody>\n",
       "    <tr>\n",
       "      <th>0</th>\n",
       "      <td>7451</td>\n",
       "    </tr>\n",
       "    <tr>\n",
       "      <th>1</th>\n",
       "      <td>7451</td>\n",
       "    </tr>\n",
       "  </tbody>\n",
       "</table>\n",
       "</div>"
      ],
      "text/plain": [
       "Predicted     0\n",
       "Actual         \n",
       "0          7451\n",
       "1          7451"
      ]
     },
     "execution_count": 60,
     "metadata": {},
     "output_type": "execute_result"
    }
   ],
   "source": [
    "confusion_matrix = pd.crosstab(y_test, y_pred, rownames=['Actual'], colnames=['Predicted'])\n",
    "confusion_matrix"
   ]
  },
  {
   "cell_type": "code",
   "execution_count": 61,
   "metadata": {},
   "outputs": [
    {
     "name": "stdout",
     "output_type": "stream",
     "text": [
      "              precision    recall  f1-score   support\n",
      "\n",
      "      winner       0.51      0.38      0.44      7451\n",
      "       loser       0.51      0.64      0.57      7451\n",
      "\n",
      "    accuracy                           0.51     14902\n",
      "   macro avg       0.51      0.51      0.50     14902\n",
      "weighted avg       0.51      0.51      0.50     14902\n",
      "\n"
     ]
    }
   ],
   "source": [
    "y_pred = fitted_pipe.predict(X_test)\n",
    "target_names = [\"winner\", \"loser\"]\n",
    "print(classification_report(y_test, y_pred, target_names=target_names))"
   ]
  }
 ],
 "metadata": {
  "kernelspec": {
   "display_name": "sportbet",
   "language": "python",
   "name": "python3"
  },
  "language_info": {
   "codemirror_mode": {
    "name": "ipython",
    "version": 3
   },
   "file_extension": ".py",
   "mimetype": "text/x-python",
   "name": "python",
   "nbconvert_exporter": "python",
   "pygments_lexer": "ipython3",
   "version": "3.10.9"
  },
  "orig_nbformat": 4
 },
 "nbformat": 4,
 "nbformat_minor": 2
}
