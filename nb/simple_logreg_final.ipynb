{
 "cells": [
  {
   "cell_type": "code",
   "execution_count": 1,
   "id": "9bd931ba",
   "metadata": {},
   "outputs": [],
   "source": [
    "import pandas as pd\n",
    "from sklearn.model_selection import train_test_split, cross_val_score\n",
    "from sklearn.linear_model import LogisticRegression\n",
    "from sklearn.metrics import accuracy_score\n",
    "import seaborn as sns\n",
    "import matplotlib.pyplot as plt\n",
    "from sklearn.metrics import accuracy_score, precision_score, recall_score, f1_score, roc_auc_score, roc_curve, confusion_matrix"
   ]
  },
  {
   "cell_type": "code",
   "execution_count": 2,
   "id": "037ac5d2",
   "metadata": {},
   "outputs": [
    {
     "data": {
      "text/html": [
       "<div>\n",
       "<style scoped>\n",
       "    .dataframe tbody tr th:only-of-type {\n",
       "        vertical-align: middle;\n",
       "    }\n",
       "\n",
       "    .dataframe tbody tr th {\n",
       "        vertical-align: top;\n",
       "    }\n",
       "\n",
       "    .dataframe thead th {\n",
       "        text-align: right;\n",
       "    }\n",
       "</style>\n",
       "<table border=\"1\" class=\"dataframe\">\n",
       "  <thead>\n",
       "    <tr style=\"text-align: right;\">\n",
       "      <th></th>\n",
       "      <th>Date</th>\n",
       "      <th>Surface</th>\n",
       "      <th>Best of</th>\n",
       "      <th>Player0</th>\n",
       "      <th>Player1</th>\n",
       "      <th>0Rank</th>\n",
       "      <th>1Rank</th>\n",
       "      <th>PS0</th>\n",
       "      <th>PS1</th>\n",
       "      <th>B3650</th>\n",
       "      <th>B3651</th>\n",
       "      <th>elo_0</th>\n",
       "      <th>elo_1</th>\n",
       "      <th>winner</th>\n",
       "    </tr>\n",
       "  </thead>\n",
       "  <tbody>\n",
       "    <tr>\n",
       "      <th>0</th>\n",
       "      <td>2004-01-05</td>\n",
       "      <td>Hard</td>\n",
       "      <td>3</td>\n",
       "      <td>Kiefer N.</td>\n",
       "      <td>Ulihrach B.</td>\n",
       "      <td>58</td>\n",
       "      <td>246</td>\n",
       "      <td>1.719</td>\n",
       "      <td>2.210</td>\n",
       "      <td>1.615</td>\n",
       "      <td>2.200</td>\n",
       "      <td>1618.182210</td>\n",
       "      <td>1486.195239</td>\n",
       "      <td>1</td>\n",
       "    </tr>\n",
       "    <tr>\n",
       "      <th>1</th>\n",
       "      <td>2004-01-05</td>\n",
       "      <td>Hard</td>\n",
       "      <td>3</td>\n",
       "      <td>Schuettler R.</td>\n",
       "      <td>Youzhny M.</td>\n",
       "      <td>6</td>\n",
       "      <td>43</td>\n",
       "      <td>1.385</td>\n",
       "      <td>3.250</td>\n",
       "      <td>1.364</td>\n",
       "      <td>2.875</td>\n",
       "      <td>1820.759485</td>\n",
       "      <td>1615.057648</td>\n",
       "      <td>1</td>\n",
       "    </tr>\n",
       "    <tr>\n",
       "      <th>2</th>\n",
       "      <td>2004-01-05</td>\n",
       "      <td>Hard</td>\n",
       "      <td>3</td>\n",
       "      <td>Sargsian S.</td>\n",
       "      <td>Carraz G.</td>\n",
       "      <td>39</td>\n",
       "      <td>67</td>\n",
       "      <td>1.746</td>\n",
       "      <td>2.180</td>\n",
       "      <td>1.571</td>\n",
       "      <td>2.250</td>\n",
       "      <td>1654.468551</td>\n",
       "      <td>1588.330984</td>\n",
       "      <td>0</td>\n",
       "    </tr>\n",
       "    <tr>\n",
       "      <th>3</th>\n",
       "      <td>2004-01-05</td>\n",
       "      <td>Hard</td>\n",
       "      <td>3</td>\n",
       "      <td>Lisnard J.R.</td>\n",
       "      <td>Pless K.</td>\n",
       "      <td>97</td>\n",
       "      <td>440</td>\n",
       "      <td>1.562</td>\n",
       "      <td>2.580</td>\n",
       "      <td>1.571</td>\n",
       "      <td>2.250</td>\n",
       "      <td>1533.308961</td>\n",
       "      <td>1473.299803</td>\n",
       "      <td>0</td>\n",
       "    </tr>\n",
       "    <tr>\n",
       "      <th>4</th>\n",
       "      <td>2004-01-05</td>\n",
       "      <td>Hard</td>\n",
       "      <td>3</td>\n",
       "      <td>Portas A.</td>\n",
       "      <td>Levy H.</td>\n",
       "      <td>85</td>\n",
       "      <td>111</td>\n",
       "      <td>2.360</td>\n",
       "      <td>1.641</td>\n",
       "      <td>2.250</td>\n",
       "      <td>1.570</td>\n",
       "      <td>1418.621881</td>\n",
       "      <td>1401.283125</td>\n",
       "      <td>1</td>\n",
       "    </tr>\n",
       "    <tr>\n",
       "      <th>...</th>\n",
       "      <td>...</td>\n",
       "      <td>...</td>\n",
       "      <td>...</td>\n",
       "      <td>...</td>\n",
       "      <td>...</td>\n",
       "      <td>...</td>\n",
       "      <td>...</td>\n",
       "      <td>...</td>\n",
       "      <td>...</td>\n",
       "      <td>...</td>\n",
       "      <td>...</td>\n",
       "      <td>...</td>\n",
       "      <td>...</td>\n",
       "      <td>...</td>\n",
       "    </tr>\n",
       "    <tr>\n",
       "      <th>9995</th>\n",
       "      <td>2007-08-07</td>\n",
       "      <td>Hard</td>\n",
       "      <td>3</td>\n",
       "      <td>Grosjean S.</td>\n",
       "      <td>Youzhny M.</td>\n",
       "      <td>73</td>\n",
       "      <td>13</td>\n",
       "      <td>2.800</td>\n",
       "      <td>1.513</td>\n",
       "      <td>2.620</td>\n",
       "      <td>1.440</td>\n",
       "      <td>1608.225548</td>\n",
       "      <td>1779.257917</td>\n",
       "      <td>1</td>\n",
       "    </tr>\n",
       "    <tr>\n",
       "      <th>9996</th>\n",
       "      <td>2007-08-07</td>\n",
       "      <td>Hard</td>\n",
       "      <td>3</td>\n",
       "      <td>Canas G.</td>\n",
       "      <td>Mathieu P.H.</td>\n",
       "      <td>15</td>\n",
       "      <td>23</td>\n",
       "      <td>1.800</td>\n",
       "      <td>2.150</td>\n",
       "      <td>1.660</td>\n",
       "      <td>2.100</td>\n",
       "      <td>1800.385698</td>\n",
       "      <td>1820.656479</td>\n",
       "      <td>1</td>\n",
       "    </tr>\n",
       "    <tr>\n",
       "      <th>9997</th>\n",
       "      <td>2007-08-07</td>\n",
       "      <td>Hard</td>\n",
       "      <td>3</td>\n",
       "      <td>Odesnik W.</td>\n",
       "      <td>Ljubicic I.</td>\n",
       "      <td>182</td>\n",
       "      <td>11</td>\n",
       "      <td>4.850</td>\n",
       "      <td>1.235</td>\n",
       "      <td>4.500</td>\n",
       "      <td>1.160</td>\n",
       "      <td>1444.582060</td>\n",
       "      <td>1791.184091</td>\n",
       "      <td>0</td>\n",
       "    </tr>\n",
       "    <tr>\n",
       "      <th>9998</th>\n",
       "      <td>2007-08-07</td>\n",
       "      <td>Hard</td>\n",
       "      <td>3</td>\n",
       "      <td>Benneteau J.</td>\n",
       "      <td>Nieminen J.</td>\n",
       "      <td>59</td>\n",
       "      <td>27</td>\n",
       "      <td>2.800</td>\n",
       "      <td>1.513</td>\n",
       "      <td>2.620</td>\n",
       "      <td>1.440</td>\n",
       "      <td>1571.360070</td>\n",
       "      <td>1694.510434</td>\n",
       "      <td>1</td>\n",
       "    </tr>\n",
       "    <tr>\n",
       "      <th>9999</th>\n",
       "      <td>2007-08-08</td>\n",
       "      <td>Hard</td>\n",
       "      <td>3</td>\n",
       "      <td>Ancic M.</td>\n",
       "      <td>Mathieu P.H.</td>\n",
       "      <td>38</td>\n",
       "      <td>23</td>\n",
       "      <td>2.810</td>\n",
       "      <td>1.510</td>\n",
       "      <td>2.500</td>\n",
       "      <td>1.500</td>\n",
       "      <td>1806.569979</td>\n",
       "      <td>1835.724033</td>\n",
       "      <td>1</td>\n",
       "    </tr>\n",
       "  </tbody>\n",
       "</table>\n",
       "<p>10000 rows × 14 columns</p>\n",
       "</div>"
      ],
      "text/plain": [
       "           Date Surface  Best of        Player0       Player1  0Rank  1Rank   \n",
       "0    2004-01-05    Hard        3      Kiefer N.   Ulihrach B.     58    246  \\\n",
       "1    2004-01-05    Hard        3  Schuettler R.    Youzhny M.      6     43   \n",
       "2    2004-01-05    Hard        3    Sargsian S.     Carraz G.     39     67   \n",
       "3    2004-01-05    Hard        3   Lisnard J.R.      Pless K.     97    440   \n",
       "4    2004-01-05    Hard        3      Portas A.       Levy H.     85    111   \n",
       "...         ...     ...      ...            ...           ...    ...    ...   \n",
       "9995 2007-08-07    Hard        3    Grosjean S.    Youzhny M.     73     13   \n",
       "9996 2007-08-07    Hard        3       Canas G.  Mathieu P.H.     15     23   \n",
       "9997 2007-08-07    Hard        3     Odesnik W.   Ljubicic I.    182     11   \n",
       "9998 2007-08-07    Hard        3   Benneteau J.   Nieminen J.     59     27   \n",
       "9999 2007-08-08    Hard        3       Ancic M.  Mathieu P.H.     38     23   \n",
       "\n",
       "        PS0    PS1  B3650  B3651        elo_0        elo_1  winner  \n",
       "0     1.719  2.210  1.615  2.200  1618.182210  1486.195239       1  \n",
       "1     1.385  3.250  1.364  2.875  1820.759485  1615.057648       1  \n",
       "2     1.746  2.180  1.571  2.250  1654.468551  1588.330984       0  \n",
       "3     1.562  2.580  1.571  2.250  1533.308961  1473.299803       0  \n",
       "4     2.360  1.641  2.250  1.570  1418.621881  1401.283125       1  \n",
       "...     ...    ...    ...    ...          ...          ...     ...  \n",
       "9995  2.800  1.513  2.620  1.440  1608.225548  1779.257917       1  \n",
       "9996  1.800  2.150  1.660  2.100  1800.385698  1820.656479       1  \n",
       "9997  4.850  1.235  4.500  1.160  1444.582060  1791.184091       0  \n",
       "9998  2.800  1.513  2.620  1.440  1571.360070  1694.510434       1  \n",
       "9999  2.810  1.510  2.500  1.500  1806.569979  1835.724033       1  \n",
       "\n",
       "[10000 rows x 14 columns]"
      ]
     },
     "execution_count": 2,
     "metadata": {},
     "output_type": "execute_result"
    }
   ],
   "source": [
    "df = pd.read_csv(\"processed_results.csv\", low_memory=False)\n",
    "df['Date'] = pd.to_datetime(df['Date'])\n",
    "df.sort_values('Date')\n",
    "df.head(10000)"
   ]
  },
  {
   "cell_type": "code",
   "execution_count": 3,
   "id": "f9ee1d02",
   "metadata": {},
   "outputs": [
    {
     "data": {
      "text/plain": [
       "32343"
      ]
     },
     "execution_count": 3,
     "metadata": {},
     "output_type": "execute_result"
    }
   ],
   "source": [
    "len(df)"
   ]
  },
  {
   "cell_type": "code",
   "execution_count": 4,
   "id": "8dc74266",
   "metadata": {},
   "outputs": [],
   "source": [
    "#leaving around 15% of data out of the model for later model retraining\n",
    "model_data = df[:27500]\n",
    "later_update_data = df[27500:]"
   ]
  },
  {
   "cell_type": "code",
   "execution_count": 5,
   "id": "e1e7f2a4",
   "metadata": {},
   "outputs": [],
   "source": [
    "X = model_data.drop(['Date', 'Surface', 'Player0' , 'Player1', 'winner' ], axis=1)\n",
    "y = model_data['winner']\n",
    "X_train, X_test, y_train, y_test = train_test_split(X, y, test_size=0.2, random_state=42)\n",
    "model = LogisticRegression()\n",
    "model.fit(X_train, y_train)\n",
    "y_pred = model.predict(X_test)"
   ]
  },
  {
   "cell_type": "code",
   "execution_count": 6,
   "id": "b0dbdd58",
   "metadata": {},
   "outputs": [
    {
     "name": "stdout",
     "output_type": "stream",
     "text": [
      "Accuracy: 0.7003636363636364\n"
     ]
    }
   ],
   "source": [
    "accuracy = accuracy_score(y_test, y_pred)\n",
    "print(\"Accuracy:\", accuracy)"
   ]
  },
  {
   "cell_type": "code",
   "execution_count": 7,
   "id": "1f8ebe6e",
   "metadata": {},
   "outputs": [
    {
     "name": "stdout",
     "output_type": "stream",
     "text": [
      "Fold 1: Accuracy = 0.6905454545454546\n",
      "Fold 2: Accuracy = 0.7052727272727273\n",
      "Fold 3: Accuracy = 0.708\n",
      "Fold 4: Accuracy = 0.7154545454545455\n",
      "Fold 5: Accuracy = 0.7067272727272728\n",
      "Average Accuracy: 0.7051999999999999\n"
     ]
    }
   ],
   "source": [
    "# Added KFold to check overfitting\n",
    "k = 5\n",
    "scores = cross_val_score(model, X, y, cv=k, scoring='accuracy')\n",
    "\n",
    "for fold_idx, score in enumerate(scores):\n",
    "    print(f\"Fold {fold_idx + 1}: Accuracy = {score}\")\n",
    "\n",
    "average_score = scores.mean()\n",
    "print(\"Average Accuracy:\", average_score)"
   ]
  },
  {
   "cell_type": "code",
   "execution_count": 8,
   "id": "a9c0b681",
   "metadata": {},
   "outputs": [
    {
     "data": {
      "image/png": "[encoded data removed]",
      "text/plain": [
       "<Figure size 600x400 with 2 Axes>"
      ]
     },
     "metadata": {},
     "output_type": "display_data"
    }
   ],
   "source": [
    "# Plotting confusion matrix\n",
    "cm = confusion_matrix(y_test, y_pred)\n",
    "\n",
    "cm_df = pd.DataFrame(cm, index=['Actual 0', 'Actual 1'], columns=['Predicted 0', 'Predicted 1'])\n",
    "\n",
    "plt.figure(figsize=(6, 4))\n",
    "sns.heatmap(cm_df, annot=True, fmt='d', cmap='Blues')\n",
    "plt.title('Confusion Matrix')\n",
    "plt.xlabel('Predicted')\n",
    "plt.ylabel('Actual')\n",
    "plt.show()"
   ]
  },
  {
   "cell_type": "code",
   "execution_count": 9,
   "id": "c2edb012",
   "metadata": {},
   "outputs": [
    {
     "name": "stdout",
     "output_type": "stream",
     "text": [
      "Accuracy: 0.7003636363636364\n",
      "Precision: 0.7078066914498141\n",
      "Recall: 0.6883586406362979\n",
      "F1-score: 0.6979472140762463\n",
      "ROC AUC: 0.7004338923737452\n"
     ]
    },
    {
     "data": {
      "image/png": "[encoded data removed]",
      "text/plain": [
       "<Figure size 640x480 with 1 Axes>"
      ]
     },
     "metadata": {},
     "output_type": "display_data"
    }
   ],
   "source": [
    "#Other eval metrics\n",
    "accuracy = accuracy_score(y_test, y_pred)\n",
    "precision = precision_score(y_test, y_pred)\n",
    "recall = recall_score(y_test, y_pred)\n",
    "f1 = f1_score(y_test, y_pred)\n",
    "roc_auc = roc_auc_score(y_test, y_pred)\n",
    "\n",
    "print(\"Accuracy:\", accuracy)\n",
    "print(\"Precision:\", precision)\n",
    "print(\"Recall:\", recall)\n",
    "print(\"F1-score:\", f1)\n",
    "print(\"ROC AUC:\", roc_auc)\n",
    "\n",
    "fpr, tpr, thresholds = roc_curve(y_test, y_pred)\n",
    "plt.plot(fpr, tpr, label='ROC Curve')\n",
    "plt.plot([0, 1], [0, 1], 'k--', label='Random')\n",
    "plt.xlabel('FP')\n",
    "plt.ylabel('TP')\n",
    "plt.title('ROC')\n",
    "plt.legend()\n",
    "plt.show()"
   ]
  },
  {
   "cell_type": "code",
   "execution_count": null,
   "id": "76295cd5",
   "metadata": {},
   "outputs": [],
   "source": []
  }
 ],
 "metadata": {
  "kernelspec": {
   "display_name": "Python 3 (ipykernel)",
   "language": "python",
   "name": "python3"
  },
  "language_info": {
   "codemirror_mode": {
    "name": "ipython",
    "version": 3
   },
   "file_extension": ".py",
   "mimetype": "text/x-python",
   "name": "python",
   "nbconvert_exporter": "python",
   "pygments_lexer": "ipython3",
   "version": "3.9.16"
  }
 },
 "nbformat": 4,
 "nbformat_minor": 5
}
